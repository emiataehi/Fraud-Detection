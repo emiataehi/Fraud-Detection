{
 "cells": [
  {
   "cell_type": "code",
   "execution_count": 1,
   "id": "b8057e8a",
   "metadata": {},
   "outputs": [
    {
     "name": "stdout",
     "output_type": "stream",
     "text": [
      "Requirement already satisfied: imbalanced-learn in c:\\users\\administrator\\anaconda3\\envs\\fraud_env\\lib\\site-packages (0.14.0)\n",
      "Requirement already satisfied: numpy<3,>=1.25.2 in c:\\users\\administrator\\anaconda3\\envs\\fraud_env\\lib\\site-packages (from imbalanced-learn) (2.3.3)\n",
      "Requirement already satisfied: scipy<2,>=1.11.4 in c:\\users\\administrator\\anaconda3\\envs\\fraud_env\\lib\\site-packages (from imbalanced-learn) (1.16.2)\n",
      "Requirement already satisfied: scikit-learn<2,>=1.4.2 in c:\\users\\administrator\\anaconda3\\envs\\fraud_env\\lib\\site-packages (from imbalanced-learn) (1.7.2)\n",
      "Requirement already satisfied: joblib<2,>=1.2.0 in c:\\users\\administrator\\anaconda3\\envs\\fraud_env\\lib\\site-packages (from imbalanced-learn) (1.5.2)\n",
      "Requirement already satisfied: threadpoolctl<4,>=2.0.0 in c:\\users\\administrator\\anaconda3\\envs\\fraud_env\\lib\\site-packages (from imbalanced-learn) (3.5.0)\n"
     ]
    }
   ],
   "source": [
    "!pip install imbalanced-learn"
   ]
  },
  {
   "cell_type": "code",
   "execution_count": 2,
   "id": "e74f7342",
   "metadata": {},
   "outputs": [],
   "source": [
    "import pandas as pd\n",
    "import numpy as np\n",
    "import matplotlib.pyplot as plt\n",
    "import seaborn as sns\n",
    "\n",
    "# Modeling libraries\n",
    "from sklearn.model_selection import train_test_split\n",
    "from sklearn.preprocessing import StandardScaler\n",
    "from sklearn.linear_model import LogisticRegression\n",
    "from sklearn.ensemble import RandomForestClassifier\n",
    "from sklearn.metrics import (\n",
    "    classification_report, \n",
    "    confusion_matrix, \n",
    "    roc_auc_score, \n",
    "    roc_curve,\n",
    "    precision_recall_curve\n",
    ")\n",
    "\n",
    "# For handling imbalance\n",
    "from imblearn.over_sampling import SMOTE"
   ]
  },
  {
   "cell_type": "code",
   "execution_count": 3,
   "id": "528b54c7",
   "metadata": {},
   "outputs": [],
   "source": [
    "df_Transaction = pd.read_csv('C:/Users/Administrator/Desktop/fraud-detection/data/processed/fraud_data_engineered.csv')"
   ]
  },
  {
   "cell_type": "code",
   "execution_count": 4,
   "id": "e6766d85",
   "metadata": {},
   "outputs": [
    {
     "name": "stdout",
     "output_type": "stream",
     "text": [
      "['TransactionID', 'isFraud', 'TransactionDT', 'TransactionAmt', 'card1', 'card2', 'card3', 'card5', 'addr1', 'addr2', 'dist1', 'dist2', 'P_emaildomain', 'R_emaildomain', 'C1', 'C2', 'C3', 'C4', 'C5', 'C6', 'C7', 'C8', 'C9', 'C10', 'C11', 'C12', 'C13', 'C14', 'D1', 'D2', 'D3', 'D4', 'D5', 'D6', 'D7', 'D8', 'D9', 'D10', 'D11', 'D12', 'D13', 'D14', 'D15', 'M1', 'M2', 'M3', 'M4', 'M5', 'M6', 'M7', 'M8', 'M9', 'V1', 'V2', 'V3', 'V4', 'V5', 'V6', 'V7', 'V8', 'V9', 'V10', 'V11', 'V12', 'V13', 'V14', 'V15', 'V16', 'V17', 'V18', 'V19', 'V20', 'V21', 'V22', 'V23', 'V24', 'V25', 'V26', 'V27', 'V28', 'V29', 'V30', 'V31', 'V32', 'V33', 'V34', 'V35', 'V36', 'V37', 'V38', 'V39', 'V40', 'V41', 'V42', 'V43', 'V44', 'V45', 'V46', 'V47', 'V48', 'V49', 'V50', 'V51', 'V52', 'V53', 'V54', 'V55', 'V56', 'V57', 'V58', 'V59', 'V60', 'V61', 'V62', 'V63', 'V64', 'V65', 'V66', 'V67', 'V68', 'V69', 'V70', 'V71', 'V72', 'V73', 'V74', 'V75', 'V76', 'V77', 'V78', 'V79', 'V80', 'V81', 'V82', 'V83', 'V84', 'V85', 'V86', 'V87', 'V88', 'V89', 'V90', 'V91', 'V92', 'V93', 'V94', 'V95', 'V96', 'V97', 'V98', 'V99', 'V100', 'V101', 'V102', 'V103', 'V104', 'V105', 'V106', 'V107', 'V108', 'V109', 'V110', 'V111', 'V112', 'V113', 'V114', 'V115', 'V116', 'V117', 'V118', 'V119', 'V120', 'V121', 'V122', 'V123', 'V124', 'V125', 'V126', 'V127', 'V128', 'V129', 'V130', 'V131', 'V132', 'V133', 'V134', 'V135', 'V136', 'V137', 'V138', 'V139', 'V140', 'V141', 'V142', 'V143', 'V144', 'V145', 'V146', 'V147', 'V148', 'V149', 'V150', 'V151', 'V152', 'V153', 'V154', 'V155', 'V156', 'V157', 'V158', 'V159', 'V160', 'V161', 'V162', 'V163', 'V164', 'V165', 'V166', 'V167', 'V168', 'V169', 'V170', 'V171', 'V172', 'V173', 'V174', 'V175', 'V176', 'V177', 'V178', 'V179', 'V180', 'V181', 'V182', 'V183', 'V184', 'V185', 'V186', 'V187', 'V188', 'V189', 'V190', 'V191', 'V192', 'V193', 'V194', 'V195', 'V196', 'V197', 'V198', 'V199', 'V200', 'V201', 'V202', 'V203', 'V204', 'V205', 'V206', 'V207', 'V208', 'V209', 'V210', 'V211', 'V212', 'V213', 'V214', 'V215', 'V216', 'V217', 'V218', 'V219', 'V220', 'V221', 'V222', 'V223', 'V224', 'V225', 'V226', 'V227', 'V228', 'V229', 'V230', 'V231', 'V232', 'V233', 'V234', 'V235', 'V236', 'V237', 'V238', 'V239', 'V240', 'V241', 'V242', 'V243', 'V244', 'V245', 'V246', 'V247', 'V248', 'V249', 'V250', 'V251', 'V252', 'V253', 'V254', 'V255', 'V256', 'V257', 'V258', 'V259', 'V260', 'V261', 'V262', 'V263', 'V264', 'V265', 'V266', 'V267', 'V268', 'V269', 'V270', 'V271', 'V272', 'V273', 'V274', 'V275', 'V276', 'V277', 'V278', 'V279', 'V280', 'V281', 'V282', 'V283', 'V284', 'V285', 'V286', 'V287', 'V288', 'V289', 'V290', 'V291', 'V292', 'V293', 'V294', 'V295', 'V296', 'V297', 'V298', 'V299', 'V300', 'V301', 'V302', 'V303', 'V304', 'V305', 'V306', 'V307', 'V308', 'V309', 'V310', 'V311', 'V312', 'V313', 'V314', 'V315', 'V316', 'V317', 'V318', 'V319', 'V320', 'V321', 'V322', 'V323', 'V324', 'V325', 'V326', 'V327', 'V328', 'V329', 'V330', 'V331', 'V332', 'V333', 'V334', 'V335', 'V336', 'V337', 'V338', 'V339', 'D7_is_missing', 'D4_is_missing', 'D5_is_missing', 'D6_is_missing', 'D8_is_missing', 'D9_is_missing', 'D12_is_missing', 'D13_is_missing', 'D14_is_missing', 'amount_category', 'amount_risk_score', 'P_email_risk', 'email_match', 'P_email_missing', 'product_risk_score', 'is_product_c', 'card_type_risk', 'card_brand_risk', 'is_credit_card', 'datetime', 'hour', 'day_of_week', 'is_weekend', 'hour_risk_score', 'day_risk_score', 'temporal_risk_score', 'temporal_risk_category', 'productC_risky_hours', 'small_amount_early_morning', 'risky_email_credit', 'risky_product_C_amount', 'combined_risk_score', 'Product_H', 'Product_R', 'Product_S', 'Product_W', 'CardBrand_discover', 'CardBrand_mastercard', 'CardBrand_visa', 'CardType_credit', 'CardType_debit', 'CardType_debit or credit']\n"
     ]
    }
   ],
   "source": [
    "print(df_Transaction.columns.tolist())  # Display first 10 columns"
   ]
  },
  {
   "cell_type": "code",
   "execution_count": 5,
   "id": "2ab23ddb",
   "metadata": {},
   "outputs": [
    {
     "data": {
      "text/plain": [
       "(100000, 433)"
      ]
     },
     "execution_count": 5,
     "metadata": {},
     "output_type": "execute_result"
    }
   ],
   "source": [
    "df_Transaction.shape"
   ]
  },
  {
   "cell_type": "markdown",
   "id": "b92aa7fe",
   "metadata": {},
   "source": [
    "## Feature Selection"
   ]
  },
  {
   "cell_type": "markdown",
   "id": "793f1a58",
   "metadata": {},
   "source": [
    "#### Dropping columns not needed for modeling"
   ]
  },
  {
   "cell_type": "code",
   "execution_count": 6,
   "id": "3d338f49",
   "metadata": {},
   "outputs": [],
   "source": [
    "# Drop columns not needed for modeling\n",
    "columns_to_drop = [\n",
    "    'TransactionID', 'TransactionDT', 'datetime', \n",
    "    'P_emaildomain', 'R_emaildomain',\n",
    "    'amount_category', 'temporal_risk_category'\n",
    "]\n",
    "\n",
    "# Check which columns actually exist in df\n",
    "columns_to_drop = [col for col in columns_to_drop if col in df_Transaction.columns]\n",
    "\n",
    "df_model = df_Transaction.drop(columns=columns_to_drop)"
   ]
  },
  {
   "cell_type": "code",
   "execution_count": 7,
   "id": "46efbd9d",
   "metadata": {},
   "outputs": [
    {
     "data": {
      "text/plain": [
       "(100000, 426)"
      ]
     },
     "execution_count": 7,
     "metadata": {},
     "output_type": "execute_result"
    }
   ],
   "source": [
    "df_model.shape"
   ]
  },
  {
   "cell_type": "markdown",
   "id": "794d5514",
   "metadata": {},
   "source": [
    "## Creating features and target"
   ]
  },
  {
   "cell_type": "code",
   "execution_count": 8,
   "id": "006ce320",
   "metadata": {},
   "outputs": [],
   "source": [
    "# Separate features and target\n",
    "X = df_model.drop('isFraud', axis=1)\n",
    "y = df_model['isFraud']"
   ]
  },
  {
   "cell_type": "code",
   "execution_count": 9,
   "id": "2e4a2d52",
   "metadata": {},
   "outputs": [
    {
     "data": {
      "text/plain": [
       "((100000, 425), (100000,))"
      ]
     },
     "execution_count": 9,
     "metadata": {},
     "output_type": "execute_result"
    }
   ],
   "source": [
    "X.shape, y.shape"
   ]
  },
  {
   "cell_type": "markdown",
   "id": "09aeff12",
   "metadata": {},
   "source": [
    "## Train/Test Split (Stratified)"
   ]
  },
  {
   "cell_type": "code",
   "execution_count": 10,
   "id": "2560c7f6",
   "metadata": {},
   "outputs": [],
   "source": [
    "# Stratified split to maintain 2.56% fraud rate in both sets\n",
    "X_train, X_test, y_train, y_test = train_test_split(\n",
    "    X, y, \n",
    "    test_size=0.2, \n",
    "    random_state=42, \n",
    "    stratify=y\n",
    ")"
   ]
  },
  {
   "cell_type": "code",
   "execution_count": 11,
   "id": "2455f86b",
   "metadata": {},
   "outputs": [
    {
     "data": {
      "text/plain": [
       "((80000, 425), (20000, 425), np.float64(0.0256125), np.float64(0.0256))"
      ]
     },
     "execution_count": 11,
     "metadata": {},
     "output_type": "execute_result"
    }
   ],
   "source": [
    "# Verify split maintained fraud rate\n",
    "X_train.shape, X_test.shape, y_train.mean(), y_test.mean()"
   ]
  },
  {
   "cell_type": "code",
   "execution_count": 12,
   "id": "9bf6dfb0",
   "metadata": {},
   "outputs": [
    {
     "data": {
      "text/plain": [
       "np.int64(12364643)"
      ]
     },
     "execution_count": 12,
     "metadata": {},
     "output_type": "execute_result"
    }
   ],
   "source": [
    "# Check for missing values\n",
    "X_train.isna().sum().sum()"
   ]
  },
  {
   "cell_type": "code",
   "execution_count": 13,
   "id": "c52fbca2",
   "metadata": {},
   "outputs": [
    {
     "data": {
      "text/plain": [
       "np.int64(3105454)"
      ]
     },
     "execution_count": 13,
     "metadata": {},
     "output_type": "execute_result"
    }
   ],
   "source": [
    "X_test.isna().sum().sum()"
   ]
  },
  {
   "cell_type": "code",
   "execution_count": 14,
   "id": "d98358d4",
   "metadata": {},
   "outputs": [],
   "source": [
    "\n",
    "missing_train = X_train.isna().sum() / len(X_train) * 100"
   ]
  },
  {
   "cell_type": "code",
   "execution_count": 15,
   "id": "a371c37b",
   "metadata": {},
   "outputs": [
    {
     "data": {
      "text/plain": [
       "D7       93.85250\n",
       "dist2    91.67500\n",
       "D13      90.39375\n",
       "D12      89.43000\n",
       "D14      88.70250\n",
       "D6       87.17375\n",
       "M8       83.96250\n",
       "M9       83.96250\n",
       "M7       83.96250\n",
       "D8       78.19500\n",
       "D9       78.19500\n",
       "V9       71.16375\n",
       "V11      71.16375\n",
       "V1       71.16375\n",
       "V2       71.16375\n",
       "V3       71.16375\n",
       "V10      71.16375\n",
       "V7       71.16375\n",
       "V6       71.16375\n",
       "V4       71.16375\n",
       "dtype: float64"
      ]
     },
     "execution_count": 15,
     "metadata": {},
     "output_type": "execute_result"
    }
   ],
   "source": [
    "missing_train = missing_train[missing_train > 0].sort_values(ascending=False)\n",
    "\n",
    "missing_train.head(20)"
   ]
  },
  {
   "cell_type": "code",
   "execution_count": 16,
   "id": "cbce414f",
   "metadata": {},
   "outputs": [
    {
     "name": "stdout",
     "output_type": "stream",
     "text": [
      "['D7', 'dist2', 'D13', 'D12', 'D14', 'D6', 'M8', 'M9', 'M7', 'D8', 'D9', 'V9', 'V11', 'V1', 'V2', 'V3', 'V10', 'V7', 'V6', 'V4', 'V8', 'V5', 'D11', 'dist1', 'M5', 'M1', 'M3', 'M2', 'V154', 'V155', 'V153', 'V151', 'V166', 'V165', 'V164', 'V163', 'V162', 'V161', 'V160', 'V159', 'V158', 'V152', 'V157', 'V150', 'V149', 'V156', 'V148', 'V147', 'V146', 'V145', 'V144', 'V143', 'V142', 'V141', 'V140', 'V139', 'V138', 'V339', 'V327', 'V322', 'V331', 'V338', 'V337', 'V336', 'V335', 'V323', 'V333', 'V332', 'V334', 'V330', 'V329', 'V328', 'V326', 'V325', 'V324', 'D5', 'V229', 'V217', 'V218', 'V219', 'V223', 'V224', 'V225', 'V226', 'V228', 'V233', 'V230', 'V231', 'V243', 'V244', 'V246', 'V247', 'V248', 'V249', 'V252', 'V253', 'V254', 'V257', 'V258', 'V260', 'V261', 'V262', 'V263', 'V264', 'V265', 'V266', 'V267', 'V268', 'V269', 'V273', 'V274', 'V275', 'V276', 'V277', 'V278', 'V242', 'V241', 'V235', 'V240', 'V237', 'V236', 'V232', 'V193', 'V212', 'V213', 'V214', 'V215', 'V216', 'V177', 'V210', 'V186', 'V185', 'V184', 'V183', 'V182', 'V181', 'V180', 'V179', 'V211', 'V209', 'V192', 'V208', 'V191', 'V190', 'V189', 'V188', 'V187', 'V194', 'V195', 'V196', 'V197', 'V198', 'V199', 'V200', 'V201', 'V202', 'V203', 'V204', 'V205', 'V206', 'V207', 'V178', 'V171', 'V176', 'V170', 'V168', 'V169', 'V167', 'V172', 'V173', 'V174', 'V175', 'V220', 'V255', 'V227', 'V234', 'V238', 'V239', 'V245', 'V250', 'V251', 'V222', 'V221', 'V259', 'V270', 'V272', 'V256', 'V271', 'D2', 'M4', 'D3', 'V37', 'V48', 'V52', 'V51', 'V50', 'V49', 'V46', 'V47', 'V45', 'V44', 'V43', 'V42', 'V41', 'V40', 'V35', 'V36', 'V39', 'V38', 'D4', 'M6', 'V77', 'V82', 'V76', 'V91', 'V78', 'V79', 'V80', 'V81', 'V84', 'V83', 'V92', 'V85', 'V86', 'V87', 'V88', 'V89', 'V75', 'V90', 'V94', 'V93', 'D15', 'V23', 'V25', 'V26', 'V27', 'V28', 'V29', 'V30', 'V31', 'V32', 'V33', 'V34', 'V24', 'V12', 'V13', 'V14', 'V15', 'V16', 'V17', 'V18', 'V19', 'V20', 'V22', 'V21', 'D10', 'V60', 'V61', 'V74', 'V73', 'V66', 'V65', 'V64', 'V63', 'V53', 'V54', 'V55', 'V56', 'V57', 'V62', 'V58', 'V59', 'V68', 'V69', 'V70', 'V71', 'V72', 'V67', 'addr2', 'addr1', 'card2', 'card5', 'V303', 'V304', 'V279', 'V280', 'V284', 'V285', 'V286', 'V287', 'V290', 'V291', 'V292', 'V293', 'V294', 'V295', 'V297', 'V298', 'V299', 'V321', 'V305', 'V306', 'V307', 'V302', 'V309', 'V310', 'V311', 'V312', 'V316', 'V317', 'V318', 'V319', 'V320', 'V308', 'card3']\n"
     ]
    }
   ],
   "source": [
    "print(missing_train.index.tolist())"
   ]
  },
  {
   "cell_type": "code",
   "execution_count": 17,
   "id": "363e6cb8",
   "metadata": {},
   "outputs": [
    {
     "data": {
      "text/plain": [
       "dtype('float64')"
      ]
     },
     "execution_count": 17,
     "metadata": {},
     "output_type": "execute_result"
    }
   ],
   "source": [
    "missing_train.dtype"
   ]
  },
  {
   "cell_type": "markdown",
   "id": "22d17f20",
   "metadata": {},
   "source": [
    "### Median Imputation"
   ]
  },
  {
   "cell_type": "code",
   "execution_count": 18,
   "id": "2b30481c",
   "metadata": {},
   "outputs": [],
   "source": [
    "# Get the list of columns with missing values\n",
    "cols_to_fill = missing_train.index.tolist()"
   ]
  },
  {
   "cell_type": "code",
   "execution_count": 19,
   "id": "1c92d062",
   "metadata": {},
   "outputs": [],
   "source": [
    "# Fill numeric and non-numeric separately\n",
    "for col in cols_to_fill:\n",
    "    if col in X_train.columns:\n",
    "        if X_train[col].dtype in ['float64', 'int64', 'float32', 'int32']:\n",
    "            # Numeric: use median\n",
    "            median_val = X_train[col].median()\n",
    "            X_train[col] = X_train[col].fillna(median_val)\n",
    "            X_test[col] = X_test[col].fillna(median_val)\n",
    "        else:\n",
    "            # Non-numeric: use 0 or mode\n",
    "            X_train[col] = X_train[col].fillna(0)\n",
    "            X_test[col] = X_test[col].fillna(0)"
   ]
  },
  {
   "cell_type": "code",
   "execution_count": 20,
   "id": "06c25216",
   "metadata": {},
   "outputs": [
    {
     "data": {
      "text/plain": [
       "(np.int64(0), np.int64(0))"
      ]
     },
     "execution_count": 20,
     "metadata": {},
     "output_type": "execute_result"
    }
   ],
   "source": [
    "# Verify\n",
    "X_train.isna().sum().sum(), X_test.isna().sum().sum()"
   ]
  },
  {
   "cell_type": "code",
   "execution_count": 21,
   "id": "43384d16",
   "metadata": {},
   "outputs": [
    {
     "data": {
      "text/plain": [
       "(np.False_, np.False_)"
      ]
     },
     "execution_count": 21,
     "metadata": {},
     "output_type": "execute_result"
    }
   ],
   "source": [
    "X_train.isnull().values.any(), X_test.isnull().values.any()"
   ]
  },
  {
   "cell_type": "code",
   "execution_count": 22,
   "id": "768c8df8",
   "metadata": {},
   "outputs": [
    {
     "name": "stdout",
     "output_type": "stream",
     "text": [
      "Object columns: ['M1', 'M2', 'M3', 'M4', 'M5', 'M6', 'M7', 'M8', 'M9']\n"
     ]
    }
   ],
   "source": [
    "# Find ALL object type columns\n",
    "object_cols = X_train.select_dtypes(include='object').columns.tolist()\n",
    "print(f\"Object columns: {object_cols}\")"
   ]
  },
  {
   "cell_type": "code",
   "execution_count": 23,
   "id": "d180b480",
   "metadata": {},
   "outputs": [],
   "source": [
    "missing_m_cols = X_train.select_dtypes(include='object')"
   ]
  },
  {
   "cell_type": "code",
   "execution_count": 24,
   "id": "828b928d",
   "metadata": {},
   "outputs": [
    {
     "data": {
      "text/html": [
       "<div>\n",
       "<style scoped>\n",
       "    .dataframe tbody tr th:only-of-type {\n",
       "        vertical-align: middle;\n",
       "    }\n",
       "\n",
       "    .dataframe tbody tr th {\n",
       "        vertical-align: top;\n",
       "    }\n",
       "\n",
       "    .dataframe thead th {\n",
       "        text-align: right;\n",
       "    }\n",
       "</style>\n",
       "<table border=\"1\" class=\"dataframe\">\n",
       "  <thead>\n",
       "    <tr style=\"text-align: right;\">\n",
       "      <th></th>\n",
       "      <th>M1</th>\n",
       "      <th>M2</th>\n",
       "      <th>M3</th>\n",
       "      <th>M4</th>\n",
       "      <th>M5</th>\n",
       "      <th>M6</th>\n",
       "      <th>M7</th>\n",
       "      <th>M8</th>\n",
       "      <th>M9</th>\n",
       "    </tr>\n",
       "  </thead>\n",
       "  <tbody>\n",
       "    <tr>\n",
       "      <th>94822</th>\n",
       "      <td>0</td>\n",
       "      <td>0</td>\n",
       "      <td>0</td>\n",
       "      <td>0</td>\n",
       "      <td>0</td>\n",
       "      <td>0</td>\n",
       "      <td>0</td>\n",
       "      <td>0</td>\n",
       "      <td>0</td>\n",
       "    </tr>\n",
       "    <tr>\n",
       "      <th>4614</th>\n",
       "      <td>T</td>\n",
       "      <td>T</td>\n",
       "      <td>T</td>\n",
       "      <td>0</td>\n",
       "      <td>0</td>\n",
       "      <td>T</td>\n",
       "      <td>F</td>\n",
       "      <td>F</td>\n",
       "      <td>T</td>\n",
       "    </tr>\n",
       "    <tr>\n",
       "      <th>52113</th>\n",
       "      <td>0</td>\n",
       "      <td>0</td>\n",
       "      <td>0</td>\n",
       "      <td>M2</td>\n",
       "      <td>0</td>\n",
       "      <td>0</td>\n",
       "      <td>0</td>\n",
       "      <td>0</td>\n",
       "      <td>0</td>\n",
       "    </tr>\n",
       "    <tr>\n",
       "      <th>69655</th>\n",
       "      <td>0</td>\n",
       "      <td>0</td>\n",
       "      <td>0</td>\n",
       "      <td>M2</td>\n",
       "      <td>0</td>\n",
       "      <td>0</td>\n",
       "      <td>0</td>\n",
       "      <td>0</td>\n",
       "      <td>0</td>\n",
       "    </tr>\n",
       "    <tr>\n",
       "      <th>10347</th>\n",
       "      <td>0</td>\n",
       "      <td>0</td>\n",
       "      <td>0</td>\n",
       "      <td>0</td>\n",
       "      <td>0</td>\n",
       "      <td>F</td>\n",
       "      <td>0</td>\n",
       "      <td>0</td>\n",
       "      <td>0</td>\n",
       "    </tr>\n",
       "    <tr>\n",
       "      <th>9295</th>\n",
       "      <td>0</td>\n",
       "      <td>0</td>\n",
       "      <td>0</td>\n",
       "      <td>0</td>\n",
       "      <td>0</td>\n",
       "      <td>T</td>\n",
       "      <td>0</td>\n",
       "      <td>0</td>\n",
       "      <td>0</td>\n",
       "    </tr>\n",
       "    <tr>\n",
       "      <th>10951</th>\n",
       "      <td>T</td>\n",
       "      <td>T</td>\n",
       "      <td>T</td>\n",
       "      <td>0</td>\n",
       "      <td>0</td>\n",
       "      <td>F</td>\n",
       "      <td>F</td>\n",
       "      <td>F</td>\n",
       "      <td>F</td>\n",
       "    </tr>\n",
       "    <tr>\n",
       "      <th>49652</th>\n",
       "      <td>0</td>\n",
       "      <td>0</td>\n",
       "      <td>0</td>\n",
       "      <td>0</td>\n",
       "      <td>0</td>\n",
       "      <td>0</td>\n",
       "      <td>0</td>\n",
       "      <td>0</td>\n",
       "      <td>0</td>\n",
       "    </tr>\n",
       "    <tr>\n",
       "      <th>71276</th>\n",
       "      <td>0</td>\n",
       "      <td>0</td>\n",
       "      <td>0</td>\n",
       "      <td>0</td>\n",
       "      <td>0</td>\n",
       "      <td>T</td>\n",
       "      <td>0</td>\n",
       "      <td>0</td>\n",
       "      <td>0</td>\n",
       "    </tr>\n",
       "    <tr>\n",
       "      <th>49201</th>\n",
       "      <td>T</td>\n",
       "      <td>T</td>\n",
       "      <td>T</td>\n",
       "      <td>0</td>\n",
       "      <td>0</td>\n",
       "      <td>T</td>\n",
       "      <td>T</td>\n",
       "      <td>T</td>\n",
       "      <td>T</td>\n",
       "    </tr>\n",
       "  </tbody>\n",
       "</table>\n",
       "</div>"
      ],
      "text/plain": [
       "      M1 M2 M3  M4 M5 M6 M7 M8 M9\n",
       "94822  0  0  0   0  0  0  0  0  0\n",
       "4614   T  T  T   0  0  T  F  F  T\n",
       "52113  0  0  0  M2  0  0  0  0  0\n",
       "69655  0  0  0  M2  0  0  0  0  0\n",
       "10347  0  0  0   0  0  F  0  0  0\n",
       "9295   0  0  0   0  0  T  0  0  0\n",
       "10951  T  T  T   0  0  F  F  F  F\n",
       "49652  0  0  0   0  0  0  0  0  0\n",
       "71276  0  0  0   0  0  T  0  0  0\n",
       "49201  T  T  T   0  0  T  T  T  T"
      ]
     },
     "execution_count": 24,
     "metadata": {},
     "output_type": "execute_result"
    }
   ],
   "source": [
    "missing_m_cols.head(10)"
   ]
  },
  {
   "cell_type": "code",
   "execution_count": 25,
   "id": "8980de6d",
   "metadata": {},
   "outputs": [
    {
     "name": "stdout",
     "output_type": "stream",
     "text": [
      "M1: object, unique values: [0 'T']\n",
      "M2: object, unique values: [0 'T' 'F']\n",
      "M3: object, unique values: [0 'T' 'F']\n",
      "M4: object, unique values: [0 'M2' 'M1' 'M0']\n",
      "M5: object, unique values: [0 'T' 'F']\n",
      "M6: object, unique values: [0 'T' 'F']\n",
      "M7: object, unique values: [0 'F' 'T']\n",
      "M8: object, unique values: [0 'F' 'T']\n",
      "M9: object, unique values: [0 'T' 'F']\n"
     ]
    }
   ],
   "source": [
    "# Check sample values in M columns\n",
    "for col in ['M1', 'M2', 'M3', 'M4', 'M5', 'M6', 'M7', 'M8', 'M9']:\n",
    "    print(f\"{col}: {X_train[col].dtype}, unique values: {X_train[col].unique()[:5]}\")"
   ]
  },
  {
   "cell_type": "code",
   "execution_count": 26,
   "id": "a8e9864a",
   "metadata": {},
   "outputs": [
    {
     "name": "stderr",
     "output_type": "stream",
     "text": [
      "C:\\Users\\Administrator\\AppData\\Local\\Temp\\ipykernel_17352\\3167466875.py:4: FutureWarning: Downcasting behavior in `replace` is deprecated and will be removed in a future version. To retain the old behavior, explicitly call `result.infer_objects(copy=False)`. To opt-in to the future behavior, set `pd.set_option('future.no_silent_downcasting', True)`\n",
      "  X_train[col] = X_train[col].replace({'T': 1, 'F': 0, 0: 0}).astype(float)\n",
      "C:\\Users\\Administrator\\AppData\\Local\\Temp\\ipykernel_17352\\3167466875.py:5: FutureWarning: Downcasting behavior in `replace` is deprecated and will be removed in a future version. To retain the old behavior, explicitly call `result.infer_objects(copy=False)`. To opt-in to the future behavior, set `pd.set_option('future.no_silent_downcasting', True)`\n",
      "  X_test[col] = X_test[col].replace({'T': 1, 'F': 0, 0: 0}).astype(float)\n",
      "C:\\Users\\Administrator\\AppData\\Local\\Temp\\ipykernel_17352\\3167466875.py:4: FutureWarning: Downcasting behavior in `replace` is deprecated and will be removed in a future version. To retain the old behavior, explicitly call `result.infer_objects(copy=False)`. To opt-in to the future behavior, set `pd.set_option('future.no_silent_downcasting', True)`\n",
      "  X_train[col] = X_train[col].replace({'T': 1, 'F': 0, 0: 0}).astype(float)\n",
      "C:\\Users\\Administrator\\AppData\\Local\\Temp\\ipykernel_17352\\3167466875.py:5: FutureWarning: Downcasting behavior in `replace` is deprecated and will be removed in a future version. To retain the old behavior, explicitly call `result.infer_objects(copy=False)`. To opt-in to the future behavior, set `pd.set_option('future.no_silent_downcasting', True)`\n",
      "  X_test[col] = X_test[col].replace({'T': 1, 'F': 0, 0: 0}).astype(float)\n",
      "C:\\Users\\Administrator\\AppData\\Local\\Temp\\ipykernel_17352\\3167466875.py:4: FutureWarning: Downcasting behavior in `replace` is deprecated and will be removed in a future version. To retain the old behavior, explicitly call `result.infer_objects(copy=False)`. To opt-in to the future behavior, set `pd.set_option('future.no_silent_downcasting', True)`\n",
      "  X_train[col] = X_train[col].replace({'T': 1, 'F': 0, 0: 0}).astype(float)\n",
      "C:\\Users\\Administrator\\AppData\\Local\\Temp\\ipykernel_17352\\3167466875.py:5: FutureWarning: Downcasting behavior in `replace` is deprecated and will be removed in a future version. To retain the old behavior, explicitly call `result.infer_objects(copy=False)`. To opt-in to the future behavior, set `pd.set_option('future.no_silent_downcasting', True)`\n",
      "  X_test[col] = X_test[col].replace({'T': 1, 'F': 0, 0: 0}).astype(float)\n",
      "C:\\Users\\Administrator\\AppData\\Local\\Temp\\ipykernel_17352\\3167466875.py:4: FutureWarning: Downcasting behavior in `replace` is deprecated and will be removed in a future version. To retain the old behavior, explicitly call `result.infer_objects(copy=False)`. To opt-in to the future behavior, set `pd.set_option('future.no_silent_downcasting', True)`\n",
      "  X_train[col] = X_train[col].replace({'T': 1, 'F': 0, 0: 0}).astype(float)\n",
      "C:\\Users\\Administrator\\AppData\\Local\\Temp\\ipykernel_17352\\3167466875.py:5: FutureWarning: Downcasting behavior in `replace` is deprecated and will be removed in a future version. To retain the old behavior, explicitly call `result.infer_objects(copy=False)`. To opt-in to the future behavior, set `pd.set_option('future.no_silent_downcasting', True)`\n",
      "  X_test[col] = X_test[col].replace({'T': 1, 'F': 0, 0: 0}).astype(float)\n",
      "C:\\Users\\Administrator\\AppData\\Local\\Temp\\ipykernel_17352\\3167466875.py:4: FutureWarning: Downcasting behavior in `replace` is deprecated and will be removed in a future version. To retain the old behavior, explicitly call `result.infer_objects(copy=False)`. To opt-in to the future behavior, set `pd.set_option('future.no_silent_downcasting', True)`\n",
      "  X_train[col] = X_train[col].replace({'T': 1, 'F': 0, 0: 0}).astype(float)\n",
      "C:\\Users\\Administrator\\AppData\\Local\\Temp\\ipykernel_17352\\3167466875.py:5: FutureWarning: Downcasting behavior in `replace` is deprecated and will be removed in a future version. To retain the old behavior, explicitly call `result.infer_objects(copy=False)`. To opt-in to the future behavior, set `pd.set_option('future.no_silent_downcasting', True)`\n",
      "  X_test[col] = X_test[col].replace({'T': 1, 'F': 0, 0: 0}).astype(float)\n",
      "C:\\Users\\Administrator\\AppData\\Local\\Temp\\ipykernel_17352\\3167466875.py:4: FutureWarning: Downcasting behavior in `replace` is deprecated and will be removed in a future version. To retain the old behavior, explicitly call `result.infer_objects(copy=False)`. To opt-in to the future behavior, set `pd.set_option('future.no_silent_downcasting', True)`\n",
      "  X_train[col] = X_train[col].replace({'T': 1, 'F': 0, 0: 0}).astype(float)\n",
      "C:\\Users\\Administrator\\AppData\\Local\\Temp\\ipykernel_17352\\3167466875.py:5: FutureWarning: Downcasting behavior in `replace` is deprecated and will be removed in a future version. To retain the old behavior, explicitly call `result.infer_objects(copy=False)`. To opt-in to the future behavior, set `pd.set_option('future.no_silent_downcasting', True)`\n",
      "  X_test[col] = X_test[col].replace({'T': 1, 'F': 0, 0: 0}).astype(float)\n",
      "C:\\Users\\Administrator\\AppData\\Local\\Temp\\ipykernel_17352\\3167466875.py:4: FutureWarning: Downcasting behavior in `replace` is deprecated and will be removed in a future version. To retain the old behavior, explicitly call `result.infer_objects(copy=False)`. To opt-in to the future behavior, set `pd.set_option('future.no_silent_downcasting', True)`\n",
      "  X_train[col] = X_train[col].replace({'T': 1, 'F': 0, 0: 0}).astype(float)\n",
      "C:\\Users\\Administrator\\AppData\\Local\\Temp\\ipykernel_17352\\3167466875.py:5: FutureWarning: Downcasting behavior in `replace` is deprecated and will be removed in a future version. To retain the old behavior, explicitly call `result.infer_objects(copy=False)`. To opt-in to the future behavior, set `pd.set_option('future.no_silent_downcasting', True)`\n",
      "  X_test[col] = X_test[col].replace({'T': 1, 'F': 0, 0: 0}).astype(float)\n",
      "C:\\Users\\Administrator\\AppData\\Local\\Temp\\ipykernel_17352\\3167466875.py:4: FutureWarning: Downcasting behavior in `replace` is deprecated and will be removed in a future version. To retain the old behavior, explicitly call `result.infer_objects(copy=False)`. To opt-in to the future behavior, set `pd.set_option('future.no_silent_downcasting', True)`\n",
      "  X_train[col] = X_train[col].replace({'T': 1, 'F': 0, 0: 0}).astype(float)\n",
      "C:\\Users\\Administrator\\AppData\\Local\\Temp\\ipykernel_17352\\3167466875.py:5: FutureWarning: Downcasting behavior in `replace` is deprecated and will be removed in a future version. To retain the old behavior, explicitly call `result.infer_objects(copy=False)`. To opt-in to the future behavior, set `pd.set_option('future.no_silent_downcasting', True)`\n",
      "  X_test[col] = X_test[col].replace({'T': 1, 'F': 0, 0: 0}).astype(float)\n",
      "C:\\Users\\Administrator\\AppData\\Local\\Temp\\ipykernel_17352\\3167466875.py:8: FutureWarning: Downcasting behavior in `replace` is deprecated and will be removed in a future version. To retain the old behavior, explicitly call `result.infer_objects(copy=False)`. To opt-in to the future behavior, set `pd.set_option('future.no_silent_downcasting', True)`\n",
      "  X_train['M4'] = X_train['M4'].replace({'M0': 0, 'M1': 1, 'M2': 2, 0: 0}).astype(float)\n",
      "C:\\Users\\Administrator\\AppData\\Local\\Temp\\ipykernel_17352\\3167466875.py:9: FutureWarning: Downcasting behavior in `replace` is deprecated and will be removed in a future version. To retain the old behavior, explicitly call `result.infer_objects(copy=False)`. To opt-in to the future behavior, set `pd.set_option('future.no_silent_downcasting', True)`\n",
      "  X_test['M4'] = X_test['M4'].replace({'M0': 0, 'M1': 1, 'M2': 2, 0: 0}).astype(float)\n"
     ]
    }
   ],
   "source": [
    "# Convert M1-M3, M5-M9 (T/F columns)\n",
    "tf_cols = ['M1', 'M2', 'M3', 'M5', 'M6', 'M7', 'M8', 'M9']\n",
    "for col in tf_cols:\n",
    "    X_train[col] = X_train[col].replace({'T': 1, 'F': 0, 0: 0}).astype(float)\n",
    "    X_test[col] = X_test[col].replace({'T': 1, 'F': 0, 0: 0}).astype(float)\n",
    "\n",
    "# Convert M4 (M0, M1, M2 values) - treat as ordinal\n",
    "X_train['M4'] = X_train['M4'].replace({'M0': 0, 'M1': 1, 'M2': 2, 0: 0}).astype(float)\n",
    "X_test['M4'] = X_test['M4'].replace({'M0': 0, 'M1': 1, 'M2': 2, 0: 0}).astype(float)"
   ]
  },
  {
   "cell_type": "code",
   "execution_count": 27,
   "id": "ff822c7d",
   "metadata": {},
   "outputs": [
    {
     "data": {
      "text/plain": [
       "[]"
      ]
     },
     "execution_count": 27,
     "metadata": {},
     "output_type": "execute_result"
    }
   ],
   "source": [
    "# Verify all numeric\n",
    "X_train.select_dtypes(include='object').columns.tolist()"
   ]
  },
  {
   "cell_type": "markdown",
   "id": "5553e149",
   "metadata": {},
   "source": [
    "### Feature Scaling\n"
   ]
  },
  {
   "cell_type": "code",
   "execution_count": 28,
   "id": "773c6cf7",
   "metadata": {},
   "outputs": [],
   "source": [
    "from sklearn.preprocessing import StandardScaler\n",
    "\n",
    "scaler = StandardScaler()\n",
    "\n",
    "X_train_scaled = scaler.fit_transform(X_train)\n",
    "X_test_scaled = scaler.transform(X_test)\n",
    "\n",
    "# Convert back to DataFrame\n",
    "X_train_scaled = pd.DataFrame(X_train_scaled, columns=X_train.columns, index=X_train.index)\n",
    "X_test_scaled = pd.DataFrame(X_test_scaled, columns=X_test.columns, index=X_test.index)"
   ]
  },
  {
   "cell_type": "code",
   "execution_count": 29,
   "id": "5b096fc0",
   "metadata": {},
   "outputs": [
    {
     "data": {
      "text/plain": [
       "((80000, 425), (20000, 425))"
      ]
     },
     "execution_count": 29,
     "metadata": {},
     "output_type": "execute_result"
    }
   ],
   "source": [
    "# Verify\n",
    "X_train_scaled.shape, X_test_scaled.shape"
   ]
  },
  {
   "cell_type": "code",
   "execution_count": 30,
   "id": "b9b3bb4c",
   "metadata": {},
   "outputs": [],
   "source": [
    "from imblearn.over_sampling import SMOTE\n",
    "\n",
    "# Apply SMOTE only on training data\n",
    "smote = SMOTE(random_state=42)\n",
    "X_train_balanced, y_train_balanced = smote.fit_resample(X_train_scaled, y_train)"
   ]
  },
  {
   "cell_type": "code",
   "execution_count": 31,
   "id": "79102c06",
   "metadata": {},
   "outputs": [
    {
     "name": "stdout",
     "output_type": "stream",
     "text": [
      "Original train: isFraud\n",
      "0    77951\n",
      "1     2049\n",
      "Name: count, dtype: int64\n",
      "\n",
      "Balanced train: isFraud\n",
      "0    77951\n",
      "1    77951\n",
      "Name: count, dtype: int64\n",
      "\n",
      "New fraud rate: 50.00%\n"
     ]
    }
   ],
   "source": [
    "# Check new class distribution\n",
    "print(f\"Original train: {y_train.value_counts()}\")\n",
    "print(f\"\\nBalanced train: {y_train_balanced.value_counts()}\")\n",
    "print(f\"\\nNew fraud rate: {y_train_balanced.mean():.2%}\")"
   ]
  },
  {
   "cell_type": "markdown",
   "id": "76bb46ce",
   "metadata": {},
   "source": [
    "## TRAIN MODELS"
   ]
  },
  {
   "cell_type": "markdown",
   "id": "99c0ae21",
   "metadata": {},
   "source": [
    "##### LogisticRegression"
   ]
  },
  {
   "cell_type": "code",
   "execution_count": 32,
   "id": "0040dcf9",
   "metadata": {},
   "outputs": [],
   "source": [
    "from sklearn.linear_model import LogisticRegression\n",
    "\n",
    "# Train Logistic Regression\n",
    "log_reg = LogisticRegression(max_iter=1000, random_state=42)\n",
    "log_reg.fit(X_train_balanced, y_train_balanced)\n",
    "\n",
    "# Predict on test set\n",
    "y_pred_lr = log_reg.predict(X_test_scaled)\n",
    "y_pred_proba_lr = log_reg.predict_proba(X_test_scaled)[:, 1]"
   ]
  },
  {
   "cell_type": "code",
   "execution_count": 34,
   "id": "ee63f4e7",
   "metadata": {},
   "outputs": [
    {
     "name": "stdout",
     "output_type": "stream",
     "text": [
      "Predictions made: 20000\n",
      "Predicted fraud: 3392\n"
     ]
    }
   ],
   "source": [
    "print(f\"Predictions made: {len(y_pred_lr)}\")\n",
    "print(f\"Predicted fraud: {y_pred_lr.sum()}\")"
   ]
  },
  {
   "cell_type": "code",
   "execution_count": 35,
   "id": "eddd8ac6",
   "metadata": {},
   "outputs": [
    {
     "name": "stdout",
     "output_type": "stream",
     "text": [
      "Logistic Regression Results:\n",
      "[[16464  3024]\n",
      " [  144   368]]\n",
      "              precision    recall  f1-score   support\n",
      "\n",
      "           0       0.99      0.84      0.91     19488\n",
      "           1       0.11      0.72      0.19       512\n",
      "\n",
      "    accuracy                           0.84     20000\n",
      "   macro avg       0.55      0.78      0.55     20000\n",
      "weighted avg       0.97      0.84      0.89     20000\n",
      "\n",
      "ROC-AUC: 0.8530\n"
     ]
    }
   ],
   "source": [
    "from sklearn.metrics import classification_report, confusion_matrix, roc_auc_score\n",
    "\n",
    "print(\"Logistic Regression Results:\")\n",
    "print(confusion_matrix(y_test, y_pred_lr))\n",
    "print(classification_report(y_test, y_pred_lr))\n",
    "print(f\"ROC-AUC: {roc_auc_score(y_test, y_pred_proba_lr):.4f}\")"
   ]
  },
  {
   "cell_type": "markdown",
   "id": "678d7974",
   "metadata": {},
   "source": [
    "#### Random Forest"
   ]
  },
  {
   "cell_type": "code",
   "execution_count": 36,
   "id": "58846ebb",
   "metadata": {},
   "outputs": [],
   "source": [
    "from sklearn.ensemble import RandomForestClassifier\n",
    "\n",
    "rf = RandomForestClassifier(n_estimators=100, max_depth=10, random_state=42, n_jobs=-1)\n",
    "rf.fit(X_train_balanced, y_train_balanced)\n",
    "\n",
    "y_pred_rf = rf.predict(X_test_scaled)\n",
    "y_pred_proba_rf = rf.predict_proba(X_test_scaled)[:, 1]"
   ]
  },
  {
   "cell_type": "code",
   "execution_count": 37,
   "id": "d0fe7424",
   "metadata": {},
   "outputs": [
    {
     "name": "stdout",
     "output_type": "stream",
     "text": [
      "Random Forest Results:\n",
      "[[18757   731]\n",
      " [  222   290]]\n",
      "              precision    recall  f1-score   support\n",
      "\n",
      "           0       0.99      0.96      0.98     19488\n",
      "           1       0.28      0.57      0.38       512\n",
      "\n",
      "    accuracy                           0.95     20000\n",
      "   macro avg       0.64      0.76      0.68     20000\n",
      "weighted avg       0.97      0.95      0.96     20000\n",
      "\n",
      "ROC-AUC: 0.8857\n"
     ]
    }
   ],
   "source": [
    "print(\"Random Forest Results:\")\n",
    "print(confusion_matrix(y_test, y_pred_rf))\n",
    "print(classification_report(y_test, y_pred_rf))\n",
    "print(f\"ROC-AUC: {roc_auc_score(y_test, y_pred_proba_rf):.4f}\")"
   ]
  },
  {
   "cell_type": "code",
   "execution_count": 39,
   "id": "3600ee9c",
   "metadata": {},
   "outputs": [
    {
     "data": {
      "text/html": [
       "<div>\n",
       "<style scoped>\n",
       "    .dataframe tbody tr th:only-of-type {\n",
       "        vertical-align: middle;\n",
       "    }\n",
       "\n",
       "    .dataframe tbody tr th {\n",
       "        vertical-align: top;\n",
       "    }\n",
       "\n",
       "    .dataframe thead th {\n",
       "        text-align: right;\n",
       "    }\n",
       "</style>\n",
       "<table border=\"1\" class=\"dataframe\">\n",
       "  <thead>\n",
       "    <tr style=\"text-align: right;\">\n",
       "      <th></th>\n",
       "      <th>Model</th>\n",
       "      <th>ROC-AUC</th>\n",
       "      <th>Precision</th>\n",
       "      <th>Recall</th>\n",
       "      <th>F1-Score</th>\n",
       "    </tr>\n",
       "  </thead>\n",
       "  <tbody>\n",
       "    <tr>\n",
       "      <th>0</th>\n",
       "      <td>Logistic Regression</td>\n",
       "      <td>0.8530</td>\n",
       "      <td>0.11</td>\n",
       "      <td>0.72</td>\n",
       "      <td>0.19</td>\n",
       "    </tr>\n",
       "    <tr>\n",
       "      <th>1</th>\n",
       "      <td>Random Forest</td>\n",
       "      <td>0.8857</td>\n",
       "      <td>0.28</td>\n",
       "      <td>0.57</td>\n",
       "      <td>0.38</td>\n",
       "    </tr>\n",
       "  </tbody>\n",
       "</table>\n",
       "</div>"
      ],
      "text/plain": [
       "                 Model  ROC-AUC  Precision  Recall  F1-Score\n",
       "0  Logistic Regression   0.8530       0.11    0.72      0.19\n",
       "1        Random Forest   0.8857       0.28    0.57      0.38"
      ]
     },
     "execution_count": 39,
     "metadata": {},
     "output_type": "execute_result"
    }
   ],
   "source": [
    "# Create comparison dataframe\n",
    "results = pd.DataFrame({\n",
    "    'Model': ['Logistic Regression', 'Random Forest'],\n",
    "    'ROC-AUC': [0.8530, 0.8857],\n",
    "    'Precision': [0.11, 0.28],\n",
    "    'Recall': [0.72, 0.57],\n",
    "    'F1-Score': [0.19, 0.38]\n",
    "})\n",
    "\n",
    "results"
   ]
  },
  {
   "cell_type": "markdown",
   "id": "990cce22",
   "metadata": {},
   "source": [
    "### xgboost"
   ]
  },
  {
   "cell_type": "code",
   "execution_count": 42,
   "id": "0e586a02",
   "metadata": {},
   "outputs": [
    {
     "name": "stdout",
     "output_type": "stream",
     "text": [
      "Collecting xgboost\n",
      "  Downloading xgboost-3.1.1-py3-none-win_amd64.whl.metadata (2.1 kB)\n",
      "Requirement already satisfied: numpy in c:\\users\\administrator\\anaconda3\\envs\\fraud_env\\lib\\site-packages (from xgboost) (2.3.3)\n",
      "Requirement already satisfied: scipy in c:\\users\\administrator\\anaconda3\\envs\\fraud_env\\lib\\site-packages (from xgboost) (1.16.2)\n",
      "Downloading xgboost-3.1.1-py3-none-win_amd64.whl (72.0 MB)\n",
      "   ---------------------------------------- 0.0/72.0 MB ? eta -:--:--\n",
      "   ---------------------------------------- 0.8/72.0 MB 7.6 MB/s eta 0:00:10\n",
      "   - -------------------------------------- 3.1/72.0 MB 7.9 MB/s eta 0:00:09\n",
      "   -- ------------------------------------- 5.0/72.0 MB 8.0 MB/s eta 0:00:09\n",
      "   --- ------------------------------------ 6.8/72.0 MB 8.3 MB/s eta 0:00:08\n",
      "   ---- ----------------------------------- 8.7/72.0 MB 8.4 MB/s eta 0:00:08\n",
      "   ----- ---------------------------------- 10.5/72.0 MB 8.5 MB/s eta 0:00:08\n",
      "   ------ --------------------------------- 12.6/72.0 MB 8.6 MB/s eta 0:00:07\n",
      "   -------- ------------------------------- 14.4/72.0 MB 8.6 MB/s eta 0:00:07\n",
      "   --------- ------------------------------ 16.3/72.0 MB 8.6 MB/s eta 0:00:07\n",
      "   ---------- ----------------------------- 18.1/72.0 MB 8.6 MB/s eta 0:00:07\n",
      "   ---------- ----------------------------- 19.7/72.0 MB 8.5 MB/s eta 0:00:07\n",
      "   ----------- ---------------------------- 21.2/72.0 MB 8.4 MB/s eta 0:00:07\n",
      "   ------------ --------------------------- 23.1/72.0 MB 8.4 MB/s eta 0:00:06\n",
      "   ------------- -------------------------- 24.9/72.0 MB 8.4 MB/s eta 0:00:06\n",
      "   -------------- ------------------------- 26.7/72.0 MB 8.5 MB/s eta 0:00:06\n",
      "   --------------- ------------------------ 28.6/72.0 MB 8.5 MB/s eta 0:00:06\n",
      "   ---------------- ----------------------- 30.1/72.0 MB 8.5 MB/s eta 0:00:05\n",
      "   ----------------- ---------------------- 32.2/72.0 MB 8.5 MB/s eta 0:00:05\n",
      "   ------------------ --------------------- 34.1/72.0 MB 8.5 MB/s eta 0:00:05\n",
      "   ------------------- -------------------- 35.9/72.0 MB 8.5 MB/s eta 0:00:05\n",
      "   -------------------- ------------------- 37.5/72.0 MB 8.5 MB/s eta 0:00:05\n",
      "   --------------------- ------------------ 39.3/72.0 MB 8.5 MB/s eta 0:00:04\n",
      "   ----------------------- ---------------- 41.4/72.0 MB 8.5 MB/s eta 0:00:04\n",
      "   ------------------------ --------------- 43.3/72.0 MB 8.6 MB/s eta 0:00:04\n",
      "   ------------------------- -------------- 45.1/72.0 MB 8.6 MB/s eta 0:00:04\n",
      "   -------------------------- ------------- 46.9/72.0 MB 8.6 MB/s eta 0:00:03\n",
      "   --------------------------- ------------ 48.8/72.0 MB 8.6 MB/s eta 0:00:03\n",
      "   ---------------------------- ----------- 50.6/72.0 MB 8.6 MB/s eta 0:00:03\n",
      "   ----------------------------- ---------- 52.7/72.0 MB 8.6 MB/s eta 0:00:03\n",
      "   ------------------------------ --------- 54.5/72.0 MB 8.6 MB/s eta 0:00:03\n",
      "   ------------------------------- -------- 56.6/72.0 MB 8.6 MB/s eta 0:00:02\n",
      "   -------------------------------- ------- 58.5/72.0 MB 8.7 MB/s eta 0:00:02\n",
      "   --------------------------------- ------ 60.6/72.0 MB 8.7 MB/s eta 0:00:02\n",
      "   ---------------------------------- ----- 62.4/72.0 MB 8.7 MB/s eta 0:00:02\n",
      "   ----------------------------------- ---- 64.5/72.0 MB 8.7 MB/s eta 0:00:01\n",
      "   ------------------------------------ --- 65.0/72.0 MB 8.6 MB/s eta 0:00:01\n",
      "   ------------------------------------- -- 66.6/72.0 MB 8.5 MB/s eta 0:00:01\n",
      "   ------------------------------------- -- 68.2/72.0 MB 8.5 MB/s eta 0:00:01\n",
      "   -------------------------------------- - 69.7/72.0 MB 8.4 MB/s eta 0:00:01\n",
      "   ---------------------------------------  71.6/72.0 MB 8.4 MB/s eta 0:00:01\n",
      "   ---------------------------------------  71.8/72.0 MB 8.4 MB/s eta 0:00:01\n",
      "   ---------------------------------------- 72.0/72.0 MB 8.2 MB/s  0:00:08\n",
      "Installing collected packages: xgboost\n",
      "Successfully installed xgboost-3.1.1\n"
     ]
    }
   ],
   "source": [
    "!pip install xgboost\n"
   ]
  },
  {
   "cell_type": "code",
   "execution_count": 43,
   "id": "4137ae06",
   "metadata": {},
   "outputs": [
    {
     "name": "stderr",
     "output_type": "stream",
     "text": [
      "c:\\Users\\Administrator\\anaconda3\\envs\\fraud_env\\Lib\\site-packages\\xgboost\\training.py:199: UserWarning: [21:08:24] WARNING: C:\\actions-runner\\_work\\xgboost\\xgboost\\src\\learner.cc:790: \n",
      "Parameters: { \"use_label_encoder\" } are not used.\n",
      "\n",
      "  bst.update(dtrain, iteration=i, fobj=obj)\n"
     ]
    }
   ],
   "source": [
    "from xgboost import XGBClassifier\n",
    "\n",
    "xgb = XGBClassifier(\n",
    "    n_estimators=100,\n",
    "    max_depth=6,\n",
    "    learning_rate=0.1,\n",
    "    random_state=42,\n",
    "    eval_metric='logloss',\n",
    "    use_label_encoder=False\n",
    ")\n",
    "\n",
    "xgb.fit(X_train_balanced, y_train_balanced)\n",
    "\n",
    "y_pred_xgb = xgb.predict(X_test_scaled)\n",
    "y_pred_proba_xgb = xgb.predict_proba(X_test_scaled)[:, 1]"
   ]
  },
  {
   "cell_type": "code",
   "execution_count": 44,
   "id": "08991af4",
   "metadata": {},
   "outputs": [
    {
     "name": "stdout",
     "output_type": "stream",
     "text": [
      "XGBoost Results:\n",
      "[[19394    94]\n",
      " [  285   227]]\n",
      "              precision    recall  f1-score   support\n",
      "\n",
      "           0       0.99      1.00      0.99     19488\n",
      "           1       0.71      0.44      0.55       512\n",
      "\n",
      "    accuracy                           0.98     20000\n",
      "   macro avg       0.85      0.72      0.77     20000\n",
      "weighted avg       0.98      0.98      0.98     20000\n",
      "\n",
      "ROC-AUC: 0.8975\n"
     ]
    }
   ],
   "source": [
    "print(\"XGBoost Results:\")\n",
    "print(confusion_matrix(y_test, y_pred_xgb))\n",
    "print(classification_report(y_test, y_pred_xgb))\n",
    "print(f\"ROC-AUC: {roc_auc_score(y_test, y_pred_proba_xgb):.4f}\")"
   ]
  },
  {
   "cell_type": "code",
   "execution_count": 46,
   "id": "0348981d",
   "metadata": {},
   "outputs": [
    {
     "data": {
      "image/png": "[encoded data removed]",
      "text/plain": [
       "<Figure size 1000x600 with 1 Axes>"
      ]
     },
     "metadata": {},
     "output_type": "display_data"
    }
   ],
   "source": [
    "from sklearn.metrics import roc_curve\n",
    "\n",
    "fpr_lr, tpr_lr, _ = roc_curve(y_test, y_pred_proba_lr)\n",
    "fpr_rf, tpr_rf, _ = roc_curve(y_test, y_pred_proba_rf)\n",
    "fpr_xgb, tpr_xgb, _ = roc_curve(y_test, y_pred_proba_xgb)\n",
    "\n",
    "\n",
    "plt.figure(figsize=(10, 6))\n",
    "plt.plot(fpr_lr, tpr_lr, label='Logistic Regression (AUC = 0.853)')\n",
    "plt.plot(fpr_rf, tpr_rf, label='Random Forest (AUC = 0.886)')\n",
    "plt.plot(fpr_xgb, tpr_xgb, label='XGBoost (AUC = 0.898)', linewidth=2)\n",
    "plt.plot([0, 1], [0, 1], 'k--', label='Random Guess')\n",
    "plt.xlabel('False Positive Rate')\n",
    "plt.ylabel('True Positive Rate')\n",
    "plt.title('ROC Curve Comparison - All Models')\n",
    "plt.legend()\n",
    "plt.grid(True, alpha=0.3)\n",
    "plt.show()"
   ]
  },
  {
   "cell_type": "code",
   "execution_count": 47,
   "id": "e15775f1",
   "metadata": {},
   "outputs": [
    {
     "data": {
      "text/plain": [
       "['../models/logistic_regression_fraud_model.pkl']"
      ]
     },
     "execution_count": 47,
     "metadata": {},
     "output_type": "execute_result"
    }
   ],
   "source": [
    "import joblib\n",
    "\n",
    "joblib.dump(xgb, '../models/xgboost_fraud_model.pkl')\n",
    "joblib.dump(rf, '../models/random_forest_fraud_model.pkl')\n",
    "joblib.dump(log_reg, '../models/logistic_regression_fraud_model.pkl')"
   ]
  },
  {
   "cell_type": "code",
   "execution_count": null,
   "id": "04c3cdeb",
   "metadata": {},
   "outputs": [
    {
     "data": {
      "text/html": [
       "<div>\n",
       "<style scoped>\n",
       "    .dataframe tbody tr th:only-of-type {\n",
       "        vertical-align: middle;\n",
       "    }\n",
       "\n",
       "    .dataframe tbody tr th {\n",
       "        vertical-align: top;\n",
       "    }\n",
       "\n",
       "    .dataframe thead th {\n",
       "        text-align: right;\n",
       "    }\n",
       "</style>\n",
       "<table border=\"1\" class=\"dataframe\">\n",
       "  <thead>\n",
       "    <tr style=\"text-align: right;\">\n",
       "      <th></th>\n",
       "      <th>Model</th>\n",
       "      <th>ROC-AUC</th>\n",
       "      <th>Precision</th>\n",
       "      <th>Recall</th>\n",
       "      <th>F1-Score</th>\n",
       "      <th>False Positives</th>\n",
       "    </tr>\n",
       "  </thead>\n",
       "  <tbody>\n",
       "    <tr>\n",
       "      <th>0</th>\n",
       "      <td>Logistic Regression</td>\n",
       "      <td>0.8530</td>\n",
       "      <td>0.11</td>\n",
       "      <td>0.72</td>\n",
       "      <td>0.19</td>\n",
       "      <td>3024</td>\n",
       "    </tr>\n",
       "    <tr>\n",
       "      <th>1</th>\n",
       "      <td>Random Forest</td>\n",
       "      <td>0.8857</td>\n",
       "      <td>0.28</td>\n",
       "      <td>0.57</td>\n",
       "      <td>0.38</td>\n",
       "      <td>731</td>\n",
       "    </tr>\n",
       "    <tr>\n",
       "      <th>2</th>\n",
       "      <td>XGBoost</td>\n",
       "      <td>0.8975</td>\n",
       "      <td>0.71</td>\n",
       "      <td>0.44</td>\n",
       "      <td>0.55</td>\n",
       "      <td>94</td>\n",
       "    </tr>\n",
       "  </tbody>\n",
       "</table>\n",
       "</div>"
      ],
      "text/plain": [
       "                 Model  ROC-AUC  Precision  Recall  F1-Score  False Positives\n",
       "0  Logistic Regression   0.8530       0.11    0.72      0.19             3024\n",
       "1        Random Forest   0.8857       0.28    0.57      0.38              731\n",
       "2              XGBoost   0.8975       0.71    0.44      0.55               94"
      ]
     },
     "execution_count": 48,
     "metadata": {},
     "output_type": "execute_result"
    }
   ],
   "source": [
    "results_final = pd.DataFrame({\n",
    "    'Model': ['Logistic Regression', 'Random Forest', 'XGBoost'],\n",
    "    'ROC-AUC': [0.8530, 0.8857, 0.8975],\n",
    "    'Precision': [0.11, 0.28, 0.71],\n",
    "    'Recall': [0.72, 0.57, 0.44],\n",
    "    'F1-Score': [0.19, 0.38, 0.55],\n",
    "    'False Positives': [3024, 731, 94]\n",
    "})\n",
    "\n",
    "results_final"
   ]
  },
  {
   "cell_type": "markdown",
   "id": "9560139b",
   "metadata": {},
   "source": [
    "### FEATURE IMPORTANCE ANALYSIS"
   ]
  },
  {
   "cell_type": "code",
   "execution_count": 49,
   "id": "3cc743a7",
   "metadata": {},
   "outputs": [
    {
     "data": {
      "image/png": "[encoded data removed]",
      "text/plain": [
       "<Figure size 1000x800 with 1 Axes>"
      ]
     },
     "metadata": {},
     "output_type": "display_data"
    }
   ],
   "source": [
    "# Get feature importance from XGBoost\n",
    "feature_importance = pd.DataFrame({\n",
    "    'Feature': X_train.columns,\n",
    "    'Importance': xgb.feature_importances_\n",
    "}).sort_values('Importance', ascending=False)\n",
    "\n",
    "# Top 20 most important features\n",
    "top_20 = feature_importance.head(20)\n",
    "\n",
    "plt.figure(figsize=(10, 8))\n",
    "plt.barh(top_20['Feature'], top_20['Importance'])\n",
    "plt.xlabel('Importance')\n",
    "plt.title('Top 20 Most Important Features - XGBoost')\n",
    "plt.gca().invert_yaxis()\n",
    "plt.tight_layout()\n",
    "plt.show()"
   ]
  },
  {
   "cell_type": "code",
   "execution_count": 50,
   "id": "786d26d5",
   "metadata": {},
   "outputs": [
    {
     "data": {
      "text/plain": [
       "Very Low Risk     17903\n",
       "Low Risk           1497\n",
       "Medium Risk         279\n",
       "Very High Risk      198\n",
       "High Risk           123\n",
       "Name: count, dtype: int64"
      ]
     },
     "execution_count": 50,
     "metadata": {},
     "output_type": "execute_result"
    }
   ],
   "source": [
    "# Create risk scoring system based on probability thresholds\n",
    "risk_thresholds = {\n",
    "    'Very Low Risk': (0, 0.1),\n",
    "    'Low Risk': (0.1, 0.3),\n",
    "    'Medium Risk': (0.3, 0.5),\n",
    "    'High Risk': (0.5, 0.7),\n",
    "    'Very High Risk': (0.7, 1.0)\n",
    "}\n",
    "\n",
    "def assign_risk_category(prob):\n",
    "    for category, (low, high) in risk_thresholds.items():\n",
    "        if low <= prob < high:\n",
    "            return category\n",
    "    return 'Very High Risk'\n",
    "\n",
    "# Apply to test set\n",
    "risk_categories = pd.Series(y_pred_proba_xgb).apply(assign_risk_category)\n",
    "risk_distribution = risk_categories.value_counts()\n",
    "\n",
    "risk_distribution"
   ]
  },
  {
   "cell_type": "markdown",
   "id": "c8e270dd",
   "metadata": {},
   "source": [
    "### BUSINESS IMPACT ANALYSIS\n",
    "========================\n",
    "\n",
    "**Fraud Detection:**\n",
    "- Total fraud cases: 512\n",
    "- Frauds detected: 227 (44%)\n",
    "- Frauds missed: 285 (56%)\n",
    "\n",
    "**Financial Impact:**\n",
    "- Total fraud amount: $68,608\n",
    "- Fraud prevented: $30,418\n",
    "- False positive cost: $470\n",
    "- Net savings: $29,948\n",
    "\n",
    "**Customer Experience:**\n",
    "- Legitimate transactions blocked: 94 (0.48% of all transactions)\n",
    "- Customer friction: Minimal\n",
    "\n",
    "#### Recommendations:\n",
    "1. Auto-approve Very Low Risk (90% of transactions)\n",
    "2. Apply 2FA for High/Very High Risk (1.6% of transactions)\n",
    "3. Manual review queue for Medium Risk (1.4% of transactions)\n",
    "4. Monitor and retrain model quarterly with new fraud patterns"
   ]
  },
  {
   "cell_type": "code",
   "execution_count": 52,
   "id": "6511baf5",
   "metadata": {},
   "outputs": [
    {
     "data": {
      "text/plain": [
       "{'risk_score': np.float32(0.0236),\n",
       " 'risk_category': 'Very Low Risk',\n",
       " 'recommended_action': 'Auto-approve'}"
      ]
     },
     "execution_count": 52,
     "metadata": {},
     "output_type": "execute_result"
    }
   ],
   "source": [
    "# Simple risk scoring function for deployment\n",
    "def predict_fraud_risk(transaction_features):\n",
    "    \"\"\"\n",
    "    Predicts fraud risk for a transaction\n",
    "    \n",
    "    Returns: risk_score (0-1), risk_category, recommended_action\n",
    "    \"\"\"\n",
    "    # Get probability from model\n",
    "    risk_score = xgb.predict_proba([transaction_features])[0][1]\n",
    "    \n",
    "    # Assign category\n",
    "    if risk_score < 0.1:\n",
    "        category = \"Very Low Risk\"\n",
    "        action = \"Auto-approve\"\n",
    "    elif risk_score < 0.3:\n",
    "        category = \"Low Risk\"\n",
    "        action = \"Standard processing\"\n",
    "    elif risk_score < 0.5:\n",
    "        category = \"Medium Risk\"\n",
    "        action = \"Light review\"\n",
    "    elif risk_score < 0.7:\n",
    "        category = \"High Risk\"\n",
    "        action = \"Manual review\"\n",
    "    else:\n",
    "        category = \"Very High Risk\"\n",
    "        action = \"Block/Require 2FA\"\n",
    "    \n",
    "    return {\n",
    "        'risk_score': round(risk_score, 4),\n",
    "        'risk_category': category,\n",
    "        'recommended_action': action\n",
    "    }\n",
    "\n",
    "# Test on a sample transaction\n",
    "sample_transaction = X_test_scaled.iloc[0]\n",
    "result = predict_fraud_risk(sample_transaction)\n",
    "result"
   ]
  },
  {
   "cell_type": "code",
   "execution_count": null,
   "id": "11561f21",
   "metadata": {},
   "outputs": [],
   "source": []
  }
 ],
 "metadata": {
  "kernelspec": {
   "display_name": "fraud_env",
   "language": "python",
   "name": "python3"
  },
  "language_info": {
   "codemirror_mode": {
    "name": "ipython",
    "version": 3
   },
   "file_extension": ".py",
   "mimetype": "text/x-python",
   "name": "python",
   "nbconvert_exporter": "python",
   "pygments_lexer": "ipython3",
   "version": "3.13.7"
  }
 },
 "nbformat": 4,
 "nbformat_minor": 5
}
