{
 "cells": [
  {
   "cell_type": "code",
   "execution_count": 1,
   "id": "aadffee7",
   "metadata": {},
   "outputs": [],
   "source": [
    "import pandas as pd\n",
    "import numpy as np\n",
    "import matplotlib.pyplot as plt\n",
    "import seaborn as sns"
   ]
  },
  {
   "cell_type": "code",
   "execution_count": 2,
   "id": "c38749bf",
   "metadata": {},
   "outputs": [
    {
     "name": "stdout",
     "output_type": "stream",
     "text": [
      "Shape: (100000, 394)\n"
     ]
    }
   ],
   "source": [
    "df_transaction = pd.read_csv(   \n",
    "    'C:/Users/Administrator/Desktop/fraud-detection/data/raw/train_transaction.csv',    \n",
    "    nrows=100000)\n",
    "\n",
    "print(f\"Shape: {df_transaction.shape}\")\n"
   ]
  },
  {
   "cell_type": "markdown",
   "id": "bc309c0a",
   "metadata": {},
   "source": [
    "### Missing Data Features"
   ]
  },
  {
   "cell_type": "code",
   "execution_count": 3,
   "id": "41c9a230",
   "metadata": {},
   "outputs": [
    {
     "data": {
      "text/plain": [
       "0       NaN\n",
       "1       NaN\n",
       "2       NaN\n",
       "3       NaN\n",
       "4       NaN\n",
       "         ..\n",
       "99995   NaN\n",
       "99996   NaN\n",
       "99997   NaN\n",
       "99998   NaN\n",
       "99999   NaN\n",
       "Name: D7, Length: 100000, dtype: float64"
      ]
     },
     "execution_count": 3,
     "metadata": {},
     "output_type": "execute_result"
    }
   ],
   "source": [
    "df_transaction['D7']"
   ]
  },
  {
   "cell_type": "code",
   "execution_count": 4,
   "id": "7968a89c",
   "metadata": {},
   "outputs": [
    {
     "data": {
      "text/plain": [
       "100000"
      ]
     },
     "execution_count": 4,
     "metadata": {},
     "output_type": "execute_result"
    }
   ],
   "source": [
    "len(df_transaction['D7'])"
   ]
  },
  {
   "cell_type": "code",
   "execution_count": 5,
   "id": "752165fb",
   "metadata": {},
   "outputs": [
    {
     "data": {
      "text/plain": [
       "np.int64(93928)"
      ]
     },
     "execution_count": 5,
     "metadata": {},
     "output_type": "execute_result"
    }
   ],
   "source": [
    "df_transaction['D7'].isnull().sum()"
   ]
  },
  {
   "cell_type": "code",
   "execution_count": 6,
   "id": "0e16157b",
   "metadata": {},
   "outputs": [],
   "source": [
    "df_transaction['D7_is_missing'] = df_transaction['D7'].isna().astype(int)"
   ]
  },
  {
   "cell_type": "code",
   "execution_count": 7,
   "id": "d41a5b50",
   "metadata": {},
   "outputs": [
    {
     "data": {
      "text/plain": [
       "0        1\n",
       "1        1\n",
       "2        1\n",
       "3        1\n",
       "4        1\n",
       "        ..\n",
       "99995    1\n",
       "99996    1\n",
       "99997    1\n",
       "99998    1\n",
       "99999    1\n",
       "Name: D7_is_missing, Length: 100000, dtype: int64"
      ]
     },
     "execution_count": 7,
     "metadata": {},
     "output_type": "execute_result"
    }
   ],
   "source": [
    "df_transaction['D7_is_missing']"
   ]
  },
  {
   "cell_type": "code",
   "execution_count": 8,
   "id": "b1378299",
   "metadata": {},
   "outputs": [],
   "source": [
    "d_columns = []  # start with an empty list\n",
    "\n",
    "for col in df_transaction.columns:  # go through each column name\n",
    "    if col.startswith('D') and col[1:].isdigit():  # check two conditions\n",
    "        d_columns.append(col)  # if both are True, add column to the list\n"
   ]
  },
  {
   "cell_type": "code",
   "execution_count": 9,
   "id": "6ff705fa",
   "metadata": {},
   "outputs": [],
   "source": [
    "# Get all D columns\n",
    "d_columns = [col for col in df_transaction.columns if col.startswith('D') and col[1:].isdigit()]\n",
    "\n",
    "# Check their missing rates\n",
    "d_missing_rates = df_transaction[d_columns].isna().mean() * 100\n",
    "d_missing_rates = d_missing_rates.sort_values(ascending=False)"
   ]
  },
  {
   "cell_type": "code",
   "execution_count": 10,
   "id": "f61a22cc",
   "metadata": {},
   "outputs": [
    {
     "data": {
      "text/plain": [
       "['D1',\n",
       " 'D2',\n",
       " 'D3',\n",
       " 'D4',\n",
       " 'D5',\n",
       " 'D6',\n",
       " 'D7',\n",
       " 'D8',\n",
       " 'D9',\n",
       " 'D10',\n",
       " 'D11',\n",
       " 'D12',\n",
       " 'D13',\n",
       " 'D14',\n",
       " 'D15']"
      ]
     },
     "execution_count": 10,
     "metadata": {},
     "output_type": "execute_result"
    }
   ],
   "source": [
    "d_columns\n"
   ]
  },
  {
   "cell_type": "code",
   "execution_count": 11,
   "id": "4c04702a",
   "metadata": {},
   "outputs": [
    {
     "data": {
      "text/plain": [
       "D7     93.928\n",
       "D13    90.479\n",
       "D12    89.495\n",
       "D14    88.847\n",
       "D6     87.259\n",
       "D8     78.289\n",
       "D9     78.289\n",
       "D11    71.208\n",
       "D5     65.327\n",
       "D2     57.633\n",
       "D3     56.598\n",
       "D4     46.175\n",
       "D15    34.047\n",
       "D10    30.926\n",
       "D1      0.000\n",
       "dtype: float64"
      ]
     },
     "execution_count": 11,
     "metadata": {},
     "output_type": "execute_result"
    }
   ],
   "source": [
    "\n",
    "d_missing_rates "
   ]
  },
  {
   "cell_type": "code",
   "execution_count": 12,
   "id": "882a74e5",
   "metadata": {},
   "outputs": [],
   "source": [
    "d_missing =  df_transaction.columns[\n",
    "    df_transaction.columns.str.startswith('D') & df_transaction.columns.str[1:].str.isdigit()\n",
    "]"
   ]
  },
  {
   "cell_type": "code",
   "execution_count": 13,
   "id": "267d87b4",
   "metadata": {},
   "outputs": [
    {
     "data": {
      "text/plain": [
       "['D1',\n",
       " 'D2',\n",
       " 'D3',\n",
       " 'D4',\n",
       " 'D5',\n",
       " 'D6',\n",
       " 'D7',\n",
       " 'D8',\n",
       " 'D9',\n",
       " 'D10',\n",
       " 'D11',\n",
       " 'D12',\n",
       " 'D13',\n",
       " 'D14',\n",
       " 'D15']"
      ]
     },
     "execution_count": 13,
     "metadata": {},
     "output_type": "execute_result"
    }
   ],
   "source": [
    "d_missing.to_list()"
   ]
  },
  {
   "cell_type": "code",
   "execution_count": 14,
   "id": "a5680865",
   "metadata": {},
   "outputs": [
    {
     "data": {
      "text/plain": [
       "D7     93.928\n",
       "D13    90.479\n",
       "D12    89.495\n",
       "D14    88.847\n",
       "D6     87.259\n",
       "D8     78.289\n",
       "D9     78.289\n",
       "D11    71.208\n",
       "D5     65.327\n",
       "D2     57.633\n",
       "D3     56.598\n",
       "D4     46.175\n",
       "D15    34.047\n",
       "D10    30.926\n",
       "D1      0.000\n",
       "dtype: float64"
      ]
     },
     "execution_count": 14,
     "metadata": {},
     "output_type": "execute_result"
    }
   ],
   "source": [
    "df_transaction[d_missing].isna().mean().sort_values(ascending= False) * 100"
   ]
  },
  {
   "cell_type": "code",
   "execution_count": 15,
   "id": "7d2c7907",
   "metadata": {},
   "outputs": [],
   "source": [
    "for col in d_missing:\n",
    "    d_missing_cols = col + '_is_missing'\n",
    "    df_transaction[d_missing_cols] = df_transaction[col].isna().astype(int)"
   ]
  },
  {
   "cell_type": "code",
   "execution_count": 16,
   "id": "eafd9e0f",
   "metadata": {},
   "outputs": [
    {
     "name": "stdout",
     "output_type": "stream",
     "text": [
      "   D1_is_missing  D2_is_missing  D3_is_missing  D4_is_missing  D5_is_missing  \\\n",
      "0              0              1              0              1              1   \n",
      "1              0              1              1              0              1   \n",
      "2              0              1              1              0              1   \n",
      "3              0              0              0              0              0   \n",
      "4              0              1              1              1              1   \n",
      "\n",
      "   D6_is_missing  D7_is_missing  D8_is_missing  D9_is_missing  D10_is_missing  \\\n",
      "0              1              1              1              1               0   \n",
      "1              1              1              1              1               0   \n",
      "2              1              1              1              1               0   \n",
      "3              1              1              1              1               0   \n",
      "4              1              1              1              1               1   \n",
      "\n",
      "   D11_is_missing  D12_is_missing  D13_is_missing  D14_is_missing  \\\n",
      "0               0               1               1               1   \n",
      "1               1               1               1               1   \n",
      "2               0               1               1               1   \n",
      "3               1               1               1               1   \n",
      "4               1               1               1               1   \n",
      "\n",
      "   D15_is_missing  \n",
      "0               0  \n",
      "1               0  \n",
      "2               0  \n",
      "3               0  \n",
      "4               1  \n"
     ]
    }
   ],
   "source": [
    "print(df_transaction[[col + '_is_missing' for col in d_missing]].head())"
   ]
  },
  {
   "cell_type": "code",
   "execution_count": 17,
   "id": "1378c439",
   "metadata": {},
   "outputs": [],
   "source": [
    "D7_fraud_rate = df_transaction.groupby('D7_is_missing')['isFraud'].mean().sort_values(ascending=False) * 100"
   ]
  },
  {
   "cell_type": "code",
   "execution_count": 18,
   "id": "778e30b6",
   "metadata": {},
   "outputs": [
    {
     "data": {
      "text/plain": [
       "D7_is_missing\n",
       "0    10.770751\n",
       "1     2.030279\n",
       "Name: isFraud, dtype: float64"
      ]
     },
     "execution_count": 18,
     "metadata": {},
     "output_type": "execute_result"
    }
   ],
   "source": [
    "D7_fraud_rate"
   ]
  },
  {
   "cell_type": "code",
   "execution_count": 19,
   "id": "edff073e",
   "metadata": {},
   "outputs": [
    {
     "name": "stdout",
     "output_type": "stream",
     "text": [
      "                        0         1\n",
      "D1_is_missing    2.561000       NaN\n",
      "D2_is_missing    2.301319  2.751896\n",
      "D3_is_missing    2.656560  2.487720\n",
      "D4_is_missing    3.002322  2.046562\n",
      "D5_is_missing    3.458022  2.084896\n",
      "D6_is_missing    7.024566  1.909259\n",
      "D7_is_missing   10.770751  2.030279\n",
      "D8_is_missing    4.458569  2.034769\n",
      "D9_is_missing    4.458569  2.034769\n",
      "D10_is_missing   2.665258  2.328138\n",
      "D11_is_missing   1.663657  2.923829\n",
      "D12_is_missing   8.576868  1.854852\n",
      "D13_is_missing   8.045373  1.983886\n",
      "D14_is_missing   7.397113  1.953921\n",
      "D15_is_missing   2.794414  2.108850\n"
     ]
    }
   ],
   "source": [
    "d_missing_cols = [col + '_is_missing' for col in d_missing]\n",
    "\n",
    "# Create a DataFrame of fraud rates for all D missing columns\n",
    "fraud_summary = pd.DataFrame({\n",
    "    col: df_transaction.groupby(col)['isFraud'].mean() * 100\n",
    "    for col in d_missing_cols\n",
    "})\n",
    "\n",
    "# Transpose for easier reading (rows = D columns, columns = 0/1)\n",
    "fraud_summary = fraud_summary.T\n",
    "\n",
    "# Show the full summary\n",
    "print(fraud_summary)\n"
   ]
  },
  {
   "cell_type": "code",
   "execution_count": 20,
   "id": "404ff39d",
   "metadata": {},
   "outputs": [],
   "source": [
    "# Drop the non-predictive missing flags\n",
    "non_predictive = ['D1_is_missing', 'D2_is_missing', 'D3_is_missing', \n",
    "                  'D10_is_missing', 'D11_is_missing', 'D15_is_missing']\n",
    "\n",
    "df_transaction.drop(columns=non_predictive, inplace=True)"
   ]
  },
  {
   "cell_type": "markdown",
   "id": "c6c8f0ac",
   "metadata": {},
   "source": [
    "## Transaction Amount-Based Features"
   ]
  },
  {
   "cell_type": "code",
   "execution_count": 21,
   "id": "132af67d",
   "metadata": {},
   "outputs": [],
   "source": [
    "# Create amount bins based on your EDA findings\n",
    "def categorize_amount(amount):\n",
    "    if amount < 50:\n",
    "        return 'Low_value'\n",
    "    elif amount < 100:\n",
    "        return 'Medium-value'\n",
    "    elif amount < 500:\n",
    "        return 'Medium_high_value'  # The risky sweet spot!\n",
    "    elif amount < 1000:\n",
    "        return 'High-value'\n",
    "    else:\n",
    "        return 'Ultra-High-value'\n",
    "\n",
    "df_transaction['amount_category'] = df_transaction['TransactionAmt'].apply(categorize_amount)\n"
   ]
  },
  {
   "cell_type": "code",
   "execution_count": 22,
   "id": "14deb606",
   "metadata": {},
   "outputs": [
    {
     "data": {
      "text/plain": [
       "0             Medium-value\n",
       "1                Low_value\n",
       "2             Medium-value\n",
       "3             Medium-value\n",
       "4             Medium-value\n",
       "               ...        \n",
       "99995         Medium-value\n",
       "99996    Medium_high_value\n",
       "99997         Medium-value\n",
       "99998    Medium_high_value\n",
       "99999    Medium_high_value\n",
       "Name: amount_category, Length: 100000, dtype: object"
      ]
     },
     "execution_count": 22,
     "metadata": {},
     "output_type": "execute_result"
    }
   ],
   "source": [
    "df_transaction['amount_category']"
   ]
  },
  {
   "cell_type": "code",
   "execution_count": 23,
   "id": "ea3690be",
   "metadata": {},
   "outputs": [],
   "source": [
    "# Also create numeric amount risk score (fraud rate by category)\n",
    "amount_fraud_rates = df_transaction.groupby('amount_category')['isFraud'].mean() * 100"
   ]
  },
  {
   "cell_type": "code",
   "execution_count": 24,
   "id": "3539fe8f",
   "metadata": {},
   "outputs": [
    {
     "data": {
      "text/plain": [
       "amount_category\n",
       "High-value           2.956020\n",
       "Low_value            2.857737\n",
       "Medium-value         2.347229\n",
       "Medium_high_value    2.503508\n",
       "Ultra-High-value     1.188300\n",
       "Name: isFraud, dtype: float64"
      ]
     },
     "execution_count": 24,
     "metadata": {},
     "output_type": "execute_result"
    }
   ],
   "source": [
    "amount_fraud_rates"
   ]
  },
  {
   "cell_type": "code",
   "execution_count": 25,
   "id": "a8b5730e",
   "metadata": {},
   "outputs": [
    {
     "data": {
      "text/plain": [
       "amount_category    isFraud\n",
       "High-value         0          97.043980\n",
       "                   1           2.956020\n",
       "Low_value          0          97.142263\n",
       "                   1           2.857737\n",
       "Medium-value       0          97.652771\n",
       "                   1           2.347229\n",
       "Medium_high_value  0          97.496492\n",
       "                   1           2.503508\n",
       "Ultra-High-value   0          98.811700\n",
       "                   1           1.188300\n",
       "Name: proportion, dtype: float64"
      ]
     },
     "execution_count": 25,
     "metadata": {},
     "output_type": "execute_result"
    }
   ],
   "source": [
    "df_transaction.groupby('amount_category')['isFraud'].value_counts(normalize=True) * 100"
   ]
  },
  {
   "cell_type": "code",
   "execution_count": 26,
   "id": "9dfd212a",
   "metadata": {},
   "outputs": [],
   "source": [
    "amount_risk_map = amount_fraud_rates.to_dict()\n",
    "df_transaction['amount_risk_score'] = df_transaction['amount_category'].map(amount_risk_map)"
   ]
  },
  {
   "cell_type": "code",
   "execution_count": 27,
   "id": "cb2b883f",
   "metadata": {},
   "outputs": [
    {
     "data": {
      "text/plain": [
       "0        2.347229\n",
       "1        2.857737\n",
       "2        2.347229\n",
       "3        2.347229\n",
       "4        2.347229\n",
       "           ...   \n",
       "99995    2.347229\n",
       "99996    2.503508\n",
       "99997    2.347229\n",
       "99998    2.503508\n",
       "99999    2.503508\n",
       "Name: amount_risk_score, Length: 100000, dtype: float64"
      ]
     },
     "execution_count": 27,
     "metadata": {},
     "output_type": "execute_result"
    }
   ],
   "source": [
    "df_transaction['amount_risk_score'] "
   ]
  },
  {
   "cell_type": "code",
   "execution_count": 28,
   "id": "49d2a450",
   "metadata": {},
   "outputs": [
    {
     "name": "stdout",
     "output_type": "stream",
     "text": [
      "Amount categories distribution:\n",
      "amount_category\n",
      "Medium_high_value    39904\n",
      "Low_value            28834\n",
      "Medium-value         27394\n",
      "High-value            2774\n",
      "Ultra-High-value      1094\n",
      "Name: count, dtype: int64\n",
      "\n",
      "Amount risk scores:\n",
      "amount_category\n",
      "High-value           2.956020\n",
      "Low_value            2.857737\n",
      "Medium_high_value    2.503508\n",
      "Medium-value         2.347229\n",
      "Ultra-High-value     1.188300\n",
      "Name: amount_risk_score, dtype: float64\n"
     ]
    }
   ],
   "source": [
    "# Verify\n",
    "print(\"Amount categories distribution:\")\n",
    "print(df_transaction['amount_category'].value_counts())\n",
    "print(\"\\nAmount risk scores:\")\n",
    "print(df_transaction.groupby('amount_category')['amount_risk_score'].first().sort_values(ascending=False))"
   ]
  },
  {
   "cell_type": "code",
   "execution_count": 29,
   "id": "b27d4d9d",
   "metadata": {},
   "outputs": [
    {
     "name": "stdout",
     "output_type": "stream",
     "text": [
      "   TransactionAmt    amount_category  amount_risk_score  isFraud\n",
      "0            68.5       Medium-value           2.347229        0\n",
      "1            29.0          Low_value           2.857737        0\n",
      "2            59.0       Medium-value           2.347229        0\n",
      "3            50.0       Medium-value           2.347229        0\n",
      "4            50.0       Medium-value           2.347229        0\n",
      "5            49.0          Low_value           2.857737        0\n",
      "6           159.0  Medium_high_value           2.503508        0\n",
      "7           422.5  Medium_high_value           2.503508        0\n",
      "8            15.0          Low_value           2.857737        0\n",
      "9           117.0  Medium_high_value           2.503508        0\n"
     ]
    }
   ],
   "source": [
    "# Check a few sample rows\n",
    "print(df_transaction[['TransactionAmt', 'amount_category', 'amount_risk_score', 'isFraud']].head(10))"
   ]
  },
  {
   "cell_type": "markdown",
   "id": "fa07d783",
   "metadata": {},
   "source": [
    "##  Email Features"
   ]
  },
  {
   "cell_type": "code",
   "execution_count": 30,
   "id": "5e92efae",
   "metadata": {},
   "outputs": [
    {
     "name": "stderr",
     "output_type": "stream",
     "text": [
      "C:\\Users\\Administrator\\AppData\\Local\\Temp\\ipykernel_22696\\2073724044.py:18: FutureWarning: A value is trying to be set on a copy of a DataFrame or Series through chained assignment using an inplace method.\n",
      "The behavior will change in pandas 3.0. This inplace method will never work because the intermediate object on which we are setting values always behaves as a copy.\n",
      "\n",
      "For example, when doing 'df[col].method(value, inplace=True)', try using 'df.method({col: value}, inplace=True)' or df[col] = df[col].method(value) instead, to perform the operation inplace on the original object.\n",
      "\n",
      "\n",
      "  df_transaction['P_email_risk'].fillna(2.56, inplace=True)\n"
     ]
    }
   ],
   "source": [
    "# 1. Email domain risk scores (using your EDA findings)\n",
    "email_risk_map = {\n",
    "    'outlook.com': 6.91,\n",
    "    'hotmail.com': 4.63,\n",
    "    'icloud.com': 3.58,\n",
    "    'gmail.com': 3.52,\n",
    "    'msn.com': 1.64,\n",
    "    'aol.com': 1.42,\n",
    "    'yahoo.com': 1.35,\n",
    "    'anonymous.com': 1.05,\n",
    "    'att.net': 0.86,\n",
    "    'comcast.net': 0.86\n",
    "}\n",
    "\n",
    "df_transaction['P_email_risk'] = df_transaction['P_emaildomain'].map(email_risk_map)\n",
    "\n",
    "# Fill missing with baseline\n",
    "df_transaction['P_email_risk'].fillna(2.56, inplace=True)\n",
    "\n",
    "# 2. Email match feature (P = R)\n",
    "df_transaction['email_match'] = (df_transaction['P_emaildomain'] == df_transaction['R_emaildomain']).astype(int)\n",
    "\n",
    "# 3. Check if email is missing\n",
    "df_transaction['P_email_missing'] = df_transaction['P_emaildomain'].isna().astype(int)"
   ]
  },
  {
   "cell_type": "code",
   "execution_count": 31,
   "id": "8708893e",
   "metadata": {},
   "outputs": [
    {
     "data": {
      "text/plain": [
       "0        0\n",
       "1        0\n",
       "2        0\n",
       "3        0\n",
       "4        0\n",
       "        ..\n",
       "99995    1\n",
       "99996    0\n",
       "99997    0\n",
       "99998    1\n",
       "99999    0\n",
       "Name: email_match, Length: 100000, dtype: int64"
      ]
     },
     "execution_count": 31,
     "metadata": {},
     "output_type": "execute_result"
    }
   ],
   "source": [
    "df_transaction['email_match']"
   ]
  },
  {
   "cell_type": "code",
   "execution_count": 32,
   "id": "af4b359e",
   "metadata": {},
   "outputs": [
    {
     "name": "stdout",
     "output_type": "stream",
     "text": [
      "Email features created:\n",
      "   P_emaildomain  P_email_risk  email_match  P_email_missing\n",
      "0            NaN          2.56            0                1\n",
      "1      gmail.com          3.52            0                0\n",
      "2    outlook.com          6.91            0                0\n",
      "3      yahoo.com          1.35            0                0\n",
      "4      gmail.com          3.52            0                0\n",
      "5      gmail.com          3.52            0                0\n",
      "6      yahoo.com          1.35            0                0\n",
      "7       mail.com          2.56            0                0\n",
      "8  anonymous.com          1.05            0                0\n",
      "9      yahoo.com          1.35            0                0\n"
     ]
    }
   ],
   "source": [
    "print(\"Email features created:\")\n",
    "print(df_transaction[['P_emaildomain', 'P_email_risk', 'email_match', 'P_email_missing']].head(10))"
   ]
  },
  {
   "cell_type": "markdown",
   "id": "356eb3bf",
   "metadata": {},
   "source": [
    "## Product features:"
   ]
  },
  {
   "cell_type": "code",
   "execution_count": 33,
   "id": "9a452bfd",
   "metadata": {},
   "outputs": [
    {
     "data": {
      "text/plain": [
       "ProductCD\n",
       "C    8.783367\n",
       "H    1.977965\n",
       "R    1.078403\n",
       "S    2.335709\n",
       "W    1.846056\n",
       "Name: isFraud, dtype: float64"
      ]
     },
     "execution_count": 33,
     "metadata": {},
     "output_type": "execute_result"
    }
   ],
   "source": [
    "df_transaction.groupby('ProductCD')['isFraud'].mean() * 100"
   ]
  },
  {
   "cell_type": "code",
   "execution_count": 34,
   "id": "eb0b44f8",
   "metadata": {},
   "outputs": [],
   "source": [
    "# Product risk scores from your EDA\n",
    "product_risk_map = {\n",
    "    'C': 8.78,\n",
    "    'S': 2.34,\n",
    "    'H': 1.98,\n",
    "    'W': 1.85,\n",
    "    'R': 1.08\n",
    "}\n",
    "\n",
    "df_transaction['product_risk_score'] = df_transaction['ProductCD'].map(product_risk_map)\n",
    "\n",
    "# Binary flag for high-risk Product C\n",
    "df_transaction['is_product_c'] = (df_transaction['ProductCD'] == 'C').astype(int)"
   ]
  },
  {
   "cell_type": "code",
   "execution_count": 35,
   "id": "489a1d9b",
   "metadata": {},
   "outputs": [
    {
     "name": "stdout",
     "output_type": "stream",
     "text": [
      "Product features:\n",
      "ProductCD  product_risk_score  is_product_c\n",
      "W          1.85                0               56878\n",
      "H          1.98                0               15521\n",
      "R          1.08                0               13724\n",
      "C          8.78                1               11351\n",
      "S          2.34                0                2526\n",
      "Name: count, dtype: int64\n"
     ]
    }
   ],
   "source": [
    "print(\"Product features:\")\n",
    "print(df_transaction[['ProductCD', 'product_risk_score', 'is_product_c']].value_counts().head(10))"
   ]
  },
  {
   "cell_type": "markdown",
   "id": "7d9d4ef1",
   "metadata": {},
   "source": [
    "## Card Feature:"
   ]
  },
  {
   "cell_type": "code",
   "execution_count": 36,
   "id": "425626f6",
   "metadata": {},
   "outputs": [
    {
     "name": "stderr",
     "output_type": "stream",
     "text": [
      "C:\\Users\\Administrator\\AppData\\Local\\Temp\\ipykernel_22696\\810896812.py:10: FutureWarning: A value is trying to be set on a copy of a DataFrame or Series through chained assignment using an inplace method.\n",
      "The behavior will change in pandas 3.0. This inplace method will never work because the intermediate object on which we are setting values always behaves as a copy.\n",
      "\n",
      "For example, when doing 'df[col].method(value, inplace=True)', try using 'df.method({col: value}, inplace=True)' or df[col] = df[col].method(value) instead, to perform the operation inplace on the original object.\n",
      "\n",
      "\n",
      "  df_transaction['card_type_risk'].fillna(2.56, inplace=True)  # Fill missing with baseline\n",
      "C:\\Users\\Administrator\\AppData\\Local\\Temp\\ipykernel_22696\\810896812.py:21: FutureWarning: A value is trying to be set on a copy of a DataFrame or Series through chained assignment using an inplace method.\n",
      "The behavior will change in pandas 3.0. This inplace method will never work because the intermediate object on which we are setting values always behaves as a copy.\n",
      "\n",
      "For example, when doing 'df[col].method(value, inplace=True)', try using 'df.method({col: value}, inplace=True)' or df[col] = df[col].method(value) instead, to perform the operation inplace on the original object.\n",
      "\n",
      "\n",
      "  df_transaction['card_brand_risk'].fillna(2.56, inplace=True)\n"
     ]
    }
   ],
   "source": [
    "# Card type risk scores\n",
    "card_type_risk = {\n",
    "    'credit': 3.60,\n",
    "    'debit': 2.00,\n",
    "    'debit or credit': 0.00,  # Too few samples\n",
    "    'charge card': 0.00\n",
    "}\n",
    "\n",
    "df_transaction['card_type_risk'] = df_transaction['card6'].map(card_type_risk)\n",
    "df_transaction['card_type_risk'].fillna(2.56, inplace=True)  # Fill missing with baseline\n",
    "\n",
    "# Card brand risk scores\n",
    "card_brand_risk = {\n",
    "    'mastercard': 2.88,\n",
    "    'discover': 2.53,\n",
    "    'visa': 2.49,\n",
    "    'american express': 1.14\n",
    "}\n",
    "\n",
    "df_transaction['card_brand_risk'] = df_transaction['card4'].map(card_brand_risk)\n",
    "df_transaction['card_brand_risk'].fillna(2.56, inplace=True)\n",
    "\n",
    "# Binary flag for credit card\n",
    "df_transaction['is_credit_card'] = (df_transaction['card6'] == 'credit').astype(int)"
   ]
  },
  {
   "cell_type": "code",
   "execution_count": 37,
   "id": "5a2b5517",
   "metadata": {},
   "outputs": [
    {
     "name": "stdout",
     "output_type": "stream",
     "text": [
      "Card features sample:\n",
      "        card4   card6  card_brand_risk  card_type_risk  is_credit_card\n",
      "0    discover  credit             2.53             3.6               1\n",
      "1  mastercard  credit             2.88             3.6               1\n",
      "2        visa   debit             2.49             2.0               0\n",
      "3  mastercard   debit             2.88             2.0               0\n",
      "4  mastercard  credit             2.88             3.6               1\n",
      "5        visa   debit             2.49             2.0               0\n",
      "6        visa   debit             2.49             2.0               0\n",
      "7        visa   debit             2.49             2.0               0\n",
      "8        visa   debit             2.49             2.0               0\n",
      "9  mastercard   debit             2.88             2.0               0\n"
     ]
    }
   ],
   "source": [
    "print(\"Card features sample:\")\n",
    "print(df_transaction[['card4', 'card6', 'card_brand_risk', 'card_type_risk', 'is_credit_card']].head(10))"
   ]
  },
  {
   "cell_type": "markdown",
   "id": "0171e3f5",
   "metadata": {},
   "source": [
    "### TIME CONVERSION \n"
   ]
  },
  {
   "cell_type": "code",
   "execution_count": 38,
   "id": "8c43060e",
   "metadata": {},
   "outputs": [
    {
     "data": {
      "text/plain": [
       "dtype('int64')"
      ]
     },
     "execution_count": 38,
     "metadata": {},
     "output_type": "execute_result"
    }
   ],
   "source": [
    "df_transaction[\"TransactionDT\"].dtype"
   ]
  },
  {
   "cell_type": "code",
   "execution_count": 39,
   "id": "8aebdae5",
   "metadata": {},
   "outputs": [],
   "source": [
    "start_date = pd.Timestamp('2017-12-01')\n",
    "\n",
    "df_transaction[\"TransactionDT\"] = start_date + pd.to_timedelta(df_transaction[\"TransactionDT\"], unit='s')"
   ]
  },
  {
   "cell_type": "code",
   "execution_count": 40,
   "id": "9f67346b",
   "metadata": {},
   "outputs": [],
   "source": [
    "df_transaction[\"datetime\"] = df_transaction[\"TransactionDT\"]"
   ]
  },
  {
   "cell_type": "code",
   "execution_count": 41,
   "id": "a0ec69f1",
   "metadata": {},
   "outputs": [
    {
     "data": {
      "text/plain": [
       "dtype('<M8[ns]')"
      ]
     },
     "execution_count": 41,
     "metadata": {},
     "output_type": "execute_result"
    }
   ],
   "source": [
    "df_transaction[\"datetime\"].dtype"
   ]
  },
  {
   "cell_type": "code",
   "execution_count": 42,
   "id": "094c32d5",
   "metadata": {},
   "outputs": [],
   "source": [
    "df_transaction[\"hour\"] = df_transaction[\"datetime\"].dt.hour"
   ]
  },
  {
   "cell_type": "code",
   "execution_count": 43,
   "id": "7eaf12d7",
   "metadata": {},
   "outputs": [],
   "source": [
    "df_transaction[\"day_of_week\"] = df_transaction[\"datetime\"].dt.dayofweek\n"
   ]
  },
  {
   "cell_type": "code",
   "execution_count": 44,
   "id": "05585a59",
   "metadata": {},
   "outputs": [],
   "source": [
    "df_transaction[\"is_weekend\"] = df_transaction[\"day_of_week\"].isin([5, 6])\n"
   ]
  },
  {
   "cell_type": "code",
   "execution_count": 45,
   "id": "e777af1d",
   "metadata": {},
   "outputs": [],
   "source": [
    "fraud_by_hour = df_transaction.groupby('hour')['isFraud'].mean() * 100"
   ]
  },
  {
   "cell_type": "code",
   "execution_count": 46,
   "id": "0fb7dc80",
   "metadata": {},
   "outputs": [],
   "source": [
    "fraud_transaction_day = df_transaction.groupby('day_of_week')['isFraud'].mean() * 100"
   ]
  },
  {
   "cell_type": "code",
   "execution_count": 47,
   "id": "578c5894",
   "metadata": {},
   "outputs": [],
   "source": [
    "# Map hour to fraud rate (your actual data)\n",
    "hour_risk_map = fraud_by_hour.to_dict()\n",
    "\n",
    "# Map day to fraud rate (your actual data)\n",
    "day_risk_map = fraud_transaction_day.to_dict()\n",
    "\n",
    "# Create the numeric features\n",
    "df_transaction['hour_risk_score'] = df_transaction['hour'].map(hour_risk_map)\n",
    "df_transaction['day_risk_score'] = df_transaction['day_of_week'].map(day_risk_map)\n",
    "\n",
    "# Combined temporal risk score (average)\n",
    "df_transaction['temporal_risk_score'] = (df_transaction['hour_risk_score'] + \n",
    "                                          df_transaction['day_risk_score']) / 2"
   ]
  },
  {
   "cell_type": "code",
   "execution_count": 48,
   "id": "07fdf20a",
   "metadata": {},
   "outputs": [],
   "source": [
    "# Create categorical risk levels\n",
    "def categorize_temporal_risk(score):\n",
    "    if score > 4.0:\n",
    "        return 'very_high'\n",
    "    elif score > 3.0:\n",
    "        return 'high'\n",
    "    elif score > 2.3:\n",
    "        return 'medium'\n",
    "    elif score > 2.0:\n",
    "        return 'low'\n",
    "    else:\n",
    "        return 'very_low'\n",
    "\n",
    "df_transaction['temporal_risk_category'] = df_transaction['temporal_risk_score'].apply(categorize_temporal_risk)"
   ]
  },
  {
   "cell_type": "code",
   "execution_count": 49,
   "id": "826c78f7",
   "metadata": {},
   "outputs": [
    {
     "name": "stdout",
     "output_type": "stream",
     "text": [
      "['TransactionID', 'isFraud', 'TransactionDT', 'TransactionAmt', 'ProductCD', 'card1', 'card2', 'card3', 'card4', 'card5', 'card6', 'addr1', 'addr2', 'dist1', 'dist2', 'P_emaildomain', 'R_emaildomain', 'C1', 'C2', 'C3', 'C4', 'C5', 'C6', 'C7', 'C8', 'C9', 'C10', 'C11', 'C12', 'C13', 'C14', 'D1', 'D2', 'D3', 'D4', 'D5', 'D6', 'D7', 'D8', 'D9', 'D10', 'D11', 'D12', 'D13', 'D14', 'D15', 'M1', 'M2', 'M3', 'M4', 'M5', 'M6', 'M7', 'M8', 'M9', 'V1', 'V2', 'V3', 'V4', 'V5', 'V6', 'V7', 'V8', 'V9', 'V10', 'V11', 'V12', 'V13', 'V14', 'V15', 'V16', 'V17', 'V18', 'V19', 'V20', 'V21', 'V22', 'V23', 'V24', 'V25', 'V26', 'V27', 'V28', 'V29', 'V30', 'V31', 'V32', 'V33', 'V34', 'V35', 'V36', 'V37', 'V38', 'V39', 'V40', 'V41', 'V42', 'V43', 'V44', 'V45', 'V46', 'V47', 'V48', 'V49', 'V50', 'V51', 'V52', 'V53', 'V54', 'V55', 'V56', 'V57', 'V58', 'V59', 'V60', 'V61', 'V62', 'V63', 'V64', 'V65', 'V66', 'V67', 'V68', 'V69', 'V70', 'V71', 'V72', 'V73', 'V74', 'V75', 'V76', 'V77', 'V78', 'V79', 'V80', 'V81', 'V82', 'V83', 'V84', 'V85', 'V86', 'V87', 'V88', 'V89', 'V90', 'V91', 'V92', 'V93', 'V94', 'V95', 'V96', 'V97', 'V98', 'V99', 'V100', 'V101', 'V102', 'V103', 'V104', 'V105', 'V106', 'V107', 'V108', 'V109', 'V110', 'V111', 'V112', 'V113', 'V114', 'V115', 'V116', 'V117', 'V118', 'V119', 'V120', 'V121', 'V122', 'V123', 'V124', 'V125', 'V126', 'V127', 'V128', 'V129', 'V130', 'V131', 'V132', 'V133', 'V134', 'V135', 'V136', 'V137', 'V138', 'V139', 'V140', 'V141', 'V142', 'V143', 'V144', 'V145', 'V146', 'V147', 'V148', 'V149', 'V150', 'V151', 'V152', 'V153', 'V154', 'V155', 'V156', 'V157', 'V158', 'V159', 'V160', 'V161', 'V162', 'V163', 'V164', 'V165', 'V166', 'V167', 'V168', 'V169', 'V170', 'V171', 'V172', 'V173', 'V174', 'V175', 'V176', 'V177', 'V178', 'V179', 'V180', 'V181', 'V182', 'V183', 'V184', 'V185', 'V186', 'V187', 'V188', 'V189', 'V190', 'V191', 'V192', 'V193', 'V194', 'V195', 'V196', 'V197', 'V198', 'V199', 'V200', 'V201', 'V202', 'V203', 'V204', 'V205', 'V206', 'V207', 'V208', 'V209', 'V210', 'V211', 'V212', 'V213', 'V214', 'V215', 'V216', 'V217', 'V218', 'V219', 'V220', 'V221', 'V222', 'V223', 'V224', 'V225', 'V226', 'V227', 'V228', 'V229', 'V230', 'V231', 'V232', 'V233', 'V234', 'V235', 'V236', 'V237', 'V238', 'V239', 'V240', 'V241', 'V242', 'V243', 'V244', 'V245', 'V246', 'V247', 'V248', 'V249', 'V250', 'V251', 'V252', 'V253', 'V254', 'V255', 'V256', 'V257', 'V258', 'V259', 'V260', 'V261', 'V262', 'V263', 'V264', 'V265', 'V266', 'V267', 'V268', 'V269', 'V270', 'V271', 'V272', 'V273', 'V274', 'V275', 'V276', 'V277', 'V278', 'V279', 'V280', 'V281', 'V282', 'V283', 'V284', 'V285', 'V286', 'V287', 'V288', 'V289', 'V290', 'V291', 'V292', 'V293', 'V294', 'V295', 'V296', 'V297', 'V298', 'V299', 'V300', 'V301', 'V302', 'V303', 'V304', 'V305', 'V306', 'V307', 'V308', 'V309', 'V310', 'V311', 'V312', 'V313', 'V314', 'V315', 'V316', 'V317', 'V318', 'V319', 'V320', 'V321', 'V322', 'V323', 'V324', 'V325', 'V326', 'V327', 'V328', 'V329', 'V330', 'V331', 'V332', 'V333', 'V334', 'V335', 'V336', 'V337', 'V338', 'V339', 'D7_is_missing', 'D4_is_missing', 'D5_is_missing', 'D6_is_missing', 'D8_is_missing', 'D9_is_missing', 'D12_is_missing', 'D13_is_missing', 'D14_is_missing', 'amount_category', 'amount_risk_score', 'P_email_risk', 'email_match', 'P_email_missing', 'product_risk_score', 'is_product_c', 'card_type_risk', 'card_brand_risk', 'is_credit_card', 'datetime', 'hour', 'day_of_week', 'is_weekend', 'hour_risk_score', 'day_risk_score', 'temporal_risk_score', 'temporal_risk_category']\n"
     ]
    }
   ],
   "source": [
    "print(df_transaction.columns.tolist())"
   ]
  },
  {
   "cell_type": "markdown",
   "id": "13b6fdbe",
   "metadata": {},
   "source": [
    "## Interaction Features"
   ]
  },
  {
   "cell_type": "markdown",
   "id": "c08a7bcb",
   "metadata": {},
   "source": [
    "### Product C × Hour (Product C fraud peaks at 2pm)"
   ]
  },
  {
   "cell_type": "code",
   "execution_count": 50,
   "id": "6d6ba424",
   "metadata": {},
   "outputs": [],
   "source": [
    "df_transaction['productC_risky_hours'] = (\n",
    "    (df_transaction['ProductCD'] == 'C') & \n",
    "    (df_transaction['hour'].between(10, 14))\n",
    ").astype(int)"
   ]
  },
  {
   "cell_type": "code",
   "execution_count": 51,
   "id": "388c3117",
   "metadata": {},
   "outputs": [
    {
     "data": {
      "text/plain": [
       "0        0\n",
       "1        0\n",
       "2        0\n",
       "3        0\n",
       "4        0\n",
       "        ..\n",
       "99995    0\n",
       "99996    0\n",
       "99997    0\n",
       "99998    0\n",
       "99999    0\n",
       "Name: productC_risky_hours, Length: 100000, dtype: int64"
      ]
     },
     "execution_count": 51,
     "metadata": {},
     "output_type": "execute_result"
    }
   ],
   "source": [
    "df_transaction['productC_risky_hours'] "
   ]
  },
  {
   "cell_type": "markdown",
   "id": "954e92ce",
   "metadata": {},
   "source": [
    "### Amount × Hour (small amounts at risky hours)"
   ]
  },
  {
   "cell_type": "code",
   "execution_count": 52,
   "id": "b784ecc9",
   "metadata": {},
   "outputs": [],
   "source": [
    "df_transaction['small_amount_early_morning'] = (\n",
    "    (df_transaction['TransactionAmt'] < 100) & \n",
    "    (df_transaction['hour'].between(4, 9))\n",
    ").astype(int)"
   ]
  },
  {
   "cell_type": "markdown",
   "id": "ec6140c6",
   "metadata": {},
   "source": [
    "### High-risk email + credit card combo"
   ]
  },
  {
   "cell_type": "code",
   "execution_count": 53,
   "id": "2b6428ac",
   "metadata": {},
   "outputs": [],
   "source": [
    "df_transaction['risky_email_credit'] = (\n",
    "    (df_transaction['P_email_risk'] > 4.0) & \n",
    "    (df_transaction['is_credit_card'] == 1)\n",
    ").astype(int)"
   ]
  },
  {
   "cell_type": "markdown",
   "id": "ef6bee67",
   "metadata": {},
   "source": [
    "### Product C × Amount (low-value Product C purchases"
   ]
  },
  {
   "cell_type": "code",
   "execution_count": 54,
   "id": "2c427ab1",
   "metadata": {},
   "outputs": [],
   "source": [
    "df_transaction['risky_product_C_amount'] = (\n",
    "     (df_transaction['ProductCD'] == 'C') & \n",
    "    (df_transaction['TransactionAmt'] < 50)\n",
    ").astype(int)"
   ]
  },
  {
   "cell_type": "markdown",
   "id": "3b27bebe",
   "metadata": {},
   "source": [
    "### Combined risk score (temporal + product + amount + email + card)"
   ]
  },
  {
   "cell_type": "code",
   "execution_count": 55,
   "id": "e5272f24",
   "metadata": {},
   "outputs": [],
   "source": [
    "df_transaction['combined_risk_score'] = (\n",
    "    df_transaction['temporal_risk_score'] +\n",
    "    df_transaction['product_risk_score'] +\n",
    "    df_transaction['amount_risk_score'] +\n",
    "    df_transaction['P_email_risk'] +\n",
    "    df_transaction['card_type_risk']\n",
    ") / 5  # Average of all risk scores"
   ]
  },
  {
   "cell_type": "code",
   "execution_count": 56,
   "id": "177620b1",
   "metadata": {},
   "outputs": [],
   "source": [
    "# Alternative using mean() as mean calcuates across colums and mean(axis=1) can be used to specify row-wise operation\n",
    "df_transaction['combined_risk_score'] = df_transaction[[\n",
    "    'temporal_risk_score',\n",
    "    'product_risk_score',\n",
    "    'amount_risk_score',\n",
    "    'P_email_risk',\n",
    "    'card_type_risk'\n",
    "]].mean(axis=1)"
   ]
  },
  {
   "cell_type": "code",
   "execution_count": 57,
   "id": "f1b4bf71",
   "metadata": {},
   "outputs": [
    {
     "name": "stdout",
     "output_type": "stream",
     "text": [
      "Interaction features sample:\n",
      "  ProductCD  hour  TransactionAmt  productC_risky_hours  \\\n",
      "0         W     0            68.5                     0   \n",
      "1         W     0            29.0                     0   \n",
      "2         W     0            59.0                     0   \n",
      "3         W     0            50.0                     0   \n",
      "4         H     0            50.0                     0   \n",
      "5         W     0            49.0                     0   \n",
      "6         W     0           159.0                     0   \n",
      "7         W     0           422.5                     0   \n",
      "8         H     0            15.0                     0   \n",
      "9         W     0           117.0                     0   \n",
      "\n",
      "   small_amount_early_morning  combined_risk_score  isFraud  \n",
      "0                           0             2.550568        0  \n",
      "1                           0             2.844670        0  \n",
      "2                           0             3.100568        0  \n",
      "3                           0             1.988568        0  \n",
      "4                           0             2.768568        0  \n",
      "5                           0             2.524670        0  \n",
      "6                           0             2.019824        0  \n",
      "7                           0             2.261824        0  \n",
      "8                           0             2.056670        0  \n",
      "9                           0             2.019824        0  \n"
     ]
    }
   ],
   "source": [
    "print(\"Interaction features sample:\")\n",
    "print(df_transaction[['ProductCD', 'hour', 'TransactionAmt', 'productC_risky_hours', \n",
    "                      'small_amount_early_morning', 'combined_risk_score', 'isFraud']].head(10))"
   ]
  },
  {
   "cell_type": "code",
   "execution_count": 58,
   "id": "542c4cf4",
   "metadata": {},
   "outputs": [
    {
     "name": "stdout",
     "output_type": "stream",
     "text": [
      "['TransactionID', 'isFraud', 'TransactionDT', 'TransactionAmt', 'ProductCD', 'card1', 'card2', 'card3', 'card4', 'card5', 'card6', 'addr1', 'addr2', 'dist1', 'dist2', 'P_emaildomain', 'R_emaildomain', 'C1', 'C2', 'C3', 'C4', 'C5', 'C6', 'C7', 'C8', 'C9', 'C10', 'C11', 'C12', 'C13', 'C14', 'D1', 'D2', 'D3', 'D4', 'D5', 'D6', 'D7', 'D8', 'D9', 'D10', 'D11', 'D12', 'D13', 'D14', 'D15', 'M1', 'M2', 'M3', 'M4', 'M5', 'M6', 'M7', 'M8', 'M9', 'V1', 'V2', 'V3', 'V4', 'V5', 'V6', 'V7', 'V8', 'V9', 'V10', 'V11', 'V12', 'V13', 'V14', 'V15', 'V16', 'V17', 'V18', 'V19', 'V20', 'V21', 'V22', 'V23', 'V24', 'V25', 'V26', 'V27', 'V28', 'V29', 'V30', 'V31', 'V32', 'V33', 'V34', 'V35', 'V36', 'V37', 'V38', 'V39', 'V40', 'V41', 'V42', 'V43', 'V44', 'V45', 'V46', 'V47', 'V48', 'V49', 'V50', 'V51', 'V52', 'V53', 'V54', 'V55', 'V56', 'V57', 'V58', 'V59', 'V60', 'V61', 'V62', 'V63', 'V64', 'V65', 'V66', 'V67', 'V68', 'V69', 'V70', 'V71', 'V72', 'V73', 'V74', 'V75', 'V76', 'V77', 'V78', 'V79', 'V80', 'V81', 'V82', 'V83', 'V84', 'V85', 'V86', 'V87', 'V88', 'V89', 'V90', 'V91', 'V92', 'V93', 'V94', 'V95', 'V96', 'V97', 'V98', 'V99', 'V100', 'V101', 'V102', 'V103', 'V104', 'V105', 'V106', 'V107', 'V108', 'V109', 'V110', 'V111', 'V112', 'V113', 'V114', 'V115', 'V116', 'V117', 'V118', 'V119', 'V120', 'V121', 'V122', 'V123', 'V124', 'V125', 'V126', 'V127', 'V128', 'V129', 'V130', 'V131', 'V132', 'V133', 'V134', 'V135', 'V136', 'V137', 'V138', 'V139', 'V140', 'V141', 'V142', 'V143', 'V144', 'V145', 'V146', 'V147', 'V148', 'V149', 'V150', 'V151', 'V152', 'V153', 'V154', 'V155', 'V156', 'V157', 'V158', 'V159', 'V160', 'V161', 'V162', 'V163', 'V164', 'V165', 'V166', 'V167', 'V168', 'V169', 'V170', 'V171', 'V172', 'V173', 'V174', 'V175', 'V176', 'V177', 'V178', 'V179', 'V180', 'V181', 'V182', 'V183', 'V184', 'V185', 'V186', 'V187', 'V188', 'V189', 'V190', 'V191', 'V192', 'V193', 'V194', 'V195', 'V196', 'V197', 'V198', 'V199', 'V200', 'V201', 'V202', 'V203', 'V204', 'V205', 'V206', 'V207', 'V208', 'V209', 'V210', 'V211', 'V212', 'V213', 'V214', 'V215', 'V216', 'V217', 'V218', 'V219', 'V220', 'V221', 'V222', 'V223', 'V224', 'V225', 'V226', 'V227', 'V228', 'V229', 'V230', 'V231', 'V232', 'V233', 'V234', 'V235', 'V236', 'V237', 'V238', 'V239', 'V240', 'V241', 'V242', 'V243', 'V244', 'V245', 'V246', 'V247', 'V248', 'V249', 'V250', 'V251', 'V252', 'V253', 'V254', 'V255', 'V256', 'V257', 'V258', 'V259', 'V260', 'V261', 'V262', 'V263', 'V264', 'V265', 'V266', 'V267', 'V268', 'V269', 'V270', 'V271', 'V272', 'V273', 'V274', 'V275', 'V276', 'V277', 'V278', 'V279', 'V280', 'V281', 'V282', 'V283', 'V284', 'V285', 'V286', 'V287', 'V288', 'V289', 'V290', 'V291', 'V292', 'V293', 'V294', 'V295', 'V296', 'V297', 'V298', 'V299', 'V300', 'V301', 'V302', 'V303', 'V304', 'V305', 'V306', 'V307', 'V308', 'V309', 'V310', 'V311', 'V312', 'V313', 'V314', 'V315', 'V316', 'V317', 'V318', 'V319', 'V320', 'V321', 'V322', 'V323', 'V324', 'V325', 'V326', 'V327', 'V328', 'V329', 'V330', 'V331', 'V332', 'V333', 'V334', 'V335', 'V336', 'V337', 'V338', 'V339', 'D7_is_missing', 'D4_is_missing', 'D5_is_missing', 'D6_is_missing', 'D8_is_missing', 'D9_is_missing', 'D12_is_missing', 'D13_is_missing', 'D14_is_missing', 'amount_category', 'amount_risk_score', 'P_email_risk', 'email_match', 'P_email_missing', 'product_risk_score', 'is_product_c', 'card_type_risk', 'card_brand_risk', 'is_credit_card', 'datetime', 'hour', 'day_of_week', 'is_weekend', 'hour_risk_score', 'day_risk_score', 'temporal_risk_score', 'temporal_risk_category', 'productC_risky_hours', 'small_amount_early_morning', 'risky_email_credit', 'risky_product_C_amount', 'combined_risk_score']\n"
     ]
    }
   ],
   "source": [
    "print(df_transaction.columns.tolist())"
   ]
  },
  {
   "cell_type": "code",
   "execution_count": 59,
   "id": "ce366117",
   "metadata": {},
   "outputs": [
    {
     "name": "stdout",
     "output_type": "stream",
     "text": [
      "  ProductCD       card4   card6 P_emaildomain R_emaildomain   M1   M2   M3  \\\n",
      "0         W    discover  credit           NaN           NaN    T    T    T   \n",
      "1         W  mastercard  credit     gmail.com           NaN  NaN  NaN  NaN   \n",
      "2         W        visa   debit   outlook.com           NaN    T    T    T   \n",
      "3         W  mastercard   debit     yahoo.com           NaN  NaN  NaN  NaN   \n",
      "4         H  mastercard  credit     gmail.com           NaN  NaN  NaN  NaN   \n",
      "\n",
      "    M4   M5   M6   M7   M8   M9 amount_category temporal_risk_category  \n",
      "0   M2    F    T  NaN  NaN  NaN    Medium-value                 medium  \n",
      "1   M0    T    T  NaN  NaN  NaN       Low_value                 medium  \n",
      "2   M0    F    F    F    F    F    Medium-value                 medium  \n",
      "3   M0    T    F  NaN  NaN  NaN    Medium-value                 medium  \n",
      "4  NaN  NaN  NaN  NaN  NaN  NaN    Medium-value                 medium  \n"
     ]
    }
   ],
   "source": [
    "print(df_transaction.select_dtypes(include='object').head(5))\n"
   ]
  },
  {
   "cell_type": "code",
   "execution_count": 60,
   "id": "fe911d84",
   "metadata": {},
   "outputs": [
    {
     "data": {
      "text/plain": [
       "Index(['ProductCD', 'card4', 'card6', 'P_emaildomain', 'R_emaildomain', 'M1',\n",
       "       'M2', 'M3', 'M4', 'M5', 'M6', 'M7', 'M8', 'M9', 'amount_category',\n",
       "       'temporal_risk_category'],\n",
       "      dtype='object')"
      ]
     },
     "execution_count": 60,
     "metadata": {},
     "output_type": "execute_result"
    }
   ],
   "source": [
    "df_transaction.columns[df_transaction.dtypes == 'object']"
   ]
  },
  {
   "cell_type": "markdown",
   "id": "7b8e135e",
   "metadata": {},
   "source": [
    "##  Categorical Encoding"
   ]
  },
  {
   "cell_type": "code",
   "execution_count": 61,
   "id": "d37a074f",
   "metadata": {},
   "outputs": [],
   "source": [
    "df_transaction = pd.get_dummies(df_transaction, columns=['ProductCD', 'card4', 'card6'], \n",
    "                                prefix=['Product', 'CardBrand', 'CardType'], drop_first=True)"
   ]
  },
  {
   "cell_type": "code",
   "execution_count": 62,
   "id": "a202ed22",
   "metadata": {},
   "outputs": [
    {
     "name": "stdout",
     "output_type": "stream",
     "text": [
      "All encoded columns:\n",
      "Total encoded columns: 10\n",
      "['CardBrand_discover', 'CardBrand_mastercard', 'CardBrand_visa', 'CardType_credit', 'CardType_debit', 'CardType_debit or credit', 'Product_H', 'Product_R', 'Product_S', 'Product_W']\n"
     ]
    }
   ],
   "source": [
    "print(\"All encoded columns:\")\n",
    "encoded_cols = [col for col in df_transaction.columns if col.startswith(('Product_', 'CardType_', 'CardBrand_'))]\n",
    "print(f\"Total encoded columns: {len(encoded_cols)}\")\n",
    "print(sorted(encoded_cols))"
   ]
  },
  {
   "cell_type": "code",
   "execution_count": 63,
   "id": "47c074cc",
   "metadata": {},
   "outputs": [
    {
     "name": "stdout",
     "output_type": "stream",
     "text": [
      "======================================================================\n",
      "FEATURE ENGINEERING SUMMARY\n",
      "======================================================================\n",
      "\n",
      "✅ Temporal Features (7):\n",
      "['hour', 'day_of_week', 'is_weekend', 'hour_risk_score', 'day_risk_score', 'temporal_risk_score', 'temporal_risk_category']\n",
      "\n",
      "✅ Missing Data Features (9):\n",
      "['D7_is_missing', 'D4_is_missing', 'D5_is_missing', 'D6_is_missing', 'D8_is_missing', 'D9_is_missing', 'D12_is_missing', 'D13_is_missing', 'D14_is_missing']\n",
      "\n",
      "✅ Amount Features (4):\n",
      "['amount_category', 'amount_risk_score', 'small_amount_early_morning', 'risky_product_C_amount']\n",
      "\n",
      "✅ Email Features (6):\n",
      "['P_emaildomain', 'R_emaildomain', 'P_email_risk', 'email_match', 'P_email_missing', 'risky_email_credit']\n",
      "\n",
      "✅ Product Features (8):\n",
      "['product_risk_score', 'is_product_c', 'productC_risky_hours', 'risky_product_C_amount', 'Product_H', 'Product_R', 'Product_S', 'Product_W']\n",
      "\n",
      "✅ Card Features (13):\n",
      "['card1', 'card2', 'card3', 'card5', 'card_type_risk', 'card_brand_risk', 'is_credit_card', 'CardBrand_discover', 'CardBrand_mastercard', 'CardBrand_visa', 'CardType_credit', 'CardType_debit', 'CardType_debit or credit']\n",
      "\n",
      "✅ Interaction Features (4):\n",
      "['productC_risky_hours', 'small_amount_early_morning', 'risky_email_credit', 'combined_risk_score']\n",
      "\n",
      "======================================================================\n",
      "TOTAL ENGINEERED FEATURES: 51\n",
      "ORIGINAL DATASET COLUMNS: 394\n",
      "CURRENT DATASET COLUMNS: 433\n",
      "======================================================================\n"
     ]
    }
   ],
   "source": [
    "# Generate complete feature summary\n",
    "print(\"=\"*70)\n",
    "print(\"FEATURE ENGINEERING SUMMARY\")\n",
    "print(\"=\"*70)\n",
    "\n",
    "# Count features by category\n",
    "temporal_features = [col for col in df_transaction.columns if col in ['hour', 'day_of_week', 'is_weekend', 'hour_risk_score', 'day_risk_score', 'temporal_risk_score', 'temporal_risk_category']]\n",
    "missing_features = [col for col in df_transaction.columns if col.endswith('_is_missing')]\n",
    "amount_features = [col for col in df_transaction.columns if 'amount' in col.lower()]\n",
    "email_features = [col for col in df_transaction.columns if 'email' in col.lower()]\n",
    "product_features = [col for col in df_transaction.columns if col.startswith('Product_') or 'product' in col.lower()]\n",
    "card_features = [col for col in df_transaction.columns if col.startswith(('Card', 'card')) or 'card' in col.lower()]\n",
    "interaction_features = [col for col in df_transaction.columns if any(x in col for x in ['productC_risky', 'small_amount_early', 'risky_email', 'combined_risk'])]\n",
    "\n",
    "print(f\"\\n✅ Temporal Features ({len(temporal_features)}):\")\n",
    "print(temporal_features)\n",
    "\n",
    "print(f\"\\n✅ Missing Data Features ({len(missing_features)}):\")\n",
    "print(missing_features)\n",
    "\n",
    "print(f\"\\n✅ Amount Features ({len(amount_features)}):\")\n",
    "print(amount_features)\n",
    "\n",
    "print(f\"\\n✅ Email Features ({len(email_features)}):\")\n",
    "print(email_features)\n",
    "\n",
    "print(f\"\\n✅ Product Features ({len(product_features)}):\")\n",
    "print(product_features)\n",
    "\n",
    "print(f\"\\n✅ Card Features ({len(card_features)}):\")\n",
    "print(card_features)\n",
    "\n",
    "print(f\"\\n✅ Interaction Features ({len(interaction_features)}):\")\n",
    "print(interaction_features)\n",
    "\n",
    "print(f\"\\n{'='*70}\")\n",
    "print(f\"TOTAL ENGINEERED FEATURES: {len(temporal_features) + len(missing_features) + len(amount_features) + len(email_features) + len(product_features) + len(card_features) + len(interaction_features)}\")\n",
    "print(f\"ORIGINAL DATASET COLUMNS: 394\")\n",
    "print(f\"CURRENT DATASET COLUMNS: {len(df_transaction.columns)}\")\n",
    "print(f\"{'='*70}\")"
   ]
  },
  {
   "cell_type": "code",
   "execution_count": null,
   "id": "fa1e9f50",
   "metadata": {},
   "outputs": [],
   "source": []
  }
 ],
 "metadata": {
  "kernelspec": {
   "display_name": "fraud_env",
   "language": "python",
   "name": "python3"
  },
  "language_info": {
   "codemirror_mode": {
    "name": "ipython",
    "version": 3
   },
   "file_extension": ".py",
   "mimetype": "text/x-python",
   "name": "python",
   "nbconvert_exporter": "python",
   "pygments_lexer": "ipython3",
   "version": "3.13.7"
  }
 },
 "nbformat": 4,
 "nbformat_minor": 5
}
