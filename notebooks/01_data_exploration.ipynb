{
 "cells": [
  {
   "cell_type": "code",
   "execution_count": 3,
   "id": "d05b72b5",
   "metadata": {},
   "outputs": [],
   "source": [
    "import pandas as pd\n",
    "import numpy as np\n",
    "import matplotlib.pyplot as plt\n",
    "import seaborn as sns"
   ]
  },
  {
   "cell_type": "markdown",
   "id": "4b4dbdfd",
   "metadata": {},
   "source": [
    "### Dataset Overview"
   ]
  },
  {
   "cell_type": "code",
   "execution_count": 4,
   "id": "c120a246",
   "metadata": {},
   "outputs": [],
   "source": [
    "df_identity=pd.read_csv('C:/Users/Administrator/Desktop/fraud-detection/data/raw/train_identity.csv')"
   ]
  },
  {
   "cell_type": "code",
   "execution_count": 5,
   "id": "d5a60823",
   "metadata": {},
   "outputs": [
    {
     "name": "stdout",
     "output_type": "stream",
     "text": [
      "Shape: (144233, 41)\n"
     ]
    }
   ],
   "source": [
    "print(f\"Shape: {df_identity.shape}\")"
   ]
  },
  {
   "cell_type": "code",
   "execution_count": 6,
   "id": "6e11b306",
   "metadata": {},
   "outputs": [
    {
     "name": "stdout",
     "output_type": "stream",
     "text": [
      "Shape: (100000, 394)\n"
     ]
    }
   ],
   "source": [
    "df_transaction = pd.read_csv(   \n",
    "    'C:/Users/Administrator/Desktop/fraud-detection/data/raw/train_transaction.csv',    \n",
    "    nrows=100000)\n",
    "\n",
    "print(f\"Shape: {df_transaction.shape}\")"
   ]
  },
  {
   "cell_type": "code",
   "execution_count": 7,
   "id": "aab7f837",
   "metadata": {},
   "outputs": [
    {
     "data": {
      "text/html": [
       "<div>\n",
       "<style scoped>\n",
       "    .dataframe tbody tr th:only-of-type {\n",
       "        vertical-align: middle;\n",
       "    }\n",
       "\n",
       "    .dataframe tbody tr th {\n",
       "        vertical-align: top;\n",
       "    }\n",
       "\n",
       "    .dataframe thead th {\n",
       "        text-align: right;\n",
       "    }\n",
       "</style>\n",
       "<table border=\"1\" class=\"dataframe\">\n",
       "  <thead>\n",
       "    <tr style=\"text-align: right;\">\n",
       "      <th></th>\n",
       "      <th>TransactionID</th>\n",
       "      <th>id_01</th>\n",
       "      <th>id_02</th>\n",
       "      <th>id_03</th>\n",
       "      <th>id_04</th>\n",
       "      <th>id_05</th>\n",
       "      <th>id_06</th>\n",
       "      <th>id_07</th>\n",
       "      <th>id_08</th>\n",
       "      <th>id_09</th>\n",
       "      <th>...</th>\n",
       "      <th>id_31</th>\n",
       "      <th>id_32</th>\n",
       "      <th>id_33</th>\n",
       "      <th>id_34</th>\n",
       "      <th>id_35</th>\n",
       "      <th>id_36</th>\n",
       "      <th>id_37</th>\n",
       "      <th>id_38</th>\n",
       "      <th>DeviceType</th>\n",
       "      <th>DeviceInfo</th>\n",
       "    </tr>\n",
       "  </thead>\n",
       "  <tbody>\n",
       "    <tr>\n",
       "      <th>0</th>\n",
       "      <td>2987004</td>\n",
       "      <td>0.0</td>\n",
       "      <td>70787.0</td>\n",
       "      <td>NaN</td>\n",
       "      <td>NaN</td>\n",
       "      <td>NaN</td>\n",
       "      <td>NaN</td>\n",
       "      <td>NaN</td>\n",
       "      <td>NaN</td>\n",
       "      <td>NaN</td>\n",
       "      <td>...</td>\n",
       "      <td>samsung browser 6.2</td>\n",
       "      <td>32.0</td>\n",
       "      <td>2220x1080</td>\n",
       "      <td>match_status:2</td>\n",
       "      <td>T</td>\n",
       "      <td>F</td>\n",
       "      <td>T</td>\n",
       "      <td>T</td>\n",
       "      <td>mobile</td>\n",
       "      <td>SAMSUNG SM-G892A Build/NRD90M</td>\n",
       "    </tr>\n",
       "    <tr>\n",
       "      <th>1</th>\n",
       "      <td>2987008</td>\n",
       "      <td>-5.0</td>\n",
       "      <td>98945.0</td>\n",
       "      <td>NaN</td>\n",
       "      <td>NaN</td>\n",
       "      <td>0.0</td>\n",
       "      <td>-5.0</td>\n",
       "      <td>NaN</td>\n",
       "      <td>NaN</td>\n",
       "      <td>NaN</td>\n",
       "      <td>...</td>\n",
       "      <td>mobile safari 11.0</td>\n",
       "      <td>32.0</td>\n",
       "      <td>1334x750</td>\n",
       "      <td>match_status:1</td>\n",
       "      <td>T</td>\n",
       "      <td>F</td>\n",
       "      <td>F</td>\n",
       "      <td>T</td>\n",
       "      <td>mobile</td>\n",
       "      <td>iOS Device</td>\n",
       "    </tr>\n",
       "    <tr>\n",
       "      <th>2</th>\n",
       "      <td>2987010</td>\n",
       "      <td>-5.0</td>\n",
       "      <td>191631.0</td>\n",
       "      <td>0.0</td>\n",
       "      <td>0.0</td>\n",
       "      <td>0.0</td>\n",
       "      <td>0.0</td>\n",
       "      <td>NaN</td>\n",
       "      <td>NaN</td>\n",
       "      <td>0.0</td>\n",
       "      <td>...</td>\n",
       "      <td>chrome 62.0</td>\n",
       "      <td>NaN</td>\n",
       "      <td>NaN</td>\n",
       "      <td>NaN</td>\n",
       "      <td>F</td>\n",
       "      <td>F</td>\n",
       "      <td>T</td>\n",
       "      <td>T</td>\n",
       "      <td>desktop</td>\n",
       "      <td>Windows</td>\n",
       "    </tr>\n",
       "    <tr>\n",
       "      <th>3</th>\n",
       "      <td>2987011</td>\n",
       "      <td>-5.0</td>\n",
       "      <td>221832.0</td>\n",
       "      <td>NaN</td>\n",
       "      <td>NaN</td>\n",
       "      <td>0.0</td>\n",
       "      <td>-6.0</td>\n",
       "      <td>NaN</td>\n",
       "      <td>NaN</td>\n",
       "      <td>NaN</td>\n",
       "      <td>...</td>\n",
       "      <td>chrome 62.0</td>\n",
       "      <td>NaN</td>\n",
       "      <td>NaN</td>\n",
       "      <td>NaN</td>\n",
       "      <td>F</td>\n",
       "      <td>F</td>\n",
       "      <td>T</td>\n",
       "      <td>T</td>\n",
       "      <td>desktop</td>\n",
       "      <td>NaN</td>\n",
       "    </tr>\n",
       "    <tr>\n",
       "      <th>4</th>\n",
       "      <td>2987016</td>\n",
       "      <td>0.0</td>\n",
       "      <td>7460.0</td>\n",
       "      <td>0.0</td>\n",
       "      <td>0.0</td>\n",
       "      <td>1.0</td>\n",
       "      <td>0.0</td>\n",
       "      <td>NaN</td>\n",
       "      <td>NaN</td>\n",
       "      <td>0.0</td>\n",
       "      <td>...</td>\n",
       "      <td>chrome 62.0</td>\n",
       "      <td>24.0</td>\n",
       "      <td>1280x800</td>\n",
       "      <td>match_status:2</td>\n",
       "      <td>T</td>\n",
       "      <td>F</td>\n",
       "      <td>T</td>\n",
       "      <td>T</td>\n",
       "      <td>desktop</td>\n",
       "      <td>MacOS</td>\n",
       "    </tr>\n",
       "  </tbody>\n",
       "</table>\n",
       "<p>5 rows × 41 columns</p>\n",
       "</div>"
      ],
      "text/plain": [
       "   TransactionID  id_01     id_02  id_03  id_04  id_05  id_06  id_07  id_08  \\\n",
       "0        2987004    0.0   70787.0    NaN    NaN    NaN    NaN    NaN    NaN   \n",
       "1        2987008   -5.0   98945.0    NaN    NaN    0.0   -5.0    NaN    NaN   \n",
       "2        2987010   -5.0  191631.0    0.0    0.0    0.0    0.0    NaN    NaN   \n",
       "3        2987011   -5.0  221832.0    NaN    NaN    0.0   -6.0    NaN    NaN   \n",
       "4        2987016    0.0    7460.0    0.0    0.0    1.0    0.0    NaN    NaN   \n",
       "\n",
       "   id_09  ...                id_31  id_32      id_33           id_34  id_35  \\\n",
       "0    NaN  ...  samsung browser 6.2   32.0  2220x1080  match_status:2      T   \n",
       "1    NaN  ...   mobile safari 11.0   32.0   1334x750  match_status:1      T   \n",
       "2    0.0  ...          chrome 62.0    NaN        NaN             NaN      F   \n",
       "3    NaN  ...          chrome 62.0    NaN        NaN             NaN      F   \n",
       "4    0.0  ...          chrome 62.0   24.0   1280x800  match_status:2      T   \n",
       "\n",
       "  id_36 id_37  id_38  DeviceType                     DeviceInfo  \n",
       "0     F     T      T      mobile  SAMSUNG SM-G892A Build/NRD90M  \n",
       "1     F     F      T      mobile                     iOS Device  \n",
       "2     F     T      T     desktop                        Windows  \n",
       "3     F     T      T     desktop                            NaN  \n",
       "4     F     T      T     desktop                          MacOS  \n",
       "\n",
       "[5 rows x 41 columns]"
      ]
     },
     "execution_count": 7,
     "metadata": {},
     "output_type": "execute_result"
    }
   ],
   "source": [
    "df_identity.head()\n"
   ]
  },
  {
   "cell_type": "code",
   "execution_count": 8,
   "id": "fb83a1e3",
   "metadata": {},
   "outputs": [
    {
     "data": {
      "text/plain": [
       "Index(['TransactionID', 'id_01', 'id_02', 'id_03', 'id_04', 'id_05', 'id_06',\n",
       "       'id_07', 'id_08', 'id_09', 'id_10', 'id_11', 'id_12', 'id_13', 'id_14',\n",
       "       'id_15', 'id_16', 'id_17', 'id_18', 'id_19', 'id_20', 'id_21', 'id_22',\n",
       "       'id_23', 'id_24', 'id_25', 'id_26', 'id_27', 'id_28', 'id_29', 'id_30',\n",
       "       'id_31', 'id_32', 'id_33', 'id_34', 'id_35', 'id_36', 'id_37', 'id_38',\n",
       "       'DeviceType', 'DeviceInfo'],\n",
       "      dtype='object')"
      ]
     },
     "execution_count": 8,
     "metadata": {},
     "output_type": "execute_result"
    }
   ],
   "source": [
    "df_identity.columns"
   ]
  },
  {
   "cell_type": "code",
   "execution_count": 9,
   "id": "84106446",
   "metadata": {},
   "outputs": [
    {
     "name": "stdout",
     "output_type": "stream",
     "text": [
      "<class 'pandas.core.frame.DataFrame'>\n",
      "RangeIndex: 144233 entries, 0 to 144232\n",
      "Data columns (total 41 columns):\n",
      " #   Column         Non-Null Count   Dtype  \n",
      "---  ------         --------------   -----  \n",
      " 0   TransactionID  144233 non-null  int64  \n",
      " 1   id_01          144233 non-null  float64\n",
      " 2   id_02          140872 non-null  float64\n",
      " 3   id_03          66324 non-null   float64\n",
      " 4   id_04          66324 non-null   float64\n",
      " 5   id_05          136865 non-null  float64\n",
      " 6   id_06          136865 non-null  float64\n",
      " 7   id_07          5155 non-null    float64\n",
      " 8   id_08          5155 non-null    float64\n",
      " 9   id_09          74926 non-null   float64\n",
      " 10  id_10          74926 non-null   float64\n",
      " 11  id_11          140978 non-null  float64\n",
      " 12  id_12          144233 non-null  object \n",
      " 13  id_13          127320 non-null  float64\n",
      " 14  id_14          80044 non-null   float64\n",
      " 15  id_15          140985 non-null  object \n",
      " 16  id_16          129340 non-null  object \n",
      " 17  id_17          139369 non-null  float64\n",
      " 18  id_18          45113 non-null   float64\n",
      " 19  id_19          139318 non-null  float64\n",
      " 20  id_20          139261 non-null  float64\n",
      " 21  id_21          5159 non-null    float64\n",
      " 22  id_22          5169 non-null    float64\n",
      " 23  id_23          5169 non-null    object \n",
      " 24  id_24          4747 non-null    float64\n",
      " 25  id_25          5132 non-null    float64\n",
      " 26  id_26          5163 non-null    float64\n",
      " 27  id_27          5169 non-null    object \n",
      " 28  id_28          140978 non-null  object \n",
      " 29  id_29          140978 non-null  object \n",
      " 30  id_30          77565 non-null   object \n",
      " 31  id_31          140282 non-null  object \n",
      " 32  id_32          77586 non-null   float64\n",
      " 33  id_33          73289 non-null   object \n",
      " 34  id_34          77805 non-null   object \n",
      " 35  id_35          140985 non-null  object \n",
      " 36  id_36          140985 non-null  object \n",
      " 37  id_37          140985 non-null  object \n",
      " 38  id_38          140985 non-null  object \n",
      " 39  DeviceType     140810 non-null  object \n",
      " 40  DeviceInfo     118666 non-null  object \n",
      "dtypes: float64(23), int64(1), object(17)\n",
      "memory usage: 45.1+ MB\n"
     ]
    }
   ],
   "source": [
    "df_identity.info()"
   ]
  },
  {
   "cell_type": "code",
   "execution_count": 10,
   "id": "eed739b1",
   "metadata": {},
   "outputs": [
    {
     "data": {
      "text/plain": [
       "TransactionID         0\n",
       "id_01                 0\n",
       "id_02              3361\n",
       "id_03             77909\n",
       "id_04             77909\n",
       "id_05              7368\n",
       "id_06              7368\n",
       "id_07            139078\n",
       "id_08            139078\n",
       "id_09             69307\n",
       "id_10             69307\n",
       "id_11              3255\n",
       "id_12                 0\n",
       "id_13             16913\n",
       "id_14             64189\n",
       "id_15              3248\n",
       "id_16             14893\n",
       "id_17              4864\n",
       "id_18             99120\n",
       "id_19              4915\n",
       "id_20              4972\n",
       "id_21            139074\n",
       "id_22            139064\n",
       "id_23            139064\n",
       "id_24            139486\n",
       "id_25            139101\n",
       "id_26            139070\n",
       "id_27            139064\n",
       "id_28              3255\n",
       "id_29              3255\n",
       "id_30             66668\n",
       "id_31              3951\n",
       "id_32             66647\n",
       "id_33             70944\n",
       "id_34             66428\n",
       "id_35              3248\n",
       "id_36              3248\n",
       "id_37              3248\n",
       "id_38              3248\n",
       "DeviceType         3423\n",
       "DeviceInfo        25567\n",
       "dtype: int64"
      ]
     },
     "execution_count": 10,
     "metadata": {},
     "output_type": "execute_result"
    }
   ],
   "source": [
    "df_identity.isnull().sum()"
   ]
  },
  {
   "cell_type": "code",
   "execution_count": 11,
   "id": "0fad6792",
   "metadata": {},
   "outputs": [
    {
     "data": {
      "text/html": [
       "<div>\n",
       "<style scoped>\n",
       "    .dataframe tbody tr th:only-of-type {\n",
       "        vertical-align: middle;\n",
       "    }\n",
       "\n",
       "    .dataframe tbody tr th {\n",
       "        vertical-align: top;\n",
       "    }\n",
       "\n",
       "    .dataframe thead th {\n",
       "        text-align: right;\n",
       "    }\n",
       "</style>\n",
       "<table border=\"1\" class=\"dataframe\">\n",
       "  <thead>\n",
       "    <tr style=\"text-align: right;\">\n",
       "      <th></th>\n",
       "      <th>TransactionID</th>\n",
       "      <th>id_01</th>\n",
       "      <th>id_02</th>\n",
       "      <th>id_03</th>\n",
       "      <th>id_04</th>\n",
       "      <th>id_05</th>\n",
       "      <th>id_06</th>\n",
       "      <th>id_07</th>\n",
       "      <th>id_08</th>\n",
       "      <th>id_09</th>\n",
       "      <th>...</th>\n",
       "      <th>id_17</th>\n",
       "      <th>id_18</th>\n",
       "      <th>id_19</th>\n",
       "      <th>id_20</th>\n",
       "      <th>id_21</th>\n",
       "      <th>id_22</th>\n",
       "      <th>id_24</th>\n",
       "      <th>id_25</th>\n",
       "      <th>id_26</th>\n",
       "      <th>id_32</th>\n",
       "    </tr>\n",
       "  </thead>\n",
       "  <tbody>\n",
       "    <tr>\n",
       "      <th>count</th>\n",
       "      <td>1.442330e+05</td>\n",
       "      <td>144233.000000</td>\n",
       "      <td>140872.000000</td>\n",
       "      <td>66324.000000</td>\n",
       "      <td>66324.000000</td>\n",
       "      <td>136865.000000</td>\n",
       "      <td>136865.000000</td>\n",
       "      <td>5155.000000</td>\n",
       "      <td>5155.000000</td>\n",
       "      <td>74926.000000</td>\n",
       "      <td>...</td>\n",
       "      <td>139369.000000</td>\n",
       "      <td>45113.000000</td>\n",
       "      <td>139318.000000</td>\n",
       "      <td>139261.000000</td>\n",
       "      <td>5159.000000</td>\n",
       "      <td>5169.000000</td>\n",
       "      <td>4747.000000</td>\n",
       "      <td>5132.000000</td>\n",
       "      <td>5163.000000</td>\n",
       "      <td>77586.000000</td>\n",
       "    </tr>\n",
       "    <tr>\n",
       "      <th>mean</th>\n",
       "      <td>3.236329e+06</td>\n",
       "      <td>-10.170502</td>\n",
       "      <td>174716.584708</td>\n",
       "      <td>0.060189</td>\n",
       "      <td>-0.058938</td>\n",
       "      <td>1.615585</td>\n",
       "      <td>-6.698710</td>\n",
       "      <td>13.285354</td>\n",
       "      <td>-38.600388</td>\n",
       "      <td>0.091023</td>\n",
       "      <td>...</td>\n",
       "      <td>189.451377</td>\n",
       "      <td>14.237337</td>\n",
       "      <td>353.128174</td>\n",
       "      <td>403.882666</td>\n",
       "      <td>368.269820</td>\n",
       "      <td>16.002708</td>\n",
       "      <td>12.800927</td>\n",
       "      <td>329.608924</td>\n",
       "      <td>149.070308</td>\n",
       "      <td>26.508597</td>\n",
       "    </tr>\n",
       "    <tr>\n",
       "      <th>std</th>\n",
       "      <td>1.788496e+05</td>\n",
       "      <td>14.347949</td>\n",
       "      <td>159651.816856</td>\n",
       "      <td>0.598231</td>\n",
       "      <td>0.701015</td>\n",
       "      <td>5.249856</td>\n",
       "      <td>16.491104</td>\n",
       "      <td>11.384207</td>\n",
       "      <td>26.084899</td>\n",
       "      <td>0.983842</td>\n",
       "      <td>...</td>\n",
       "      <td>30.375360</td>\n",
       "      <td>1.561302</td>\n",
       "      <td>141.095343</td>\n",
       "      <td>152.160327</td>\n",
       "      <td>198.847038</td>\n",
       "      <td>6.897665</td>\n",
       "      <td>2.372447</td>\n",
       "      <td>97.461089</td>\n",
       "      <td>32.101995</td>\n",
       "      <td>3.737502</td>\n",
       "    </tr>\n",
       "    <tr>\n",
       "      <th>min</th>\n",
       "      <td>2.987004e+06</td>\n",
       "      <td>-100.000000</td>\n",
       "      <td>1.000000</td>\n",
       "      <td>-13.000000</td>\n",
       "      <td>-28.000000</td>\n",
       "      <td>-72.000000</td>\n",
       "      <td>-100.000000</td>\n",
       "      <td>-46.000000</td>\n",
       "      <td>-100.000000</td>\n",
       "      <td>-36.000000</td>\n",
       "      <td>...</td>\n",
       "      <td>100.000000</td>\n",
       "      <td>10.000000</td>\n",
       "      <td>100.000000</td>\n",
       "      <td>100.000000</td>\n",
       "      <td>100.000000</td>\n",
       "      <td>10.000000</td>\n",
       "      <td>11.000000</td>\n",
       "      <td>100.000000</td>\n",
       "      <td>100.000000</td>\n",
       "      <td>0.000000</td>\n",
       "    </tr>\n",
       "    <tr>\n",
       "      <th>25%</th>\n",
       "      <td>3.077142e+06</td>\n",
       "      <td>-10.000000</td>\n",
       "      <td>67992.000000</td>\n",
       "      <td>0.000000</td>\n",
       "      <td>0.000000</td>\n",
       "      <td>0.000000</td>\n",
       "      <td>-6.000000</td>\n",
       "      <td>5.000000</td>\n",
       "      <td>-48.000000</td>\n",
       "      <td>0.000000</td>\n",
       "      <td>...</td>\n",
       "      <td>166.000000</td>\n",
       "      <td>13.000000</td>\n",
       "      <td>266.000000</td>\n",
       "      <td>256.000000</td>\n",
       "      <td>252.000000</td>\n",
       "      <td>14.000000</td>\n",
       "      <td>11.000000</td>\n",
       "      <td>321.000000</td>\n",
       "      <td>119.000000</td>\n",
       "      <td>24.000000</td>\n",
       "    </tr>\n",
       "    <tr>\n",
       "      <th>50%</th>\n",
       "      <td>3.198818e+06</td>\n",
       "      <td>-5.000000</td>\n",
       "      <td>125800.500000</td>\n",
       "      <td>0.000000</td>\n",
       "      <td>0.000000</td>\n",
       "      <td>0.000000</td>\n",
       "      <td>0.000000</td>\n",
       "      <td>14.000000</td>\n",
       "      <td>-34.000000</td>\n",
       "      <td>0.000000</td>\n",
       "      <td>...</td>\n",
       "      <td>166.000000</td>\n",
       "      <td>15.000000</td>\n",
       "      <td>341.000000</td>\n",
       "      <td>472.000000</td>\n",
       "      <td>252.000000</td>\n",
       "      <td>14.000000</td>\n",
       "      <td>11.000000</td>\n",
       "      <td>321.000000</td>\n",
       "      <td>149.000000</td>\n",
       "      <td>24.000000</td>\n",
       "    </tr>\n",
       "    <tr>\n",
       "      <th>75%</th>\n",
       "      <td>3.392923e+06</td>\n",
       "      <td>-5.000000</td>\n",
       "      <td>228749.000000</td>\n",
       "      <td>0.000000</td>\n",
       "      <td>0.000000</td>\n",
       "      <td>1.000000</td>\n",
       "      <td>0.000000</td>\n",
       "      <td>22.000000</td>\n",
       "      <td>-23.000000</td>\n",
       "      <td>0.000000</td>\n",
       "      <td>...</td>\n",
       "      <td>225.000000</td>\n",
       "      <td>15.000000</td>\n",
       "      <td>427.000000</td>\n",
       "      <td>533.000000</td>\n",
       "      <td>486.500000</td>\n",
       "      <td>14.000000</td>\n",
       "      <td>15.000000</td>\n",
       "      <td>371.000000</td>\n",
       "      <td>169.000000</td>\n",
       "      <td>32.000000</td>\n",
       "    </tr>\n",
       "    <tr>\n",
       "      <th>max</th>\n",
       "      <td>3.577534e+06</td>\n",
       "      <td>0.000000</td>\n",
       "      <td>999595.000000</td>\n",
       "      <td>10.000000</td>\n",
       "      <td>0.000000</td>\n",
       "      <td>52.000000</td>\n",
       "      <td>0.000000</td>\n",
       "      <td>61.000000</td>\n",
       "      <td>0.000000</td>\n",
       "      <td>25.000000</td>\n",
       "      <td>...</td>\n",
       "      <td>229.000000</td>\n",
       "      <td>29.000000</td>\n",
       "      <td>671.000000</td>\n",
       "      <td>661.000000</td>\n",
       "      <td>854.000000</td>\n",
       "      <td>44.000000</td>\n",
       "      <td>26.000000</td>\n",
       "      <td>548.000000</td>\n",
       "      <td>216.000000</td>\n",
       "      <td>32.000000</td>\n",
       "    </tr>\n",
       "  </tbody>\n",
       "</table>\n",
       "<p>8 rows × 24 columns</p>\n",
       "</div>"
      ],
      "text/plain": [
       "       TransactionID          id_01          id_02         id_03  \\\n",
       "count   1.442330e+05  144233.000000  140872.000000  66324.000000   \n",
       "mean    3.236329e+06     -10.170502  174716.584708      0.060189   \n",
       "std     1.788496e+05      14.347949  159651.816856      0.598231   \n",
       "min     2.987004e+06    -100.000000       1.000000    -13.000000   \n",
       "25%     3.077142e+06     -10.000000   67992.000000      0.000000   \n",
       "50%     3.198818e+06      -5.000000  125800.500000      0.000000   \n",
       "75%     3.392923e+06      -5.000000  228749.000000      0.000000   \n",
       "max     3.577534e+06       0.000000  999595.000000     10.000000   \n",
       "\n",
       "              id_04          id_05          id_06        id_07        id_08  \\\n",
       "count  66324.000000  136865.000000  136865.000000  5155.000000  5155.000000   \n",
       "mean      -0.058938       1.615585      -6.698710    13.285354   -38.600388   \n",
       "std        0.701015       5.249856      16.491104    11.384207    26.084899   \n",
       "min      -28.000000     -72.000000    -100.000000   -46.000000  -100.000000   \n",
       "25%        0.000000       0.000000      -6.000000     5.000000   -48.000000   \n",
       "50%        0.000000       0.000000       0.000000    14.000000   -34.000000   \n",
       "75%        0.000000       1.000000       0.000000    22.000000   -23.000000   \n",
       "max        0.000000      52.000000       0.000000    61.000000     0.000000   \n",
       "\n",
       "              id_09  ...          id_17         id_18          id_19  \\\n",
       "count  74926.000000  ...  139369.000000  45113.000000  139318.000000   \n",
       "mean       0.091023  ...     189.451377     14.237337     353.128174   \n",
       "std        0.983842  ...      30.375360      1.561302     141.095343   \n",
       "min      -36.000000  ...     100.000000     10.000000     100.000000   \n",
       "25%        0.000000  ...     166.000000     13.000000     266.000000   \n",
       "50%        0.000000  ...     166.000000     15.000000     341.000000   \n",
       "75%        0.000000  ...     225.000000     15.000000     427.000000   \n",
       "max       25.000000  ...     229.000000     29.000000     671.000000   \n",
       "\n",
       "               id_20        id_21        id_22        id_24        id_25  \\\n",
       "count  139261.000000  5159.000000  5169.000000  4747.000000  5132.000000   \n",
       "mean      403.882666   368.269820    16.002708    12.800927   329.608924   \n",
       "std       152.160327   198.847038     6.897665     2.372447    97.461089   \n",
       "min       100.000000   100.000000    10.000000    11.000000   100.000000   \n",
       "25%       256.000000   252.000000    14.000000    11.000000   321.000000   \n",
       "50%       472.000000   252.000000    14.000000    11.000000   321.000000   \n",
       "75%       533.000000   486.500000    14.000000    15.000000   371.000000   \n",
       "max       661.000000   854.000000    44.000000    26.000000   548.000000   \n",
       "\n",
       "             id_26         id_32  \n",
       "count  5163.000000  77586.000000  \n",
       "mean    149.070308     26.508597  \n",
       "std      32.101995      3.737502  \n",
       "min     100.000000      0.000000  \n",
       "25%     119.000000     24.000000  \n",
       "50%     149.000000     24.000000  \n",
       "75%     169.000000     32.000000  \n",
       "max     216.000000     32.000000  \n",
       "\n",
       "[8 rows x 24 columns]"
      ]
     },
     "execution_count": 11,
     "metadata": {},
     "output_type": "execute_result"
    }
   ],
   "source": [
    "df_identity.describe()"
   ]
  },
  {
   "cell_type": "code",
   "execution_count": 12,
   "id": "936af6dd",
   "metadata": {},
   "outputs": [
    {
     "data": {
      "text/html": [
       "<div>\n",
       "<style scoped>\n",
       "    .dataframe tbody tr th:only-of-type {\n",
       "        vertical-align: middle;\n",
       "    }\n",
       "\n",
       "    .dataframe tbody tr th {\n",
       "        vertical-align: top;\n",
       "    }\n",
       "\n",
       "    .dataframe thead th {\n",
       "        text-align: right;\n",
       "    }\n",
       "</style>\n",
       "<table border=\"1\" class=\"dataframe\">\n",
       "  <thead>\n",
       "    <tr style=\"text-align: right;\">\n",
       "      <th></th>\n",
       "      <th>TransactionID</th>\n",
       "      <th>isFraud</th>\n",
       "      <th>TransactionDT</th>\n",
       "      <th>TransactionAmt</th>\n",
       "      <th>ProductCD</th>\n",
       "      <th>card1</th>\n",
       "      <th>card2</th>\n",
       "      <th>card3</th>\n",
       "      <th>card4</th>\n",
       "      <th>card5</th>\n",
       "      <th>...</th>\n",
       "      <th>V330</th>\n",
       "      <th>V331</th>\n",
       "      <th>V332</th>\n",
       "      <th>V333</th>\n",
       "      <th>V334</th>\n",
       "      <th>V335</th>\n",
       "      <th>V336</th>\n",
       "      <th>V337</th>\n",
       "      <th>V338</th>\n",
       "      <th>V339</th>\n",
       "    </tr>\n",
       "  </thead>\n",
       "  <tbody>\n",
       "    <tr>\n",
       "      <th>0</th>\n",
       "      <td>2987000</td>\n",
       "      <td>0</td>\n",
       "      <td>86400</td>\n",
       "      <td>68.5</td>\n",
       "      <td>W</td>\n",
       "      <td>13926</td>\n",
       "      <td>NaN</td>\n",
       "      <td>150.0</td>\n",
       "      <td>discover</td>\n",
       "      <td>142.0</td>\n",
       "      <td>...</td>\n",
       "      <td>NaN</td>\n",
       "      <td>NaN</td>\n",
       "      <td>NaN</td>\n",
       "      <td>NaN</td>\n",
       "      <td>NaN</td>\n",
       "      <td>NaN</td>\n",
       "      <td>NaN</td>\n",
       "      <td>NaN</td>\n",
       "      <td>NaN</td>\n",
       "      <td>NaN</td>\n",
       "    </tr>\n",
       "    <tr>\n",
       "      <th>1</th>\n",
       "      <td>2987001</td>\n",
       "      <td>0</td>\n",
       "      <td>86401</td>\n",
       "      <td>29.0</td>\n",
       "      <td>W</td>\n",
       "      <td>2755</td>\n",
       "      <td>404.0</td>\n",
       "      <td>150.0</td>\n",
       "      <td>mastercard</td>\n",
       "      <td>102.0</td>\n",
       "      <td>...</td>\n",
       "      <td>NaN</td>\n",
       "      <td>NaN</td>\n",
       "      <td>NaN</td>\n",
       "      <td>NaN</td>\n",
       "      <td>NaN</td>\n",
       "      <td>NaN</td>\n",
       "      <td>NaN</td>\n",
       "      <td>NaN</td>\n",
       "      <td>NaN</td>\n",
       "      <td>NaN</td>\n",
       "    </tr>\n",
       "    <tr>\n",
       "      <th>2</th>\n",
       "      <td>2987002</td>\n",
       "      <td>0</td>\n",
       "      <td>86469</td>\n",
       "      <td>59.0</td>\n",
       "      <td>W</td>\n",
       "      <td>4663</td>\n",
       "      <td>490.0</td>\n",
       "      <td>150.0</td>\n",
       "      <td>visa</td>\n",
       "      <td>166.0</td>\n",
       "      <td>...</td>\n",
       "      <td>NaN</td>\n",
       "      <td>NaN</td>\n",
       "      <td>NaN</td>\n",
       "      <td>NaN</td>\n",
       "      <td>NaN</td>\n",
       "      <td>NaN</td>\n",
       "      <td>NaN</td>\n",
       "      <td>NaN</td>\n",
       "      <td>NaN</td>\n",
       "      <td>NaN</td>\n",
       "    </tr>\n",
       "    <tr>\n",
       "      <th>3</th>\n",
       "      <td>2987003</td>\n",
       "      <td>0</td>\n",
       "      <td>86499</td>\n",
       "      <td>50.0</td>\n",
       "      <td>W</td>\n",
       "      <td>18132</td>\n",
       "      <td>567.0</td>\n",
       "      <td>150.0</td>\n",
       "      <td>mastercard</td>\n",
       "      <td>117.0</td>\n",
       "      <td>...</td>\n",
       "      <td>NaN</td>\n",
       "      <td>NaN</td>\n",
       "      <td>NaN</td>\n",
       "      <td>NaN</td>\n",
       "      <td>NaN</td>\n",
       "      <td>NaN</td>\n",
       "      <td>NaN</td>\n",
       "      <td>NaN</td>\n",
       "      <td>NaN</td>\n",
       "      <td>NaN</td>\n",
       "    </tr>\n",
       "    <tr>\n",
       "      <th>4</th>\n",
       "      <td>2987004</td>\n",
       "      <td>0</td>\n",
       "      <td>86506</td>\n",
       "      <td>50.0</td>\n",
       "      <td>H</td>\n",
       "      <td>4497</td>\n",
       "      <td>514.0</td>\n",
       "      <td>150.0</td>\n",
       "      <td>mastercard</td>\n",
       "      <td>102.0</td>\n",
       "      <td>...</td>\n",
       "      <td>0.0</td>\n",
       "      <td>0.0</td>\n",
       "      <td>0.0</td>\n",
       "      <td>0.0</td>\n",
       "      <td>0.0</td>\n",
       "      <td>0.0</td>\n",
       "      <td>0.0</td>\n",
       "      <td>0.0</td>\n",
       "      <td>0.0</td>\n",
       "      <td>0.0</td>\n",
       "    </tr>\n",
       "  </tbody>\n",
       "</table>\n",
       "<p>5 rows × 394 columns</p>\n",
       "</div>"
      ],
      "text/plain": [
       "   TransactionID  isFraud  TransactionDT  TransactionAmt ProductCD  card1  \\\n",
       "0        2987000        0          86400            68.5         W  13926   \n",
       "1        2987001        0          86401            29.0         W   2755   \n",
       "2        2987002        0          86469            59.0         W   4663   \n",
       "3        2987003        0          86499            50.0         W  18132   \n",
       "4        2987004        0          86506            50.0         H   4497   \n",
       "\n",
       "   card2  card3       card4  card5  ... V330  V331  V332  V333  V334 V335  \\\n",
       "0    NaN  150.0    discover  142.0  ...  NaN   NaN   NaN   NaN   NaN  NaN   \n",
       "1  404.0  150.0  mastercard  102.0  ...  NaN   NaN   NaN   NaN   NaN  NaN   \n",
       "2  490.0  150.0        visa  166.0  ...  NaN   NaN   NaN   NaN   NaN  NaN   \n",
       "3  567.0  150.0  mastercard  117.0  ...  NaN   NaN   NaN   NaN   NaN  NaN   \n",
       "4  514.0  150.0  mastercard  102.0  ...  0.0   0.0   0.0   0.0   0.0  0.0   \n",
       "\n",
       "  V336  V337  V338  V339  \n",
       "0  NaN   NaN   NaN   NaN  \n",
       "1  NaN   NaN   NaN   NaN  \n",
       "2  NaN   NaN   NaN   NaN  \n",
       "3  NaN   NaN   NaN   NaN  \n",
       "4  0.0   0.0   0.0   0.0  \n",
       "\n",
       "[5 rows x 394 columns]"
      ]
     },
     "execution_count": 12,
     "metadata": {},
     "output_type": "execute_result"
    }
   ],
   "source": [
    "df_transaction.head()   "
   ]
  },
  {
   "cell_type": "code",
   "execution_count": 13,
   "id": "4c44e05e",
   "metadata": {},
   "outputs": [
    {
     "name": "stdout",
     "output_type": "stream",
     "text": [
      "<class 'pandas.core.frame.DataFrame'>\n",
      "RangeIndex: 100000 entries, 0 to 99999\n",
      "Columns: 394 entries, TransactionID to V339\n",
      "dtypes: float64(376), int64(4), object(14)\n",
      "memory usage: 300.6+ MB\n"
     ]
    }
   ],
   "source": [
    "df_transaction.info()"
   ]
  },
  {
   "cell_type": "code",
   "execution_count": 14,
   "id": "35c18382",
   "metadata": {},
   "outputs": [
    {
     "data": {
      "text/plain": [
       "Index(['TransactionID', 'isFraud', 'TransactionDT', 'TransactionAmt',\n",
       "       'ProductCD', 'card1', 'card2', 'card3', 'card4', 'card5',\n",
       "       ...\n",
       "       'V330', 'V331', 'V332', 'V333', 'V334', 'V335', 'V336', 'V337', 'V338',\n",
       "       'V339'],\n",
       "      dtype='object', length=394)"
      ]
     },
     "execution_count": 14,
     "metadata": {},
     "output_type": "execute_result"
    }
   ],
   "source": [
    "df_transaction.columns"
   ]
  },
  {
   "cell_type": "code",
   "execution_count": 382,
   "id": "09633982",
   "metadata": {},
   "outputs": [
    {
     "name": "stdout",
     "output_type": "stream",
     "text": [
      "['TransactionID', 'isFraud', 'TransactionDT', 'TransactionAmt', 'ProductCD', 'card1', 'card2', 'card3', 'card4', 'card5', 'card6', 'addr1', 'addr2', 'dist1', 'dist2', 'P_emaildomain', 'R_emaildomain', 'C1', 'C2', 'C3', 'C4', 'C5', 'C6', 'C7', 'C8', 'C9', 'C10', 'C11', 'C12', 'C13', 'C14', 'D1', 'D2', 'D3', 'D4', 'D5', 'D6', 'D7', 'D8', 'D9', 'D10', 'D11', 'D12', 'D13', 'D14', 'D15', 'M1', 'M2', 'M3', 'M4', 'M5', 'M6', 'M7', 'M8', 'M9', 'V1', 'V2', 'V3', 'V4', 'V5', 'V6', 'V7', 'V8', 'V9', 'V10', 'V11', 'V12', 'V13', 'V14', 'V15', 'V16', 'V17', 'V18', 'V19', 'V20', 'V21', 'V22', 'V23', 'V24', 'V25', 'V26', 'V27', 'V28', 'V29', 'V30', 'V31', 'V32', 'V33', 'V34', 'V35', 'V36', 'V37', 'V38', 'V39', 'V40', 'V41', 'V42', 'V43', 'V44', 'V45', 'V46', 'V47', 'V48', 'V49', 'V50', 'V51', 'V52', 'V53', 'V54', 'V55', 'V56', 'V57', 'V58', 'V59', 'V60', 'V61', 'V62', 'V63', 'V64', 'V65', 'V66', 'V67', 'V68', 'V69', 'V70', 'V71', 'V72', 'V73', 'V74', 'V75', 'V76', 'V77', 'V78', 'V79', 'V80', 'V81', 'V82', 'V83', 'V84', 'V85', 'V86', 'V87', 'V88', 'V89', 'V90', 'V91', 'V92', 'V93', 'V94', 'V95', 'V96', 'V97', 'V98', 'V99', 'V100', 'V101', 'V102', 'V103', 'V104', 'V105', 'V106', 'V107', 'V108', 'V109', 'V110', 'V111', 'V112', 'V113', 'V114', 'V115', 'V116', 'V117', 'V118', 'V119', 'V120', 'V121', 'V122', 'V123', 'V124', 'V125', 'V126', 'V127', 'V128', 'V129', 'V130', 'V131', 'V132', 'V133', 'V134', 'V135', 'V136', 'V137', 'V138', 'V139', 'V140', 'V141', 'V142', 'V143', 'V144', 'V145', 'V146', 'V147', 'V148', 'V149', 'V150', 'V151', 'V152', 'V153', 'V154', 'V155', 'V156', 'V157', 'V158', 'V159', 'V160', 'V161', 'V162', 'V163', 'V164', 'V165', 'V166', 'V167', 'V168', 'V169', 'V170', 'V171', 'V172', 'V173', 'V174', 'V175', 'V176', 'V177', 'V178', 'V179', 'V180', 'V181', 'V182', 'V183', 'V184', 'V185', 'V186', 'V187', 'V188', 'V189', 'V190', 'V191', 'V192', 'V193', 'V194', 'V195', 'V196', 'V197', 'V198', 'V199', 'V200', 'V201', 'V202', 'V203', 'V204', 'V205', 'V206', 'V207', 'V208', 'V209', 'V210', 'V211', 'V212', 'V213', 'V214', 'V215', 'V216', 'V217', 'V218', 'V219', 'V220', 'V221', 'V222', 'V223', 'V224', 'V225', 'V226', 'V227', 'V228', 'V229', 'V230', 'V231', 'V232', 'V233', 'V234', 'V235', 'V236', 'V237', 'V238', 'V239', 'V240', 'V241', 'V242', 'V243', 'V244', 'V245', 'V246', 'V247', 'V248', 'V249', 'V250', 'V251', 'V252', 'V253', 'V254', 'V255', 'V256', 'V257', 'V258', 'V259', 'V260', 'V261', 'V262', 'V263', 'V264', 'V265', 'V266', 'V267', 'V268', 'V269', 'V270', 'V271', 'V272', 'V273', 'V274', 'V275', 'V276', 'V277', 'V278', 'V279', 'V280', 'V281', 'V282', 'V283', 'V284', 'V285', 'V286', 'V287', 'V288', 'V289', 'V290', 'V291', 'V292', 'V293', 'V294', 'V295', 'V296', 'V297', 'V298', 'V299', 'V300', 'V301', 'V302', 'V303', 'V304', 'V305', 'V306', 'V307', 'V308', 'V309', 'V310', 'V311', 'V312', 'V313', 'V314', 'V315', 'V316', 'V317', 'V318', 'V319', 'V320', 'V321', 'V322', 'V323', 'V324', 'V325', 'V326', 'V327', 'V328', 'V329', 'V330', 'V331', 'V332', 'V333', 'V334', 'V335', 'V336', 'V337', 'V338', 'V339', 'transaction_range', 'datetime', 'hour', 'day_of_week', 'is_weekend', 'hour_risk_score', 'day_risk_score', 'temporal_risk_score', 'temporal_risk_category', 'D7_is_missing', 'email_match']\n"
     ]
    }
   ],
   "source": [
    "print(df_transaction.columns.tolist())"
   ]
  },
  {
   "cell_type": "markdown",
   "id": "65e53c76",
   "metadata": {},
   "source": [
    "## FRAUD ANALYSIS"
   ]
  },
  {
   "cell_type": "markdown",
   "id": "c8063611",
   "metadata": {},
   "source": [
    "### Target Variable: Fraud Rate In Data"
   ]
  },
  {
   "cell_type": "code",
   "execution_count": 15,
   "id": "6442e6f9",
   "metadata": {},
   "outputs": [
    {
     "data": {
      "text/plain": [
       "array([0, 1])"
      ]
     },
     "execution_count": 15,
     "metadata": {},
     "output_type": "execute_result"
    }
   ],
   "source": [
    "df_transaction[\"isFraud\"].unique()"
   ]
  },
  {
   "cell_type": "code",
   "execution_count": 16,
   "id": "df18cc2a",
   "metadata": {},
   "outputs": [
    {
     "data": {
      "text/plain": [
       "100000"
      ]
     },
     "execution_count": 16,
     "metadata": {},
     "output_type": "execute_result"
    }
   ],
   "source": [
    "len(df_transaction[\"isFraud\"])"
   ]
  },
  {
   "cell_type": "code",
   "execution_count": 17,
   "id": "b0232b33",
   "metadata": {},
   "outputs": [
    {
     "data": {
      "text/plain": [
       "np.int64(0)"
      ]
     },
     "execution_count": 17,
     "metadata": {},
     "output_type": "execute_result"
    }
   ],
   "source": [
    "df_transaction[\"isFraud\"].isnull().sum()"
   ]
  },
  {
   "cell_type": "code",
   "execution_count": 18,
   "id": "e21522ee",
   "metadata": {},
   "outputs": [
    {
     "data": {
      "text/plain": [
       "isFraud\n",
       "0    97439\n",
       "1     2561\n",
       "Name: count, dtype: int64"
      ]
     },
     "execution_count": 18,
     "metadata": {},
     "output_type": "execute_result"
    }
   ],
   "source": [
    "df_transaction[\"isFraud\"].value_counts()"
   ]
  },
  {
   "cell_type": "code",
   "execution_count": 19,
   "id": "7af3ce59",
   "metadata": {},
   "outputs": [
    {
     "data": {
      "text/plain": [
       "isFraud\n",
       "0    97.439\n",
       "1     2.561\n",
       "Name: proportion, dtype: float64"
      ]
     },
     "execution_count": 19,
     "metadata": {},
     "output_type": "execute_result"
    }
   ],
   "source": [
    "df_transaction[\"isFraud\"].value_counts(normalize=True)*100"
   ]
  },
  {
   "cell_type": "code",
   "execution_count": 20,
   "id": "f2bfa4e1",
   "metadata": {},
   "outputs": [],
   "source": [
    "fraud_transaction = df_transaction[\"isFraud\"].value_counts()"
   ]
  },
  {
   "cell_type": "code",
   "execution_count": 81,
   "id": "0d2d46e8",
   "metadata": {},
   "outputs": [],
   "source": [
    "not_fraud = df_transaction[\"isFraud\"].value_counts().loc[0]\n",
    "is_fraud = df_transaction[\"isFraud\"].value_counts().loc[1]"
   ]
  },
  {
   "cell_type": "code",
   "execution_count": 82,
   "id": "71731a7c",
   "metadata": {},
   "outputs": [
    {
     "data": {
      "image/png": "[encoded data removed]",
      "text/plain": [
       "<Figure size 640x480 with 1 Axes>"
      ]
     },
     "metadata": {},
     "output_type": "display_data"
    },
    {
     "data": {
      "text/plain": [
       "<Figure size 800x500 with 0 Axes>"
      ]
     },
     "metadata": {},
     "output_type": "display_data"
    }
   ],
   "source": [
    "plt.bar(['not_fraud', 'is_fraud'], [not_fraud, is_fraud], color=['green', 'red'])\n",
    "plt.title('Fraud Analysis')\n",
    "plt.xlabel('Fraud Status')\n",
    "plt.ylabel('Number of Frauds')\n",
    "plt.figure(figsize=(8, 5))\n",
    "plt.show()"
   ]
  },
  {
   "cell_type": "markdown",
   "id": "4d1d1a5c",
   "metadata": {},
   "source": [
    "## Transaction Amount Analysis"
   ]
  },
  {
   "cell_type": "code",
   "execution_count": 23,
   "id": "a0c11658",
   "metadata": {},
   "outputs": [
    {
     "data": {
      "text/plain": [
       "Index(['TransactionID', 'isFraud', 'TransactionDT', 'TransactionAmt',\n",
       "       'ProductCD', 'card1', 'card2', 'card3', 'card4', 'card5',\n",
       "       ...\n",
       "       'V330', 'V331', 'V332', 'V333', 'V334', 'V335', 'V336', 'V337', 'V338',\n",
       "       'V339'],\n",
       "      dtype='object', length=394)"
      ]
     },
     "execution_count": 23,
     "metadata": {},
     "output_type": "execute_result"
    }
   ],
   "source": [
    "df_transaction.columns"
   ]
  },
  {
   "cell_type": "code",
   "execution_count": 24,
   "id": "ece02cc1",
   "metadata": {},
   "outputs": [
    {
     "data": {
      "text/plain": [
       "count    100000.000000\n",
       "mean        130.743351\n",
       "std         206.024684\n",
       "min           0.292000\n",
       "25%          45.000000\n",
       "50%          75.000000\n",
       "75%         135.950000\n",
       "max        4829.950000\n",
       "Name: TransactionAmt, dtype: float64"
      ]
     },
     "execution_count": 24,
     "metadata": {},
     "output_type": "execute_result"
    }
   ],
   "source": [
    "df_transaction[\"TransactionAmt\"].describe()"
   ]
  },
  {
   "cell_type": "code",
   "execution_count": 25,
   "id": "da8b1b94",
   "metadata": {},
   "outputs": [
    {
     "name": "stderr",
     "output_type": "stream",
     "text": [
      "C:\\Users\\Administrator\\AppData\\Local\\Temp\\ipykernel_5252\\1139025873.py:1: FutureWarning: The provided callable <built-in function min> is currently using SeriesGroupBy.min. In a future version of pandas, the provided callable will be used directly. To keep current behavior pass the string \"min\" instead.\n",
      "  df_transaction.groupby(\"isFraud\")[\"TransactionAmt\"].agg([min, \"mean\", \"median\", max])\n",
      "C:\\Users\\Administrator\\AppData\\Local\\Temp\\ipykernel_5252\\1139025873.py:1: FutureWarning: The provided callable <built-in function max> is currently using SeriesGroupBy.max. In a future version of pandas, the provided callable will be used directly. To keep current behavior pass the string \"max\" instead.\n",
      "  df_transaction.groupby(\"isFraud\")[\"TransactionAmt\"].agg([min, \"mean\", \"median\", max])\n"
     ]
    },
    {
     "data": {
      "text/html": [
       "<div>\n",
       "<style scoped>\n",
       "    .dataframe tbody tr th:only-of-type {\n",
       "        vertical-align: middle;\n",
       "    }\n",
       "\n",
       "    .dataframe tbody tr th {\n",
       "        vertical-align: top;\n",
       "    }\n",
       "\n",
       "    .dataframe thead th {\n",
       "        text-align: right;\n",
       "    }\n",
       "</style>\n",
       "<table border=\"1\" class=\"dataframe\">\n",
       "  <thead>\n",
       "    <tr style=\"text-align: right;\">\n",
       "      <th></th>\n",
       "      <th>min</th>\n",
       "      <th>mean</th>\n",
       "      <th>median</th>\n",
       "      <th>max</th>\n",
       "    </tr>\n",
       "    <tr>\n",
       "      <th>isFraud</th>\n",
       "      <th></th>\n",
       "      <th></th>\n",
       "      <th></th>\n",
       "      <th></th>\n",
       "    </tr>\n",
       "  </thead>\n",
       "  <tbody>\n",
       "    <tr>\n",
       "      <th>0</th>\n",
       "      <td>1.000</td>\n",
       "      <td>130.664052</td>\n",
       "      <td>75.000</td>\n",
       "      <td>4829.95</td>\n",
       "    </tr>\n",
       "    <tr>\n",
       "      <th>1</th>\n",
       "      <td>0.292</td>\n",
       "      <td>133.760444</td>\n",
       "      <td>78.788</td>\n",
       "      <td>3081.97</td>\n",
       "    </tr>\n",
       "  </tbody>\n",
       "</table>\n",
       "</div>"
      ],
      "text/plain": [
       "           min        mean  median      max\n",
       "isFraud                                    \n",
       "0        1.000  130.664052  75.000  4829.95\n",
       "1        0.292  133.760444  78.788  3081.97"
      ]
     },
     "execution_count": 25,
     "metadata": {},
     "output_type": "execute_result"
    }
   ],
   "source": [
    "df_transaction.groupby(\"isFraud\")[\"TransactionAmt\"].agg([min, \"mean\", \"median\", max])"
   ]
  },
  {
   "cell_type": "code",
   "execution_count": 26,
   "id": "16b2568c",
   "metadata": {},
   "outputs": [],
   "source": [
    "# Separate the data\n",
    "normal_amt = df_transaction[df_transaction['isFraud'] == 0]['TransactionAmt']\n",
    "fraud_amt = df_transaction[df_transaction['isFraud'] == 1]['TransactionAmt']\n"
   ]
  },
  {
   "cell_type": "code",
   "execution_count": 27,
   "id": "3936573d",
   "metadata": {},
   "outputs": [
    {
     "data": {
      "image/png": "[encoded data removed]",
      "text/plain": [
       "<Figure size 1400x500 with 2 Axes>"
      ]
     },
     "metadata": {},
     "output_type": "display_data"
    }
   ],
   "source": [
    "\n",
    "# Create two plots side by side\n",
    "fig, axes = plt.subplots(1, 2, figsize=(14, 5))\n",
    "\n",
    "# Normal transactions\n",
    "axes[0].hist(normal_amt, bins=50, color='green', edgecolor='black')\n",
    "axes[0].set_title('Normal Transactions', fontweight='bold')\n",
    "axes[0].set_xlabel('Amount ($)')\n",
    "axes[0].set_ylabel('Frequency')\n",
    "axes[0].set_xlim(0, 5000)\n",
    "\n",
    "\n",
    "# Fraud transactions\n",
    "axes[1].hist(fraud_amt, bins=50, color='red', edgecolor='black')\n",
    "axes[1].set_title('Fraud Transactions', fontweight='bold')\n",
    "axes[1].set_xlabel('Amount ($)')\n",
    "axes[1].set_ylabel('Frequency')\n",
    "axes[1].set_xlim(0, 1000)\n",
    "\n",
    "plt.tight_layout()\n",
    "plt.show()\n"
   ]
  },
  {
   "cell_type": "code",
   "execution_count": 28,
   "id": "137f36fb",
   "metadata": {},
   "outputs": [],
   "source": [
    "df_transaction[\"transaction_range\"] = pd.cut(\n",
    "    df_transaction[\"TransactionAmt\"], \n",
    "        bins=[0, 50, 100, 500, 1000, 5000], \n",
    "            labels=[ 'Low-value($0-$50:)', 'Medium-value($50-$100)', 'High-value($100-$500)', 'Very-High-value($500-$1000)', 'Ultra-High-value($1000+)'])"
   ]
  },
  {
   "cell_type": "code",
   "execution_count": 29,
   "id": "bc07b1e4",
   "metadata": {},
   "outputs": [
    {
     "data": {
      "text/plain": [
       "transaction_range\n",
       "Low-value($0-$50:)             36301\n",
       "High-value($100-$500)          31840\n",
       "Medium-value($50-$100)         28464\n",
       "Very-High-value($500-$1000)     2529\n",
       "Ultra-High-value($1000+)         866\n",
       "Name: count, dtype: int64"
      ]
     },
     "execution_count": 29,
     "metadata": {},
     "output_type": "execute_result"
    }
   ],
   "source": [
    "df_transaction[\"transaction_range\"].value_counts()"
   ]
  },
  {
   "cell_type": "code",
   "execution_count": 30,
   "id": "75ef9766",
   "metadata": {},
   "outputs": [
    {
     "name": "stderr",
     "output_type": "stream",
     "text": [
      "C:\\Users\\Administrator\\AppData\\Local\\Temp\\ipykernel_5252\\1842828291.py:1: FutureWarning: The default of observed=False is deprecated and will be changed to True in a future version of pandas. Pass observed=False to retain current behavior or observed=True to adopt the future default and silence this warning.\n",
      "  df_transaction.groupby(\"transaction_range\")[\"isFraud\"].value_counts()\n"
     ]
    },
    {
     "data": {
      "text/plain": [
       "transaction_range            isFraud\n",
       "Low-value($0-$50:)           0          35442\n",
       "                             1            859\n",
       "Medium-value($50-$100)       0          27754\n",
       "                             1            710\n",
       "High-value($100-$500)        0          30919\n",
       "                             1            921\n",
       "Very-High-value($500-$1000)  0           2471\n",
       "                             1             58\n",
       "Ultra-High-value($1000+)     0            853\n",
       "                             1             13\n",
       "Name: count, dtype: int64"
      ]
     },
     "execution_count": 30,
     "metadata": {},
     "output_type": "execute_result"
    }
   ],
   "source": [
    "df_transaction.groupby(\"transaction_range\")[\"isFraud\"].value_counts()"
   ]
  },
  {
   "cell_type": "code",
   "execution_count": 88,
   "id": "fa21824f",
   "metadata": {},
   "outputs": [
    {
     "name": "stderr",
     "output_type": "stream",
     "text": [
      "C:\\Users\\Administrator\\AppData\\Local\\Temp\\ipykernel_5252\\944875349.py:1: FutureWarning: The default of observed=False is deprecated and will be changed to True in a future version of pandas. Pass observed=False to retain current behavior or observed=True to adopt the future default and silence this warning.\n",
      "  df_transaction.groupby(\"transaction_range\")[\"isFraud\"].value_counts().loc[:,1]\n"
     ]
    },
    {
     "data": {
      "text/plain": [
       "transaction_range\n",
       "Low-value($0-$50:)             859\n",
       "Medium-value($50-$100)         710\n",
       "High-value($100-$500)          921\n",
       "Very-High-value($500-$1000)     58\n",
       "Ultra-High-value($1000+)        13\n",
       "Name: count, dtype: int64"
      ]
     },
     "execution_count": 88,
     "metadata": {},
     "output_type": "execute_result"
    }
   ],
   "source": [
    "df_transaction.groupby(\"transaction_range\")[\"isFraud\"].value_counts().loc[:,1]"
   ]
  },
  {
   "cell_type": "code",
   "execution_count": 87,
   "id": "bd6b2aa5",
   "metadata": {},
   "outputs": [
    {
     "name": "stderr",
     "output_type": "stream",
     "text": [
      "C:\\Users\\Administrator\\AppData\\Local\\Temp\\ipykernel_5252\\643023573.py:1: FutureWarning: The default of observed=False is deprecated and will be changed to True in a future version of pandas. Pass observed=False to retain current behavior or observed=True to adopt the future default and silence this warning.\n",
      "  df_transaction.groupby(\"transaction_range\")[\"isFraud\"].value_counts(normalize=True)*100\n"
     ]
    },
    {
     "data": {
      "text/plain": [
       "transaction_range            isFraud\n",
       "Low-value($0-$50:)           0          97.633674\n",
       "                             1           2.366326\n",
       "Medium-value($50-$100)       0          97.505621\n",
       "                             1           2.494379\n",
       "High-value($100-$500)        0          97.107412\n",
       "                             1           2.892588\n",
       "Very-High-value($500-$1000)  0          97.706603\n",
       "                             1           2.293397\n",
       "Ultra-High-value($1000+)     0          98.498845\n",
       "                             1           1.501155\n",
       "Name: proportion, dtype: float64"
      ]
     },
     "execution_count": 87,
     "metadata": {},
     "output_type": "execute_result"
    }
   ],
   "source": [
    "df_transaction.groupby(\"transaction_range\")[\"isFraud\"].value_counts(normalize=True)*100"
   ]
  },
  {
   "cell_type": "code",
   "execution_count": 97,
   "id": "35c725bd",
   "metadata": {},
   "outputs": [
    {
     "name": "stderr",
     "output_type": "stream",
     "text": [
      "C:\\Users\\Administrator\\AppData\\Local\\Temp\\ipykernel_5252\\2633708499.py:1: FutureWarning: The default of observed=False is deprecated and will be changed to True in a future version of pandas. Pass observed=False to retain current behavior or observed=True to adopt the future default and silence this warning.\n",
      "  df_transaction.groupby(\"transaction_range\")[\"isFraud\"].value_counts(normalize=True).loc[:,1]*100\n"
     ]
    },
    {
     "data": {
      "text/plain": [
       "transaction_range\n",
       "Low-value($0-$50:)             2.366326\n",
       "Medium-value($50-$100)         2.494379\n",
       "High-value($100-$500)          2.892588\n",
       "Very-High-value($500-$1000)    2.293397\n",
       "Ultra-High-value($1000+)       1.501155\n",
       "Name: proportion, dtype: float64"
      ]
     },
     "execution_count": 97,
     "metadata": {},
     "output_type": "execute_result"
    }
   ],
   "source": [
    "df_transaction.groupby(\"transaction_range\")[\"isFraud\"].value_counts(normalize=True).loc[:,1]*100"
   ]
  },
  {
   "cell_type": "code",
   "execution_count": 98,
   "id": "10076de4",
   "metadata": {},
   "outputs": [
    {
     "name": "stderr",
     "output_type": "stream",
     "text": [
      "C:\\Users\\Administrator\\AppData\\Local\\Temp\\ipykernel_5252\\2392086768.py:1: FutureWarning: The default of observed=False is deprecated and will be changed to True in a future version of pandas. Pass observed=False to retain current behavior or observed=True to adopt the future default and silence this warning.\n",
      "  fraud_transaction = df_transaction.groupby(\"transaction_range\")[\"isFraud\"].value_counts(normalize=True).loc[:,1]*100\n"
     ]
    }
   ],
   "source": [
    "fraud_transaction = df_transaction.groupby(\"transaction_range\")[\"isFraud\"].value_counts(normalize=True).loc[:,1]*100"
   ]
  },
  {
   "cell_type": "code",
   "execution_count": 99,
   "id": "e0570e8c",
   "metadata": {},
   "outputs": [],
   "source": [
    "fraud_transaction = fraud_transaction.reset_index(name='Percentage')\n"
   ]
  },
  {
   "cell_type": "code",
   "execution_count": 100,
   "id": "fde86ee2",
   "metadata": {},
   "outputs": [
    {
     "data": {
      "text/html": [
       "<div>\n",
       "<style scoped>\n",
       "    .dataframe tbody tr th:only-of-type {\n",
       "        vertical-align: middle;\n",
       "    }\n",
       "\n",
       "    .dataframe tbody tr th {\n",
       "        vertical-align: top;\n",
       "    }\n",
       "\n",
       "    .dataframe thead th {\n",
       "        text-align: right;\n",
       "    }\n",
       "</style>\n",
       "<table border=\"1\" class=\"dataframe\">\n",
       "  <thead>\n",
       "    <tr style=\"text-align: right;\">\n",
       "      <th></th>\n",
       "      <th>transaction_range</th>\n",
       "      <th>Percentage</th>\n",
       "    </tr>\n",
       "  </thead>\n",
       "  <tbody>\n",
       "    <tr>\n",
       "      <th>0</th>\n",
       "      <td>Low-value($0-$50:)</td>\n",
       "      <td>2.366326</td>\n",
       "    </tr>\n",
       "    <tr>\n",
       "      <th>1</th>\n",
       "      <td>Medium-value($50-$100)</td>\n",
       "      <td>2.494379</td>\n",
       "    </tr>\n",
       "    <tr>\n",
       "      <th>2</th>\n",
       "      <td>High-value($100-$500)</td>\n",
       "      <td>2.892588</td>\n",
       "    </tr>\n",
       "    <tr>\n",
       "      <th>3</th>\n",
       "      <td>Very-High-value($500-$1000)</td>\n",
       "      <td>2.293397</td>\n",
       "    </tr>\n",
       "    <tr>\n",
       "      <th>4</th>\n",
       "      <td>Ultra-High-value($1000+)</td>\n",
       "      <td>1.501155</td>\n",
       "    </tr>\n",
       "  </tbody>\n",
       "</table>\n",
       "</div>"
      ],
      "text/plain": [
       "             transaction_range  Percentage\n",
       "0           Low-value($0-$50:)    2.366326\n",
       "1       Medium-value($50-$100)    2.494379\n",
       "2        High-value($100-$500)    2.892588\n",
       "3  Very-High-value($500-$1000)    2.293397\n",
       "4     Ultra-High-value($1000+)    1.501155"
      ]
     },
     "execution_count": 100,
     "metadata": {},
     "output_type": "execute_result"
    }
   ],
   "source": [
    "fraud_transaction"
   ]
  },
  {
   "cell_type": "code",
   "execution_count": 101,
   "id": "cfd530cf",
   "metadata": {},
   "outputs": [],
   "source": [
    "fraud_only = fraud_transaction"
   ]
  },
  {
   "cell_type": "code",
   "execution_count": 102,
   "id": "398a87cc",
   "metadata": {},
   "outputs": [
    {
     "data": {
      "image/png": "[encoded data removed]",
      "text/plain": [
       "<Figure size 1200x600 with 1 Axes>"
      ]
     },
     "metadata": {},
     "output_type": "display_data"
    }
   ],
   "source": [
    "plt.figure(figsize=(12,6))\n",
    "colors = ['red', 'orange', 'green', 'blue', 'purple']\n",
    "\n",
    "# ✅ Store the bars in a variable\n",
    "bars = plt.bar(fraud_only['transaction_range'], fraud_only['Percentage'], color=colors)\n",
    "plt.title('Fraud Transaction Rate by Range', fontsize=14, fontweight='bold')\n",
    "plt.xlabel('Transaction Range', fontsize=12)\n",
    "plt.ylabel('Fraud Percentage (%)', fontsize=12)\n",
    "\n",
    "plt.tight_layout()\n",
    "plt.show()\n"
   ]
  },
  {
   "cell_type": "markdown",
   "id": "a29fa3c2",
   "metadata": {},
   "source": [
    "## Time Analysis Plan"
   ]
  },
  {
   "cell_type": "code",
   "execution_count": 37,
   "id": "0481ab4f",
   "metadata": {},
   "outputs": [
    {
     "data": {
      "text/plain": [
       "dtype('int64')"
      ]
     },
     "execution_count": 37,
     "metadata": {},
     "output_type": "execute_result"
    }
   ],
   "source": [
    "df_transaction[\"TransactionDT\"].dtype"
   ]
  },
  {
   "cell_type": "code",
   "execution_count": 38,
   "id": "3309c2f4",
   "metadata": {},
   "outputs": [
    {
     "data": {
      "text/plain": [
       "0          86400\n",
       "1          86401\n",
       "2          86469\n",
       "3          86499\n",
       "4          86506\n",
       "          ...   \n",
       "99995    2005989\n",
       "99996    2006074\n",
       "99997    2006135\n",
       "99998    2006177\n",
       "99999    2006364\n",
       "Name: TransactionDT, Length: 100000, dtype: int64"
      ]
     },
     "execution_count": 38,
     "metadata": {},
     "output_type": "execute_result"
    }
   ],
   "source": [
    "df_transaction[\"TransactionDT\"]"
   ]
  },
  {
   "cell_type": "markdown",
   "id": "4ceb13d2",
   "metadata": {},
   "source": [
    "### DATE TIME CONVERSION FOR FRAUD RATE TEMPORAL ANALYSIS"
   ]
  },
  {
   "cell_type": "code",
   "execution_count": 39,
   "id": "2743275e",
   "metadata": {},
   "outputs": [],
   "source": [
    "import pandas as pd\n",
    "\n",
    "start_date = pd.Timestamp('2017-12-01')\n",
    "\n",
    "df_transaction[\"datetime\"] = start_date + pd.to_timedelta(df_transaction[\"TransactionDT\"], unit='s')\n"
   ]
  },
  {
   "cell_type": "code",
   "execution_count": 40,
   "id": "f8ebeaae",
   "metadata": {},
   "outputs": [
    {
     "data": {
      "text/plain": [
       "dtype('<M8[ns]')"
      ]
     },
     "execution_count": 40,
     "metadata": {},
     "output_type": "execute_result"
    }
   ],
   "source": [
    "df_transaction[\"datetime\"].dtype"
   ]
  },
  {
   "cell_type": "code",
   "execution_count": 43,
   "id": "215f2e29",
   "metadata": {},
   "outputs": [],
   "source": [
    "df_transaction[\"hour\"] = df_transaction[\"datetime\"].dt.hour"
   ]
  },
  {
   "cell_type": "code",
   "execution_count": 44,
   "id": "8c857479",
   "metadata": {},
   "outputs": [
    {
     "data": {
      "text/plain": [
       "0        0\n",
       "1        0\n",
       "2        0\n",
       "3        0\n",
       "4        0\n",
       "        ..\n",
       "99995    5\n",
       "99996    5\n",
       "99997    5\n",
       "99998    5\n",
       "99999    5\n",
       "Name: hour, Length: 100000, dtype: int32"
      ]
     },
     "execution_count": 44,
     "metadata": {},
     "output_type": "execute_result"
    }
   ],
   "source": [
    "df_transaction[\"hour\"]"
   ]
  },
  {
   "cell_type": "code",
   "execution_count": 45,
   "id": "7cf104fc",
   "metadata": {},
   "outputs": [],
   "source": [
    "df_transaction[\"day_of_week\"] = df_transaction[\"datetime\"].dt.dayofweek\n"
   ]
  },
  {
   "cell_type": "code",
   "execution_count": 46,
   "id": "c1f71997",
   "metadata": {},
   "outputs": [
    {
     "data": {
      "text/plain": [
       "0        5\n",
       "1        5\n",
       "2        5\n",
       "3        5\n",
       "4        5\n",
       "        ..\n",
       "99995    6\n",
       "99996    6\n",
       "99997    6\n",
       "99998    6\n",
       "99999    6\n",
       "Name: day_of_week, Length: 100000, dtype: int32"
      ]
     },
     "execution_count": 46,
     "metadata": {},
     "output_type": "execute_result"
    }
   ],
   "source": [
    "df_transaction[\"day_of_week\"] "
   ]
  },
  {
   "cell_type": "code",
   "execution_count": 47,
   "id": "7af533f5",
   "metadata": {},
   "outputs": [],
   "source": [
    "df_transaction[\"is_weekend\"] = df_transaction[\"day_of_week\"].isin([5, 6])\n"
   ]
  },
  {
   "cell_type": "code",
   "execution_count": 48,
   "id": "f1234f53",
   "metadata": {},
   "outputs": [
    {
     "data": {
      "text/plain": [
       "0        True\n",
       "1        True\n",
       "2        True\n",
       "3        True\n",
       "4        True\n",
       "         ... \n",
       "99995    True\n",
       "99996    True\n",
       "99997    True\n",
       "99998    True\n",
       "99999    True\n",
       "Name: is_weekend, Length: 100000, dtype: bool"
      ]
     },
     "execution_count": 48,
     "metadata": {},
     "output_type": "execute_result"
    }
   ],
   "source": [
    "df_transaction[\"is_weekend\"]"
   ]
  },
  {
   "cell_type": "code",
   "execution_count": 49,
   "id": "a50abe31",
   "metadata": {},
   "outputs": [
    {
     "data": {
      "text/plain": [
       "is_weekend\n",
       "False    65643\n",
       "True     34357\n",
       "Name: count, dtype: int64"
      ]
     },
     "execution_count": 49,
     "metadata": {},
     "output_type": "execute_result"
    }
   ],
   "source": [
    "df_transaction[\"is_weekend\"].value_counts()"
   ]
  },
  {
   "cell_type": "code",
   "execution_count": 50,
   "id": "5833d941",
   "metadata": {},
   "outputs": [
    {
     "data": {
      "text/plain": [
       "is_weekend\n",
       "False    65.643\n",
       "True     34.357\n",
       "Name: proportion, dtype: float64"
      ]
     },
     "execution_count": 50,
     "metadata": {},
     "output_type": "execute_result"
    }
   ],
   "source": [
    "df_transaction[\"is_weekend\"].value_counts(normalize=True)*100"
   ]
  },
  {
   "cell_type": "markdown",
   "id": "23414d82",
   "metadata": {},
   "source": [
    "## FRAUD RATE BY HOUR OF DAY ANALYSIS"
   ]
  },
  {
   "cell_type": "code",
   "execution_count": null,
   "id": "1c562a0c",
   "metadata": {},
   "outputs": [
    {
     "data": {
      "text/plain": [
       "hour\n",
       "0     6448\n",
       "1     5737\n",
       "2     4902\n",
       "3     3797\n",
       "4     2892\n",
       "5     1909\n",
       "6     1119\n",
       "7      647\n",
       "8      398\n",
       "9      343\n",
       "10     417\n",
       "11     773\n",
       "12    1588\n",
       "13    2937\n",
       "14    4560\n",
       "15    5635\n",
       "16    6886\n",
       "17    7123\n",
       "18    7228\n",
       "19    7280\n",
       "20    6964\n",
       "21    7064\n",
       "22    6737\n",
       "23    6616\n",
       "Name: count, dtype: int64"
      ]
     },
     "execution_count": 53,
     "metadata": {},
     "output_type": "execute_result"
    }
   ],
   "source": [
    "df_transaction[\"hour\"].value_counts().sort_index()"
   ]
  },
  {
   "cell_type": "code",
   "execution_count": 103,
   "id": "4daa7427",
   "metadata": {},
   "outputs": [],
   "source": [
    "transcation_hr = df_transaction[\"hour\"].value_counts().sort_index()"
   ]
  },
  {
   "cell_type": "code",
   "execution_count": 106,
   "id": "59fc759e",
   "metadata": {},
   "outputs": [
    {
     "data": {
      "image/png": "[encoded data removed]",
      "text/plain": [
       "<Figure size 1000x600 with 1 Axes>"
      ]
     },
     "metadata": {},
     "output_type": "display_data"
    }
   ],
   "source": [
    "plt.figure(figsize=(10,6))\n",
    "plt.plot(transcation_hr.index, transcation_hr.values, marker='o', linewidth=2, markersize=6)\n",
    "plt.title('Transaction Count by Hour of Day', fontsize=14, fontweight='bold')\n",
    "plt.xlabel('Hour of Day', fontsize=12)  \n",
    "plt.ylabel('Number of Transactions', fontsize=12)   \n",
    "plt.xticks(range(0, 24)) \n",
    "plt.show()"
   ]
  },
  {
   "cell_type": "code",
   "execution_count": 61,
   "id": "0b92636c",
   "metadata": {},
   "outputs": [
    {
     "data": {
      "image/png": "[encoded data removed]",
      "text/plain": [
       "<Figure size 1000x600 with 1 Axes>"
      ]
     },
     "metadata": {},
     "output_type": "display_data"
    }
   ],
   "source": [
    "plt.figure(figsize=(10,6))\n",
    "plt.hist(df_transaction[\"hour\"], bins=24, color='blue', edgecolor='black')\n",
    "plt.title('Transaction Count by Hour of Day', fontsize=14, fontweight='bold')\n",
    "plt.xlabel('Hour of Day', fontsize=12)  \n",
    "plt.ylabel('Number of Transactions', fontsize=12)   \n",
    "plt.xticks(range(0, 24)) \n",
    "plt.show()"
   ]
  },
  {
   "cell_type": "code",
   "execution_count": 108,
   "id": "7b626705",
   "metadata": {},
   "outputs": [
    {
     "data": {
      "text/plain": [
       "hour\n",
       "0     2.434864\n",
       "1     2.632038\n",
       "2     2.141983\n",
       "3     2.923361\n",
       "4     3.734440\n",
       "5     4.609743\n",
       "6     4.557641\n",
       "7     3.245750\n",
       "8     5.276382\n",
       "9     5.247813\n",
       "10    3.117506\n",
       "11    2.716688\n",
       "12    2.707809\n",
       "13    1.293837\n",
       "14    1.973684\n",
       "15    1.739130\n",
       "16    2.134766\n",
       "17    2.204127\n",
       "18    2.794687\n",
       "19    2.472527\n",
       "20    2.240092\n",
       "21    2.802945\n",
       "22    2.746029\n",
       "23    3.053204\n",
       "Name: proportion, dtype: float64"
      ]
     },
     "execution_count": 108,
     "metadata": {},
     "output_type": "execute_result"
    }
   ],
   "source": [
    "df_transaction.groupby('hour')['isFraud'].value_counts(normalize= True).loc[:, 1] * 100"
   ]
  },
  {
   "cell_type": "code",
   "execution_count": 73,
   "id": "53cdeb0c",
   "metadata": {},
   "outputs": [
    {
     "name": "stdout",
     "output_type": "stream",
     "text": [
      "hour\n",
      "0     2.434864\n",
      "1     2.632038\n",
      "2     2.141983\n",
      "3     2.923361\n",
      "4     3.734440\n",
      "5     4.609743\n",
      "6     4.557641\n",
      "7     3.245750\n",
      "8     5.276382\n",
      "9     5.247813\n",
      "10    3.117506\n",
      "11    2.716688\n",
      "12    2.707809\n",
      "13    1.293837\n",
      "14    1.973684\n",
      "15    1.739130\n",
      "16    2.134766\n",
      "17    2.204127\n",
      "18    2.794687\n",
      "19    2.472527\n",
      "20    2.240092\n",
      "21    2.802945\n",
      "22    2.746029\n",
      "23    3.053204\n",
      "Name: isFraud, dtype: float64\n"
     ]
    }
   ],
   "source": [
    "fraud_by_hour = df_transaction.groupby('hour')['isFraud'].mean() * 100\n",
    "print(fraud_by_hour)"
   ]
  },
  {
   "cell_type": "code",
   "execution_count": 74,
   "id": "dd537b5e",
   "metadata": {},
   "outputs": [
    {
     "name": "stdout",
     "output_type": "stream",
     "text": [
      "      Fraud_Count  Total  Fraud_Rate\n",
      "hour                                \n",
      "0             157   6448    2.434864\n",
      "1             151   5737    2.632038\n",
      "2             105   4902    2.141983\n",
      "3             111   3797    2.923361\n",
      "4             108   2892    3.734440\n",
      "5              88   1909    4.609743\n",
      "6              51   1119    4.557641\n",
      "7              21    647    3.245750\n",
      "8              21    398    5.276382\n",
      "9              18    343    5.247813\n",
      "10             13    417    3.117506\n",
      "11             21    773    2.716688\n",
      "12             43   1588    2.707809\n",
      "13             38   2937    1.293837\n",
      "14             90   4560    1.973684\n",
      "15             98   5635    1.739130\n",
      "16            147   6886    2.134766\n",
      "17            157   7123    2.204127\n",
      "18            202   7228    2.794687\n",
      "19            180   7280    2.472527\n",
      "20            156   6964    2.240092\n",
      "21            198   7064    2.802945\n",
      "22            185   6737    2.746029\n",
      "23            202   6616    3.053204\n"
     ]
    }
   ],
   "source": [
    "# Calculate fraud rate by hour\n",
    "fraud_by_hour_rate = df_transaction.groupby('hour')['isFraud'].agg(['sum','count','mean'])\n",
    "fraud_by_hour_rate.columns = ['Fraud_Count','Total','Fraud_Rate']\n",
    "fraud_by_hour_rate['Fraud_Rate'] = fraud_by_hour_rate['Fraud_Rate'] * 100\n",
    "\n",
    "print(fraud_by_hour_rate)"
   ]
  },
  {
   "cell_type": "code",
   "execution_count": 78,
   "id": "452e71b3",
   "metadata": {},
   "outputs": [
    {
     "data": {
      "image/png": "[encoded data removed]",
      "text/plain": [
       "<Figure size 1000x600 with 1 Axes>"
      ]
     },
     "metadata": {},
     "output_type": "display_data"
    }
   ],
   "source": [
    "# Create figure and axis\n",
    "plt.figure(figsize=(10, 6))\n",
    "\n",
    "# Plot the line\n",
    "plt.plot(fraud_by_hour.index, fraud_by_hour.values, marker='o', linewidth=2, markersize=6)\n",
    "\n",
    "# Add horizontal line for baseline fraud rate\n",
    "plt.axhline(y=2.56, color='red', linestyle='--', linewidth=2, label='Baseline (2.56%)')\n",
    "\n",
    "\n",
    "# Labels and title\n",
    "plt.xlabel('Time in day', fontsize=12)\n",
    "plt.ylabel('Fraud Rate', fontsize=12)\n",
    "plt.title('Fraud Rate by Time in Day', fontsize=14, fontweight='bold')\n",
    "plt.xticks(range(0, 24))\n",
    "\n",
    "# Show legend\n",
    "plt.legend()\n",
    "\n",
    "# Show grid for easier reading\n",
    "plt.grid(True, alpha=0.3)\n",
    "\n",
    "# Display plot\n",
    "plt.tight_layout\n",
    "plt.show()"
   ]
  },
  {
   "cell_type": "code",
   "execution_count": 110,
   "id": "55b53083",
   "metadata": {},
   "outputs": [
    {
     "data": {
      "text/plain": [
       "hour\n",
       "0     6448\n",
       "1     5737\n",
       "2     4902\n",
       "3     3797\n",
       "4     2892\n",
       "5     1909\n",
       "6     1119\n",
       "7      647\n",
       "8      398\n",
       "9      343\n",
       "10     417\n",
       "11     773\n",
       "12    1588\n",
       "13    2937\n",
       "14    4560\n",
       "15    5635\n",
       "16    6886\n",
       "17    7123\n",
       "18    7228\n",
       "19    7280\n",
       "20    6964\n",
       "21    7064\n",
       "22    6737\n",
       "23    6616\n",
       "Name: isFraud, dtype: int64"
      ]
     },
     "execution_count": 110,
     "metadata": {},
     "output_type": "execute_result"
    }
   ],
   "source": [
    "df_transaction.groupby('hour')['isFraud'].count()"
   ]
  },
  {
   "cell_type": "code",
   "execution_count": 111,
   "id": "5eebf9a4",
   "metadata": {},
   "outputs": [
    {
     "data": {
      "text/plain": [
       "361"
      ]
     },
     "execution_count": 111,
     "metadata": {},
     "output_type": "execute_result"
    }
   ],
   "source": [
    "# How many transactions >$100 happen at hour 6?\n",
    "df_transaction[(df_transaction['hour'] == 6) & \n",
    "               (df_transaction['TransactionAmt'] > 100)].shape[0]"
   ]
  },
  {
   "cell_type": "code",
   "execution_count": 113,
   "id": "ffa45ba7",
   "metadata": {},
   "outputs": [
    {
     "data": {
      "text/plain": [
       "758"
      ]
     },
     "execution_count": 113,
     "metadata": {},
     "output_type": "execute_result"
    }
   ],
   "source": [
    "df_transaction[(df_transaction['hour'] == 6) & \n",
    "               (df_transaction['TransactionAmt'] <= 100)].shape[0]"
   ]
  },
  {
   "cell_type": "markdown",
   "id": "93c82817",
   "metadata": {},
   "source": [
    "## DAY FRAUD RATE BY DAY OF WEEK"
   ]
  },
  {
   "cell_type": "code",
   "execution_count": null,
   "id": "235226c7",
   "metadata": {},
   "outputs": [],
   "source": [
    "df_transaction[\"day_of_week\"] "
   ]
  },
  {
   "cell_type": "code",
   "execution_count": 116,
   "id": "df2a03e7",
   "metadata": {},
   "outputs": [],
   "source": [
    "fraud_by_day = df_transaction.groupby(\"day_of_week\")[\"isFraud\"].agg(['sum', 'count', 'mean'])\n",
    "fraud_by_day.columns = ['Fraud_Count', 'Total_Transactions', 'Fraud_Rate']\n",
    "fraud_by_day[\"Fraud_Rate\"] = fraud_by_day[\"Fraud_Rate\"] * 100"
   ]
  },
  {
   "cell_type": "code",
   "execution_count": 117,
   "id": "70a46e08",
   "metadata": {},
   "outputs": [
    {
     "data": {
      "text/html": [
       "<div>\n",
       "<style scoped>\n",
       "    .dataframe tbody tr th:only-of-type {\n",
       "        vertical-align: middle;\n",
       "    }\n",
       "\n",
       "    .dataframe tbody tr th {\n",
       "        vertical-align: top;\n",
       "    }\n",
       "\n",
       "    .dataframe thead th {\n",
       "        text-align: right;\n",
       "    }\n",
       "</style>\n",
       "<table border=\"1\" class=\"dataframe\">\n",
       "  <thead>\n",
       "    <tr style=\"text-align: right;\">\n",
       "      <th></th>\n",
       "      <th>Fraud_Count</th>\n",
       "      <th>Total_Transactions</th>\n",
       "      <th>Fraud_Rate</th>\n",
       "    </tr>\n",
       "    <tr>\n",
       "      <th>day_of_week</th>\n",
       "      <th></th>\n",
       "      <th></th>\n",
       "      <th></th>\n",
       "    </tr>\n",
       "  </thead>\n",
       "  <tbody>\n",
       "    <tr>\n",
       "      <th>0</th>\n",
       "      <td>308</td>\n",
       "      <td>10491</td>\n",
       "      <td>2.935850</td>\n",
       "    </tr>\n",
       "    <tr>\n",
       "      <th>1</th>\n",
       "      <td>399</td>\n",
       "      <td>13940</td>\n",
       "      <td>2.862267</td>\n",
       "    </tr>\n",
       "    <tr>\n",
       "      <th>2</th>\n",
       "      <td>329</td>\n",
       "      <td>13654</td>\n",
       "      <td>2.409550</td>\n",
       "    </tr>\n",
       "    <tr>\n",
       "      <th>3</th>\n",
       "      <td>316</td>\n",
       "      <td>13649</td>\n",
       "      <td>2.315188</td>\n",
       "    </tr>\n",
       "    <tr>\n",
       "      <th>4</th>\n",
       "      <td>378</td>\n",
       "      <td>13909</td>\n",
       "      <td>2.717665</td>\n",
       "    </tr>\n",
       "    <tr>\n",
       "      <th>5</th>\n",
       "      <td>495</td>\n",
       "      <td>21007</td>\n",
       "      <td>2.356357</td>\n",
       "    </tr>\n",
       "    <tr>\n",
       "      <th>6</th>\n",
       "      <td>336</td>\n",
       "      <td>13350</td>\n",
       "      <td>2.516854</td>\n",
       "    </tr>\n",
       "  </tbody>\n",
       "</table>\n",
       "</div>"
      ],
      "text/plain": [
       "             Fraud_Count  Total_Transactions  Fraud_Rate\n",
       "day_of_week                                             \n",
       "0                    308               10491    2.935850\n",
       "1                    399               13940    2.862267\n",
       "2                    329               13654    2.409550\n",
       "3                    316               13649    2.315188\n",
       "4                    378               13909    2.717665\n",
       "5                    495               21007    2.356357\n",
       "6                    336               13350    2.516854"
      ]
     },
     "execution_count": 117,
     "metadata": {},
     "output_type": "execute_result"
    }
   ],
   "source": [
    "fraud_by_day"
   ]
  },
  {
   "cell_type": "code",
   "execution_count": 118,
   "id": "1cfed290",
   "metadata": {},
   "outputs": [],
   "source": [
    "fraud_transaction_day = df_transaction.groupby(\"day_of_week\")[\"isFraud\"].value_counts(normalize=True).loc[:,1]*100"
   ]
  },
  {
   "cell_type": "code",
   "execution_count": 119,
   "id": "36334c19",
   "metadata": {},
   "outputs": [
    {
     "data": {
      "text/plain": [
       "day_of_week\n",
       "0    2.935850\n",
       "1    2.862267\n",
       "2    2.409550\n",
       "3    2.315188\n",
       "4    2.717665\n",
       "5    2.356357\n",
       "6    2.516854\n",
       "Name: proportion, dtype: float64"
      ]
     },
     "execution_count": 119,
     "metadata": {},
     "output_type": "execute_result"
    }
   ],
   "source": [
    "fraud_transaction_day "
   ]
  },
  {
   "cell_type": "code",
   "execution_count": 121,
   "id": "f3997343",
   "metadata": {},
   "outputs": [
    {
     "data": {
      "image/png": "[encoded data removed]",
      "text/plain": [
       "<Figure size 1000x500 with 1 Axes>"
      ]
     },
     "metadata": {},
     "output_type": "display_data"
    }
   ],
   "source": [
    "plt.figure(figsize=(10,5))\n",
    "plt.plot(fraud_transaction_day.index, fraud_transaction_day.values, marker='o', linewidth=2, markersize=6)\n",
    "plt.axhline(y=2.56, color='red', linestyle='--', linewidth=2, label='Baseline (2.56%)')\n",
    "plt.title('Fraud Rate by Day of Week', fontsize=14, fontweight='bold')\n",
    "plt.xlabel('Day of Week', fontsize=12)  \n",
    "plt.ylabel('Fraud Rate (%)', fontsize=12)   \n",
    "plt.xticks(range(0, 7), ['Mon', 'Tue', 'Wed', 'Thu', 'Fri', 'Sat', 'Sun'])\n",
    "plt.show()"
   ]
  },
  {
   "cell_type": "markdown",
   "id": "6e4abad5",
   "metadata": {},
   "source": [
    "## RISK SCORE BY TIME OF DAY ADD DAY OF WEEK"
   ]
  },
  {
   "cell_type": "markdown",
   "id": "c9e6f536",
   "metadata": {},
   "source": [
    "**Creating new 3 new temporal feature based on hour and day fraud rate on my df_transactions dataframe**\n",
    "\n",
    "Since my hourly and daily fraud rates are in separate summary tables (Series/DataFrames), I’ll use .map() to connect each transaction’s hour/day to its corresponding fraud rate — and create new columns for them in my main dataset."
   ]
  },
  {
   "cell_type": "code",
   "execution_count": 123,
   "id": "e9eef397",
   "metadata": {},
   "outputs": [],
   "source": [
    "# Map hour to fraud rate (your actual data)\n",
    "hour_risk_map = fraud_by_hour.to_dict()\n",
    "\n",
    "# Map day to fraud rate (your actual data)\n",
    "day_risk_map = fraud_transaction_day.to_dict()\n",
    "\n",
    "# Create the numeric features\n",
    "df_transaction['hour_risk_score'] = df_transaction['hour'].map(hour_risk_map)\n",
    "df_transaction['day_risk_score'] = df_transaction['day_of_week'].map(day_risk_map)\n",
    "\n",
    "# Combined temporal risk score (average)\n",
    "df_transaction['temporal_risk_score'] = (df_transaction['hour_risk_score'] + \n",
    "                                          df_transaction['day_risk_score']) / 2"
   ]
  },
  {
   "cell_type": "code",
   "execution_count": 126,
   "id": "fb4c6cdc",
   "metadata": {},
   "outputs": [
    {
     "name": "stdout",
     "output_type": "stream",
     "text": [
      "   hour  day_of_week  hour_risk_score  day_risk_score  temporal_risk_score\n",
      "0     0            5         2.434864        2.356357              2.39561\n",
      "1     0            5         2.434864        2.356357              2.39561\n",
      "2     0            5         2.434864        2.356357              2.39561\n",
      "3     0            5         2.434864        2.356357              2.39561\n",
      "4     0            5         2.434864        2.356357              2.39561\n",
      "5     0            5         2.434864        2.356357              2.39561\n",
      "6     0            5         2.434864        2.356357              2.39561\n",
      "7     0            5         2.434864        2.356357              2.39561\n",
      "8     0            5         2.434864        2.356357              2.39561\n",
      "9     0            5         2.434864        2.356357              2.39561\n"
     ]
    }
   ],
   "source": [
    "print(df_transaction[['hour', 'day_of_week', 'hour_risk_score', \n",
    "                      'day_risk_score', 'temporal_risk_score']].head(10))"
   ]
  },
  {
   "cell_type": "markdown",
   "id": "f755ac3f",
   "metadata": {},
   "source": [
    "### Risk Level"
   ]
  },
  {
   "cell_type": "code",
   "execution_count": 154,
   "id": "8bf5622b",
   "metadata": {},
   "outputs": [],
   "source": [
    "# Create categorical risk levels\n",
    "def categorize_temporal_risk(score):\n",
    "    if score > 4.0:\n",
    "        return 'very_high'\n",
    "    elif score > 3.0:\n",
    "        return 'high'\n",
    "    elif score > 2.3:\n",
    "        return 'medium'\n",
    "    elif score > 2.0:\n",
    "        return 'low'\n",
    "    else:\n",
    "        return 'very_low'\n",
    "\n",
    "df_transaction['temporal_risk_category'] = df_transaction['temporal_risk_score'].apply(categorize_temporal_risk)"
   ]
  },
  {
   "cell_type": "code",
   "execution_count": 168,
   "id": "051b0f0e",
   "metadata": {},
   "outputs": [
    {
     "name": "stdout",
     "output_type": "stream",
     "text": [
      "temporal_risk_category\n",
      "medium       72354\n",
      "low          18945\n",
      "high          6681\n",
      "very_low      1852\n",
      "very_high      168\n",
      "Name: count, dtype: int64\n"
     ]
    }
   ],
   "source": [
    "print(df_transaction['temporal_risk_category'].value_counts().sort_values(ascending=False))"
   ]
  },
  {
   "cell_type": "code",
   "execution_count": 171,
   "id": "cbbb271b",
   "metadata": {},
   "outputs": [
    {
     "data": {
      "text/plain": [
       "temporal_risk_category\n",
       "medium       72354\n",
       "low          18945\n",
       "high          6681\n",
       "very_low      1852\n",
       "very_high      168\n",
       "Name: count, dtype: int64"
      ]
     },
     "execution_count": 171,
     "metadata": {},
     "output_type": "execute_result"
    }
   ],
   "source": [
    "df_transaction['temporal_risk_category'].value_counts().sort_values(ascending=False)"
   ]
  },
  {
   "cell_type": "code",
   "execution_count": 174,
   "id": "abada94d",
   "metadata": {},
   "outputs": [
    {
     "data": {
      "text/plain": [
       "temporal_risk_category\n",
       "very_high    4.761905\n",
       "high         4.325700\n",
       "medium       2.591425\n",
       "low          1.926630\n",
       "very_low     1.295896\n",
       "Name: proportion, dtype: float64"
      ]
     },
     "execution_count": 174,
     "metadata": {},
     "output_type": "execute_result"
    }
   ],
   "source": [
    "df_transaction.groupby('temporal_risk_category')['isFraud'].value_counts(normalize=True).loc[:,1].sort_values(ascending=False)*100"
   ]
  },
  {
   "cell_type": "code",
   "execution_count": 167,
   "id": "59ec4ae3",
   "metadata": {},
   "outputs": [
    {
     "name": "stdout",
     "output_type": "stream",
     "text": [
      "                        Fraud_Count  Total_Transactions  Fraud_Rate\n",
      "temporal_risk_category                                             \n",
      "very_high                         8                 168    4.761905\n",
      "high                            289                6681    4.325700\n",
      "medium                         1875               72354    2.591425\n",
      "low                             365               18945    1.926630\n",
      "very_low                         24                1852    1.295896\n"
     ]
    }
   ],
   "source": [
    "# Check fraud rate by each category\n",
    "fraud_by_category = df_transaction.groupby('temporal_risk_category')['isFraud'].agg(['sum', 'count', 'mean'])\n",
    "fraud_by_category.columns = ['Fraud_Count', 'Total_Transactions', 'Fraud_Rate']\n",
    "fraud_by_category['Fraud_Rate'] = fraud_by_category['Fraud_Rate'] * 100\n",
    "\n",
    "# Sort by fraud rate descending to see if ordering is correct\n",
    "print(fraud_by_category.sort_values('Fraud_Rate', ascending=False))"
   ]
  },
  {
   "cell_type": "code",
   "execution_count": 175,
   "id": "ca7264b8",
   "metadata": {},
   "outputs": [
    {
     "name": "stdout",
     "output_type": "stream",
     "text": [
      "Sample transactions with risk scores:\n",
      "       hour  day_of_week  hour_risk_score  day_risk_score  \\\n",
      "66454     8            0         5.276382         2.93585   \n",
      "36438     8            0         5.276382         2.93585   \n",
      "36440     8            0         5.276382         2.93585   \n",
      "36441     8            0         5.276382         2.93585   \n",
      "36442     8            0         5.276382         2.93585   \n",
      "36443     8            0         5.276382         2.93585   \n",
      "36444     8            0         5.276382         2.93585   \n",
      "36445     8            0         5.276382         2.93585   \n",
      "9714      8            0         5.276382         2.93585   \n",
      "9715      8            0         5.276382         2.93585   \n",
      "\n",
      "       temporal_risk_score temporal_risk_category  isFraud  \n",
      "66454             4.106116              very_high        0  \n",
      "36438             4.106116              very_high        0  \n",
      "36440             4.106116              very_high        0  \n",
      "36441             4.106116              very_high        0  \n",
      "36442             4.106116              very_high        0  \n",
      "36443             4.106116              very_high        0  \n",
      "36444             4.106116              very_high        0  \n",
      "36445             4.106116              very_high        0  \n",
      "9714              4.106116              very_high        0  \n",
      "9715              4.106116              very_high        0  \n"
     ]
    }
   ],
   "source": [
    "print(\"Sample transactions with risk scores:\")\n",
    "print(df_transaction[['hour', 'day_of_week', 'hour_risk_score', 'day_risk_score', \n",
    "                      'temporal_risk_score', 'temporal_risk_category', 'isFraud']].sort_values(by=\"temporal_risk_score\", ascending=False).head(10))\n"
   ]
  },
  {
   "cell_type": "code",
   "execution_count": 157,
   "id": "c64111ff",
   "metadata": {},
   "outputs": [
    {
     "data": {
      "text/plain": [
       "temporal_risk_category  isFraud\n",
       "high                    0          95.674300\n",
       "                        1           4.325700\n",
       "low                     0          98.073370\n",
       "                        1           1.926630\n",
       "medium                  0          97.408575\n",
       "                        1           2.591425\n",
       "very_high               0          95.238095\n",
       "                        1           4.761905\n",
       "very_low                0          98.704104\n",
       "                        1           1.295896\n",
       "Name: proportion, dtype: float64"
      ]
     },
     "execution_count": 157,
     "metadata": {},
     "output_type": "execute_result"
    }
   ],
   "source": [
    "df_transaction.groupby('temporal_risk_category')['isFraud'].value_counts(normalize=True)* 100"
   ]
  },
  {
   "cell_type": "code",
   "execution_count": 158,
   "id": "90ac0a36",
   "metadata": {},
   "outputs": [
    {
     "data": {
      "text/plain": [
       "temporal_risk_category\n",
       "high         4.325700\n",
       "low          1.926630\n",
       "medium       2.591425\n",
       "very_high    4.761905\n",
       "very_low     1.295896\n",
       "Name: proportion, dtype: float64"
      ]
     },
     "execution_count": 158,
     "metadata": {},
     "output_type": "execute_result"
    }
   ],
   "source": [
    "df_transaction.groupby('temporal_risk_category')['isFraud'].value_counts(normalize=True).loc[:,1] * 100"
   ]
  },
  {
   "cell_type": "code",
   "execution_count": 159,
   "id": "de85fc33",
   "metadata": {},
   "outputs": [
    {
     "name": "stdout",
     "output_type": "stream",
     "text": [
      "Fraud rate by risk category:\n",
      "temporal_risk_category\n",
      "high         4.325700\n",
      "low          1.926630\n",
      "medium       2.591425\n",
      "very_high    4.761905\n",
      "very_low     1.295896\n",
      "Name: isFraud, dtype: float64\n"
     ]
    }
   ],
   "source": [
    "# Check fraud rate by category (validate it works!)\n",
    "print(\"Fraud rate by risk category:\")\n",
    "print(df_transaction.groupby('temporal_risk_category')['isFraud'].mean() * 100)"
   ]
  },
  {
   "cell_type": "code",
   "execution_count": 160,
   "id": "08f2765f",
   "metadata": {},
   "outputs": [
    {
     "name": "stdout",
     "output_type": "stream",
     "text": [
      "Very low count: 1852\n",
      "Minimum temporal risk score: 1.8045125873744015\n",
      "Maximum temporal risk score: 4.106115842773106\n"
     ]
    }
   ],
   "source": [
    "# Check if very_low exists\n",
    "print(\"Very low count:\", (df_transaction['temporal_risk_category'] == 'very_low').sum())\n",
    "\n",
    "# Check minimum temporal risk score\n",
    "print(\"Minimum temporal risk score:\", df_transaction['temporal_risk_score'].min())\n",
    "print(\"Maximum temporal risk score:\", df_transaction['temporal_risk_score'].max())"
   ]
  },
  {
   "cell_type": "markdown",
   "id": "31e7b925",
   "metadata": {},
   "source": [
    "**Filter day of week is Monday and time of day is 9am**"
   ]
  },
  {
   "cell_type": "code",
   "execution_count": 162,
   "id": "cb2baacd",
   "metadata": {},
   "outputs": [],
   "source": [
    "monday_9am = df_transaction[\n",
    "    (df_transaction['day_of_week'] == 0) &\n",
    "    (df_transaction['hour'] == 9)\n",
    "]\n",
    "\n"
   ]
  },
  {
   "cell_type": "code",
   "execution_count": 163,
   "id": "f8aa478d",
   "metadata": {},
   "outputs": [
    {
     "name": "stdout",
     "output_type": "stream",
     "text": [
      "      hour  day_of_week  hour_risk_score  day_risk_score  temporal_risk_score  \\\n",
      "9728     9            0         5.247813         2.93585             4.091832   \n",
      "9729     9            0         5.247813         2.93585             4.091832   \n",
      "9730     9            0         5.247813         2.93585             4.091832   \n",
      "9731     9            0         5.247813         2.93585             4.091832   \n",
      "9732     9            0         5.247813         2.93585             4.091832   \n",
      "9733     9            0         5.247813         2.93585             4.091832   \n",
      "9734     9            0         5.247813         2.93585             4.091832   \n",
      "9735     9            0         5.247813         2.93585             4.091832   \n",
      "9736     9            0         5.247813         2.93585             4.091832   \n",
      "9737     9            0         5.247813         2.93585             4.091832   \n",
      "\n",
      "     temporal_risk_category  isFraud  \n",
      "9728              very_high        0  \n",
      "9729              very_high        0  \n",
      "9730              very_high        0  \n",
      "9731              very_high        0  \n",
      "9732              very_high        0  \n",
      "9733              very_high        0  \n",
      "9734              very_high        0  \n",
      "9735              very_high        0  \n",
      "9736              very_high        0  \n",
      "9737              very_high        0  \n"
     ]
    }
   ],
   "source": [
    "print(monday_9am[['hour', 'day_of_week', 'hour_risk_score', 'day_risk_score',\n",
    "                  'temporal_risk_score', 'temporal_risk_category', 'isFraud']].head(10))\n"
   ]
  },
  {
   "cell_type": "markdown",
   "id": "dbd4e67b",
   "metadata": {},
   "source": [
    "### Missing Values"
   ]
  },
  {
   "cell_type": "code",
   "execution_count": 185,
   "id": "a007dcf8",
   "metadata": {},
   "outputs": [
    {
     "data": {
      "text/plain": [
       "D7       93928\n",
       "dist2    91769\n",
       "D13      90479\n",
       "D12      89495\n",
       "D14      88847\n",
       "D6       87259\n",
       "M9       83961\n",
       "M7       83961\n",
       "M8       83961\n",
       "D8       78289\n",
       "D9       78289\n",
       "V10      71208\n",
       "V1       71208\n",
       "V2       71208\n",
       "D11      71208\n",
       "V3       71208\n",
       "V5       71208\n",
       "V6       71208\n",
       "V7       71208\n",
       "V9       71208\n",
       "dtype: int64"
      ]
     },
     "execution_count": 185,
     "metadata": {},
     "output_type": "execute_result"
    }
   ],
   "source": [
    "df_transaction.isnull().sum().sort_values(ascending=False).head(20)"
   ]
  },
  {
   "cell_type": "code",
   "execution_count": 178,
   "id": "dab82723",
   "metadata": {},
   "outputs": [],
   "source": [
    "missing_count = df_transaction.isnull().sum()"
   ]
  },
  {
   "cell_type": "code",
   "execution_count": 179,
   "id": "8ff3510a",
   "metadata": {},
   "outputs": [],
   "source": [
    "missing_percent = (missing_count / len(df_transaction)) * 100"
   ]
  },
  {
   "cell_type": "code",
   "execution_count": 190,
   "id": "0bc5f336",
   "metadata": {},
   "outputs": [
    {
     "data": {
      "text/plain": [
       "D7                        93.928\n",
       "dist2                     91.769\n",
       "D13                       90.479\n",
       "D12                       89.495\n",
       "D14                       88.847\n",
       "                           ...  \n",
       "V113                       0.000\n",
       "V112                       0.000\n",
       "V111                       0.000\n",
       "V110                       0.000\n",
       "temporal_risk_category     0.000\n",
       "Length: 403, dtype: float64"
      ]
     },
     "execution_count": 190,
     "metadata": {},
     "output_type": "execute_result"
    }
   ],
   "source": [
    "missing_percent.sort_values(ascending=False)"
   ]
  },
  {
   "cell_type": "code",
   "execution_count": 188,
   "id": "b36d5c3d",
   "metadata": {},
   "outputs": [
    {
     "name": "stdout",
     "output_type": "stream",
     "text": [
      "       Missing_Count  Missing_Percent\n",
      "D7             93928           93.928\n",
      "dist2          91769           91.769\n",
      "D13            90479           90.479\n",
      "D12            89495           89.495\n",
      "D14            88847           88.847\n",
      "D6             87259           87.259\n",
      "M8             83961           83.961\n",
      "M7             83961           83.961\n",
      "M9             83961           83.961\n",
      "D8             78289           78.289\n",
      "D9             78289           78.289\n",
      "V1             71208           71.208\n",
      "V7             71208           71.208\n",
      "V8             71208           71.208\n",
      "V9             71208           71.208\n",
      "V2             71208           71.208\n",
      "V3             71208           71.208\n",
      "V4             71208           71.208\n",
      "V5             71208           71.208\n",
      "V10            71208           71.208\n"
     ]
    }
   ],
   "source": [
    "# Combine into a DataFrame\n",
    "missing_data = pd.DataFrame({\n",
    "    'Missing_Count': missing_count,\n",
    "    'Missing_Percent': missing_percent\n",
    "})\n",
    "\n",
    "# Sort and filter (only show columns with missing data)\n",
    "missing_data = missing_data[missing_data['Missing_Count'] > 0].sort_values('Missing_Percent', ascending=False)\n",
    "\n",
    "print(missing_data.head(20))"
   ]
  },
  {
   "cell_type": "code",
   "execution_count": 191,
   "id": "b9f14e91",
   "metadata": {},
   "outputs": [
    {
     "name": "stdout",
     "output_type": "stream",
     "text": [
      "V columns (Vesta features) - missing data summary:\n",
      "Total V columns with missing: 285\n",
      "Average missing %: 48.04%\n",
      "\n",
      "D columns (Timedelta) - missing data summary:\n",
      "Total D columns with missing: 14\n",
      "Average missing %: 69.18%\n",
      "\n",
      "C columns (Counts) - missing data summary:\n",
      "Total C columns with missing: 0\n",
      "Average missing %: nan%\n"
     ]
    }
   ],
   "source": [
    "# Let's see missing patterns by feature group\n",
    "v_missing = missing_data[missing_data.index.str.startswith('V')]\n",
    "c_missing = missing_data[missing_data.index.str.startswith('C')]\n",
    "d_missing = missing_data[missing_data.index.str.startswith('D')]\n",
    "m_missing = missing_data[missing_data.index.str.startswith('M')]\n",
    "\n",
    "print(\"V columns (Vesta features) - missing data summary:\")\n",
    "print(f\"Total V columns with missing: {len(v_missing)}\")\n",
    "print(f\"Average missing %: {v_missing['Missing_Percent'].mean():.2f}%\")\n",
    "print()\n",
    "\n",
    "print(\"D columns (Timedelta) - missing data summary:\")\n",
    "print(f\"Total D columns with missing: {len(d_missing)}\")\n",
    "print(f\"Average missing %: {d_missing['Missing_Percent'].mean():.2f}%\")\n",
    "print()\n",
    "\n",
    "print(\"C columns (Counts) - missing data summary:\")\n",
    "print(f\"Total C columns with missing: {len(c_missing)}\")\n",
    "print(f\"Average missing %: {c_missing['Missing_Percent'].mean():.2f}%\")"
   ]
  },
  {
   "cell_type": "code",
   "execution_count": 228,
   "id": "e8099178",
   "metadata": {},
   "outputs": [
    {
     "data": {
      "text/html": [
       "<div>\n",
       "<style scoped>\n",
       "    .dataframe tbody tr th:only-of-type {\n",
       "        vertical-align: middle;\n",
       "    }\n",
       "\n",
       "    .dataframe tbody tr th {\n",
       "        vertical-align: top;\n",
       "    }\n",
       "\n",
       "    .dataframe thead th {\n",
       "        text-align: right;\n",
       "    }\n",
       "</style>\n",
       "<table border=\"1\" class=\"dataframe\">\n",
       "  <thead>\n",
       "    <tr style=\"text-align: right;\">\n",
       "      <th></th>\n",
       "      <th>Missing_Count</th>\n",
       "      <th>Missing_Percent</th>\n",
       "    </tr>\n",
       "  </thead>\n",
       "  <tbody>\n",
       "    <tr>\n",
       "      <th>V1</th>\n",
       "      <td>71208</td>\n",
       "      <td>71.208</td>\n",
       "    </tr>\n",
       "    <tr>\n",
       "      <th>V7</th>\n",
       "      <td>71208</td>\n",
       "      <td>71.208</td>\n",
       "    </tr>\n",
       "    <tr>\n",
       "      <th>V8</th>\n",
       "      <td>71208</td>\n",
       "      <td>71.208</td>\n",
       "    </tr>\n",
       "    <tr>\n",
       "      <th>V9</th>\n",
       "      <td>71208</td>\n",
       "      <td>71.208</td>\n",
       "    </tr>\n",
       "    <tr>\n",
       "      <th>V2</th>\n",
       "      <td>71208</td>\n",
       "      <td>71.208</td>\n",
       "    </tr>\n",
       "    <tr>\n",
       "      <th>...</th>\n",
       "      <td>...</td>\n",
       "      <td>...</td>\n",
       "    </tr>\n",
       "    <tr>\n",
       "      <th>V312</th>\n",
       "      <td>11</td>\n",
       "      <td>0.011</td>\n",
       "    </tr>\n",
       "    <tr>\n",
       "      <th>V316</th>\n",
       "      <td>11</td>\n",
       "      <td>0.011</td>\n",
       "    </tr>\n",
       "    <tr>\n",
       "      <th>V317</th>\n",
       "      <td>11</td>\n",
       "      <td>0.011</td>\n",
       "    </tr>\n",
       "    <tr>\n",
       "      <th>V318</th>\n",
       "      <td>11</td>\n",
       "      <td>0.011</td>\n",
       "    </tr>\n",
       "    <tr>\n",
       "      <th>V307</th>\n",
       "      <td>11</td>\n",
       "      <td>0.011</td>\n",
       "    </tr>\n",
       "  </tbody>\n",
       "</table>\n",
       "<p>285 rows × 2 columns</p>\n",
       "</div>"
      ],
      "text/plain": [
       "      Missing_Count  Missing_Percent\n",
       "V1            71208           71.208\n",
       "V7            71208           71.208\n",
       "V8            71208           71.208\n",
       "V9            71208           71.208\n",
       "V2            71208           71.208\n",
       "...             ...              ...\n",
       "V312             11            0.011\n",
       "V316             11            0.011\n",
       "V317             11            0.011\n",
       "V318             11            0.011\n",
       "V307             11            0.011\n",
       "\n",
       "[285 rows x 2 columns]"
      ]
     },
     "execution_count": 228,
     "metadata": {},
     "output_type": "execute_result"
    }
   ],
   "source": [
    "v_missing "
   ]
  },
  {
   "cell_type": "code",
   "execution_count": 195,
   "id": "c3d1842c",
   "metadata": {},
   "outputs": [],
   "source": [
    "df_transaction['D7_is_missing'] = df_transaction['D7'].isna().astype(int)\n"
   ]
  },
  {
   "cell_type": "code",
   "execution_count": 196,
   "id": "327bbba9",
   "metadata": {},
   "outputs": [
    {
     "data": {
      "text/plain": [
       "0        1\n",
       "1        1\n",
       "2        1\n",
       "3        1\n",
       "4        1\n",
       "        ..\n",
       "99995    1\n",
       "99996    1\n",
       "99997    1\n",
       "99998    1\n",
       "99999    1\n",
       "Name: D7_is_missing, Length: 100000, dtype: int64"
      ]
     },
     "execution_count": 196,
     "metadata": {},
     "output_type": "execute_result"
    }
   ],
   "source": [
    "df_transaction['D7_is_missing']"
   ]
  },
  {
   "cell_type": "code",
   "execution_count": 197,
   "id": "b81b4047",
   "metadata": {},
   "outputs": [],
   "source": [
    "fraud_by_d7_missing = df_transaction.groupby('D7_is_missing')['isFraud'].mean() * 100"
   ]
  },
  {
   "cell_type": "code",
   "execution_count": 198,
   "id": "3818ed44",
   "metadata": {},
   "outputs": [
    {
     "data": {
      "text/plain": [
       "D7_is_missing\n",
       "0    10.770751\n",
       "1     2.030279\n",
       "Name: isFraud, dtype: float64"
      ]
     },
     "execution_count": 198,
     "metadata": {},
     "output_type": "execute_result"
    }
   ],
   "source": [
    "fraud_by_d7_missing "
   ]
  },
  {
   "cell_type": "code",
   "execution_count": 200,
   "id": "c23a074c",
   "metadata": {},
   "outputs": [
    {
     "data": {
      "text/plain": [
       "D7_is_missing  isFraud\n",
       "0              0           5418\n",
       "               1            654\n",
       "1              0          92021\n",
       "               1           1907\n",
       "Name: count, dtype: int64"
      ]
     },
     "execution_count": 200,
     "metadata": {},
     "output_type": "execute_result"
    }
   ],
   "source": [
    "df_transaction.groupby('D7_is_missing')['isFraud'].value_counts()"
   ]
  },
  {
   "cell_type": "code",
   "execution_count": 201,
   "id": "92cd07af",
   "metadata": {},
   "outputs": [
    {
     "data": {
      "text/plain": [
       "D7_is_missing  isFraud\n",
       "0              0          89.229249\n",
       "               1          10.770751\n",
       "1              0          97.969721\n",
       "               1           2.030279\n",
       "Name: proportion, dtype: float64"
      ]
     },
     "execution_count": 201,
     "metadata": {},
     "output_type": "execute_result"
    }
   ],
   "source": [
    "df_transaction.groupby('D7_is_missing')['isFraud'].value_counts(normalize=True)*100"
   ]
  },
  {
   "cell_type": "code",
   "execution_count": 211,
   "id": "0e9ffedd",
   "metadata": {},
   "outputs": [],
   "source": [
    "missing_d7_percent = df_transaction.groupby('D7_is_missing')['isFraud'].value_counts(normalize=True).loc[:,1]*100"
   ]
  },
  {
   "cell_type": "code",
   "execution_count": 212,
   "id": "8c1eab32",
   "metadata": {},
   "outputs": [],
   "source": [
    "missing_d7_count = df_transaction['D7_is_missing'].value_counts().sort_values(ascending=False)"
   ]
  },
  {
   "cell_type": "code",
   "execution_count": 213,
   "id": "a8773d0f",
   "metadata": {},
   "outputs": [],
   "source": [
    "D7_missing_DF =pd.DataFrame({\n",
    "    'missing_d7_count': missing_d7_count,\n",
    "    'missing_d7_percent': missing_d7_percent\n",
    "})"
   ]
  },
  {
   "cell_type": "code",
   "execution_count": 214,
   "id": "1f195bf4",
   "metadata": {},
   "outputs": [
    {
     "data": {
      "text/html": [
       "<div>\n",
       "<style scoped>\n",
       "    .dataframe tbody tr th:only-of-type {\n",
       "        vertical-align: middle;\n",
       "    }\n",
       "\n",
       "    .dataframe tbody tr th {\n",
       "        vertical-align: top;\n",
       "    }\n",
       "\n",
       "    .dataframe thead th {\n",
       "        text-align: right;\n",
       "    }\n",
       "</style>\n",
       "<table border=\"1\" class=\"dataframe\">\n",
       "  <thead>\n",
       "    <tr style=\"text-align: right;\">\n",
       "      <th></th>\n",
       "      <th>missing_d7_count</th>\n",
       "      <th>missing_d7_percent</th>\n",
       "    </tr>\n",
       "    <tr>\n",
       "      <th>D7_is_missing</th>\n",
       "      <th></th>\n",
       "      <th></th>\n",
       "    </tr>\n",
       "  </thead>\n",
       "  <tbody>\n",
       "    <tr>\n",
       "      <th>0</th>\n",
       "      <td>6072</td>\n",
       "      <td>10.770751</td>\n",
       "    </tr>\n",
       "    <tr>\n",
       "      <th>1</th>\n",
       "      <td>93928</td>\n",
       "      <td>2.030279</td>\n",
       "    </tr>\n",
       "  </tbody>\n",
       "</table>\n",
       "</div>"
      ],
      "text/plain": [
       "               missing_d7_count  missing_d7_percent\n",
       "D7_is_missing                                      \n",
       "0                          6072           10.770751\n",
       "1                         93928            2.030279"
      ]
     },
     "execution_count": 214,
     "metadata": {},
     "output_type": "execute_result"
    }
   ],
   "source": [
    "D7_missing_DF"
   ]
  },
  {
   "cell_type": "code",
   "execution_count": 216,
   "id": "c8e4ae6b",
   "metadata": {},
   "outputs": [
    {
     "data": {
      "text/html": [
       "<div>\n",
       "<style scoped>\n",
       "    .dataframe tbody tr th:only-of-type {\n",
       "        vertical-align: middle;\n",
       "    }\n",
       "\n",
       "    .dataframe tbody tr th {\n",
       "        vertical-align: top;\n",
       "    }\n",
       "\n",
       "    .dataframe thead th {\n",
       "        text-align: right;\n",
       "    }\n",
       "</style>\n",
       "<table border=\"1\" class=\"dataframe\">\n",
       "  <thead>\n",
       "    <tr style=\"text-align: right;\">\n",
       "      <th></th>\n",
       "      <th>D7</th>\n",
       "      <th>D7_is_missing</th>\n",
       "      <th>isFraud</th>\n",
       "    </tr>\n",
       "  </thead>\n",
       "  <tbody>\n",
       "    <tr>\n",
       "      <th>0</th>\n",
       "      <td>NaN</td>\n",
       "      <td>1</td>\n",
       "      <td>0</td>\n",
       "    </tr>\n",
       "    <tr>\n",
       "      <th>1</th>\n",
       "      <td>NaN</td>\n",
       "      <td>1</td>\n",
       "      <td>0</td>\n",
       "    </tr>\n",
       "    <tr>\n",
       "      <th>2</th>\n",
       "      <td>NaN</td>\n",
       "      <td>1</td>\n",
       "      <td>0</td>\n",
       "    </tr>\n",
       "    <tr>\n",
       "      <th>3</th>\n",
       "      <td>NaN</td>\n",
       "      <td>1</td>\n",
       "      <td>0</td>\n",
       "    </tr>\n",
       "    <tr>\n",
       "      <th>4</th>\n",
       "      <td>NaN</td>\n",
       "      <td>1</td>\n",
       "      <td>0</td>\n",
       "    </tr>\n",
       "    <tr>\n",
       "      <th>5</th>\n",
       "      <td>NaN</td>\n",
       "      <td>1</td>\n",
       "      <td>0</td>\n",
       "    </tr>\n",
       "    <tr>\n",
       "      <th>6</th>\n",
       "      <td>NaN</td>\n",
       "      <td>1</td>\n",
       "      <td>0</td>\n",
       "    </tr>\n",
       "    <tr>\n",
       "      <th>7</th>\n",
       "      <td>NaN</td>\n",
       "      <td>1</td>\n",
       "      <td>0</td>\n",
       "    </tr>\n",
       "    <tr>\n",
       "      <th>8</th>\n",
       "      <td>NaN</td>\n",
       "      <td>1</td>\n",
       "      <td>0</td>\n",
       "    </tr>\n",
       "    <tr>\n",
       "      <th>9</th>\n",
       "      <td>NaN</td>\n",
       "      <td>1</td>\n",
       "      <td>0</td>\n",
       "    </tr>\n",
       "  </tbody>\n",
       "</table>\n",
       "</div>"
      ],
      "text/plain": [
       "   D7  D7_is_missing  isFraud\n",
       "0 NaN              1        0\n",
       "1 NaN              1        0\n",
       "2 NaN              1        0\n",
       "3 NaN              1        0\n",
       "4 NaN              1        0\n",
       "5 NaN              1        0\n",
       "6 NaN              1        0\n",
       "7 NaN              1        0\n",
       "8 NaN              1        0\n",
       "9 NaN              1        0"
      ]
     },
     "execution_count": 216,
     "metadata": {},
     "output_type": "execute_result"
    }
   ],
   "source": [
    "df_transaction[['D7', 'D7_is_missing', 'isFraud']].head(10)"
   ]
  },
  {
   "cell_type": "code",
   "execution_count": 219,
   "id": "23001f2a",
   "metadata": {},
   "outputs": [
    {
     "name": "stdout",
     "output_type": "stream",
     "text": [
      "Rows where D7 has a value:\n",
      "        D7  D7_is_missing  isFraud\n",
      "10     0.0              0        0\n",
      "38     4.0              0        0\n",
      "40     0.0              0        0\n",
      "68     8.0              0        0\n",
      "69     4.0              0        0\n",
      "113    0.0              0        0\n",
      "118    0.0              0        0\n",
      "130    0.0              0        0\n",
      "139  163.0              0        0\n",
      "142    0.0              0        0\n"
     ]
    }
   ],
   "source": [
    "# Show rows where D7 is NOT missing\n",
    "print(\"Rows where D7 has a value:\")\n",
    "print(df_transaction[df_transaction['D7'].notna()][['D7', 'D7_is_missing', 'isFraud']].head(10))"
   ]
  },
  {
   "cell_type": "markdown",
   "id": "c6f3b70d",
   "metadata": {},
   "source": [
    "### # Group 1: Less than 5% missing"
   ]
  },
  {
   "cell_type": "code",
   "execution_count": null,
   "id": "d7b73f68",
   "metadata": {},
   "outputs": [
    {
     "name": "stdout",
     "output_type": "stream",
     "text": [
      "Group 1 (< 5% missing): 37 columns\n",
      "       Missing_Count  Missing_Percent\n",
      "card2           1354            1.354\n",
      "card5            525            0.525\n",
      "V299              11            0.011\n",
      "V321              11            0.011\n",
      "V279              11            0.011\n",
      "V280              11            0.011\n",
      "V284              11            0.011\n",
      "V285              11            0.011\n",
      "V286              11            0.011\n",
      "V287              11            0.011\n",
      "\n"
     ]
    }
   ],
   "source": [
    "low_missing = missing_data[missing_data['Missing_Percent'] < 5]\n",
    "print(f\"Group 1 (< 5% missing): {len(low_missing)} columns\")\n",
    "print(low_missing.head(10))\n",
    "print()"
   ]
  },
  {
   "cell_type": "markdown",
   "id": "7de805e8",
   "metadata": {},
   "source": [
    "### Group 2: Between 5% and 60% missing"
   ]
  },
  {
   "cell_type": "code",
   "execution_count": null,
   "id": "ab71fa03",
   "metadata": {},
   "outputs": [
    {
     "name": "stdout",
     "output_type": "stream",
     "text": [
      "Group 2 (5-60% missing): 109 columns\n",
      "\n",
      "      Missing_Count  Missing_Percent\n",
      "V222          59534           59.534\n",
      "V227          59534           59.534\n",
      "V234          59534           59.534\n",
      "V238          59534           59.534\n",
      "V239          59534           59.534\n",
      "V245          59534           59.534\n",
      "V220          59534           59.534\n",
      "V250          59534           59.534\n",
      "V251          59534           59.534\n",
      "V221          59534           59.534\n"
     ]
    }
   ],
   "source": [
    "moderate_missing = missing_data[(missing_data['Missing_Percent'] >= 5) & \n",
    "                                (missing_data['Missing_Percent'] <= 60)]\n",
    "print(f\"Group 2 (5-60% missing): {len(moderate_missing)} columns\")\n",
    "print(f\"\\n{moderate_missing.head(10)}\")\n"
   ]
  },
  {
   "cell_type": "markdown",
   "id": "5da28a89",
   "metadata": {},
   "source": [
    "### Group 3: More than 60% missing"
   ]
  },
  {
   "cell_type": "code",
   "execution_count": 235,
   "id": "1843a581",
   "metadata": {},
   "outputs": [
    {
     "name": "stdout",
     "output_type": "stream",
     "text": [
      "Group 3 (> 60% missing): 173 columns\n",
      "\n",
      "       Missing_Count  Missing_Percent\n",
      "D7             93928           93.928\n",
      "dist2          91769           91.769\n",
      "D13            90479           90.479\n",
      "D12            89495           89.495\n",
      "D14            88847           88.847\n",
      "D6             87259           87.259\n",
      "M8             83961           83.961\n",
      "M7             83961           83.961\n",
      "M9             83961           83.961\n",
      "D8             78289           78.289\n"
     ]
    }
   ],
   "source": [
    "severe_missing = missing_data[missing_data['Missing_Percent'] > 60]\n",
    "print(f\"Group 3 (> 60% missing): {len(severe_missing)} columns\")\n",
    "print(f\"\\n{severe_missing.head(10)}\")"
   ]
  },
  {
   "cell_type": "code",
   "execution_count": 242,
   "id": "b802528d",
   "metadata": {},
   "outputs": [
    {
     "data": {
      "text/plain": [
       "Index(['card2', 'card3', 'card4', 'card5', 'card6', 'addr1', 'addr2', 'dist1',\n",
       "       'dist2', 'P_emaildomain',\n",
       "       ...\n",
       "       'V330', 'V331', 'V332', 'V333', 'V334', 'V335', 'V336', 'V337', 'V338',\n",
       "       'V339'],\n",
       "      dtype='object', length=319)"
      ]
     },
     "execution_count": 242,
     "metadata": {},
     "output_type": "execute_result"
    }
   ],
   "source": [
    "df_transaction.columns[df_transaction.isna().any()]"
   ]
  },
  {
   "cell_type": "code",
   "execution_count": 245,
   "id": "3a022798",
   "metadata": {},
   "outputs": [
    {
     "data": {
      "text/plain": [
       "card2     1354\n",
       "card3        3\n",
       "card4        7\n",
       "card5      525\n",
       "card6        4\n",
       "         ...  \n",
       "V335     68229\n",
       "V336     68229\n",
       "V337     68229\n",
       "V338     68229\n",
       "V339     68229\n",
       "Length: 319, dtype: int64"
      ]
     },
     "execution_count": 245,
     "metadata": {},
     "output_type": "execute_result"
    }
   ],
   "source": [
    "df_transaction.isna().sum()[df_transaction.isna().sum() > 0]\n",
    "\n"
   ]
  },
  {
   "cell_type": "markdown",
   "id": "19072c08",
   "metadata": {},
   "source": [
    "### Missing Data Assessment - Key Findings:\n",
    "\n",
    "***✅ 319 columns have missing data out of 394 total columns***\n",
    "\n",
    "***✅ Breakdown by severity:***\n",
    "\n",
    "- Low (<5%): 37 columns - minimal impact\n",
    "- Moderate (5-60%): 109 columns - manageable\n",
    "- Severe (>60%): 173 columns - needs careful handling\n",
    "\n",
    "***✅ Key insight discovered: Missingness can be predictive!***\n",
    "\n",
    "Example: D7 (94% missing)\n",
    "\n",
    "When missing: 2.03% fraud rate\n",
    "When present: 10.77% fraud rate (5x higher!)\n",
    "\n",
    "\n",
    "Strategy: Create \"is_missing\" flags instead of dropping\n",
    "\n",
    "***✅ Action plan: Handle missing data systematically in Feature Engineering phase***"
   ]
  },
  {
   "cell_type": "markdown",
   "id": "0f18e361",
   "metadata": {},
   "source": [
    "## ProductCD Analysis\n"
   ]
  },
  {
   "cell_type": "code",
   "execution_count": 246,
   "id": "c2e5f644",
   "metadata": {},
   "outputs": [
    {
     "data": {
      "text/plain": [
       "array(['W', 'H', 'C', 'S', 'R'], dtype=object)"
      ]
     },
     "execution_count": 246,
     "metadata": {},
     "output_type": "execute_result"
    }
   ],
   "source": [
    "df_transaction[\"ProductCD\"].unique()"
   ]
  },
  {
   "cell_type": "code",
   "execution_count": 247,
   "id": "83a473be",
   "metadata": {},
   "outputs": [
    {
     "data": {
      "text/plain": [
       "ProductCD\n",
       "W    56878\n",
       "H    15521\n",
       "R    13724\n",
       "C    11351\n",
       "S     2526\n",
       "Name: count, dtype: int64"
      ]
     },
     "execution_count": 247,
     "metadata": {},
     "output_type": "execute_result"
    }
   ],
   "source": [
    "df_transaction[\"ProductCD\"].value_counts()"
   ]
  },
  {
   "cell_type": "code",
   "execution_count": 249,
   "id": "c08a5b7b",
   "metadata": {},
   "outputs": [
    {
     "data": {
      "text/plain": [
       "ProductCD  isFraud\n",
       "C          0          10354\n",
       "           1            997\n",
       "H          0          15214\n",
       "           1            307\n",
       "R          0          13576\n",
       "           1            148\n",
       "S          0           2467\n",
       "           1             59\n",
       "W          0          55828\n",
       "           1           1050\n",
       "Name: count, dtype: int64"
      ]
     },
     "execution_count": 249,
     "metadata": {},
     "output_type": "execute_result"
    }
   ],
   "source": [
    "\n",
    "df_transaction.groupby(\"ProductCD\")[\"isFraud\"].value_counts()"
   ]
  },
  {
   "cell_type": "code",
   "execution_count": 250,
   "id": "a85d7651",
   "metadata": {},
   "outputs": [
    {
     "data": {
      "text/plain": [
       "ProductCD  isFraud\n",
       "C          0          91.216633\n",
       "           1           8.783367\n",
       "H          0          98.022035\n",
       "           1           1.977965\n",
       "R          0          98.921597\n",
       "           1           1.078403\n",
       "S          0          97.664291\n",
       "           1           2.335709\n",
       "W          0          98.153944\n",
       "           1           1.846056\n",
       "Name: proportion, dtype: float64"
      ]
     },
     "execution_count": 250,
     "metadata": {},
     "output_type": "execute_result"
    }
   ],
   "source": [
    "df_transaction.groupby(\"ProductCD\")[\"isFraud\"].value_counts(normalize=True)*100"
   ]
  },
  {
   "cell_type": "code",
   "execution_count": null,
   "id": "97f1e7e6",
   "metadata": {},
   "outputs": [
    {
     "data": {
      "text/plain": [
       "ProductCD\n",
       "C    8.783367\n",
       "H    1.977965\n",
       "R    1.078403\n",
       "S    2.335709\n",
       "W    1.846056\n",
       "Name: proportion, dtype: float64"
      ]
     },
     "execution_count": 251,
     "metadata": {},
     "output_type": "execute_result"
    }
   ],
   "source": [
    "df_transaction.groupby(\"ProductCD\")[\"isFraud\"].value_counts(normalize=True).loc[:,1]*100"
   ]
  },
  {
   "cell_type": "code",
   "execution_count": 256,
   "id": "7e7434f1",
   "metadata": {},
   "outputs": [],
   "source": [
    "rate_by_product = df_transaction.groupby(\"ProductCD\")[\"isFraud\"].value_counts(normalize=True).loc[:,1]*100"
   ]
  },
  {
   "cell_type": "code",
   "execution_count": 262,
   "id": "8774b253",
   "metadata": {},
   "outputs": [
    {
     "data": {
      "image/png": "[encoded data removed]",
      "text/plain": [
       "<Figure size 1000x500 with 1 Axes>"
      ]
     },
     "metadata": {},
     "output_type": "display_data"
    }
   ],
   "source": [
    "plt.figure(figsize=(10,5))\n",
    "colors = ['blue', 'orange', 'green', 'red', 'purple']\n",
    "labels = ['C', 'H', 'R', 'S', 'W']\n",
    "\n",
    "plt.bar(labels, rate_by_product.values, color=colors)\n",
    "plt.axhline(y=2.56, color='red', linestyle='--', linewidth=2, label='Baseline (2.56%)')\n",
    "plt.title('Fraud Rate by Product Category', fontsize=14, fontweight='bold')\n",
    "plt.xlabel('Product Category', fontsize=12) \n",
    "plt.ylabel('Fraud Rate (%)', fontsize=12)\n",
    "plt.legend()\n",
    "plt.show()"
   ]
  },
  {
   "cell_type": "markdown",
   "id": "84aba46e",
   "metadata": {},
   "source": [
    "#### Average transaction amount by product"
   ]
  },
  {
   "cell_type": "code",
   "execution_count": 267,
   "id": "702b1075",
   "metadata": {},
   "outputs": [
    {
     "name": "stdout",
     "output_type": "stream",
     "text": [
      "           Mean_Amount  Median_Amount  Transaction_Count\n",
      "ProductCD                                               \n",
      "R           187.867969        150.000              13724\n",
      "W           152.594447         82.950              56878\n",
      "H            71.536757         50.000              15521\n",
      "S            58.191508         40.000               2526\n",
      "C            49.286792         36.379              11351\n"
     ]
    }
   ],
   "source": [
    "avg_amount_by_product = df_transaction.groupby('ProductCD')['TransactionAmt'].agg(['mean', 'median', 'count'])\n",
    "avg_amount_by_product.columns = ['Mean_Amount', 'Median_Amount', 'Transaction_Count']\n",
    "print(avg_amount_by_product.sort_values('Mean_Amount', ascending=False))"
   ]
  },
  {
   "cell_type": "code",
   "execution_count": 270,
   "id": "fbed1f51",
   "metadata": {},
   "outputs": [
    {
     "name": "stdout",
     "output_type": "stream",
     "text": [
      "Product C fraud rate by hour:\n",
      "hour\n",
      "14    18.025751\n",
      "8     15.254237\n",
      "11    14.285714\n",
      "12    12.500000\n",
      "6     12.328767\n",
      "10    11.111111\n",
      "7     10.924370\n",
      "5     10.714286\n",
      "19    10.695187\n",
      "18    10.582011\n",
      "Name: isFraud, dtype: float64\n"
     ]
    }
   ],
   "source": [
    "# Check if Product C fraud spikes during high-risk hours\n",
    "product_c_data = df_transaction[df_transaction['ProductCD'] == 'C']\n",
    "\n",
    "# Fraud rate by hour for Product C only\n",
    "fraud_by_hour_productC = product_c_data.groupby('hour')['isFraud'].mean() * 100\n",
    "\n",
    "print(\"Product C fraud rate by hour:\")\n",
    "print(fraud_by_hour_productC.sort_values(ascending=False).head(10))"
   ]
  },
  {
   "cell_type": "code",
   "execution_count": 374,
   "id": "43d3dfe5",
   "metadata": {},
   "outputs": [
    {
     "data": {
      "image/png": "[encoded data removed]",
      "text/plain": [
       "<Figure size 1000x600 with 1 Axes>"
      ]
     },
     "metadata": {},
     "output_type": "display_data"
    }
   ],
   "source": [
    "plt.figure(figsize=(10, 6))\n",
    "\n",
    "# Plot the line\n",
    "plt.plot(fraud_by_hour.index, fraud_by_hour.values, marker='o', linewidth=2, markersize=6, label='All Products')\n",
    "plt.plot(fraud_by_hour_productC.index, fraud_by_hour_productC.values, marker='o', linewidth=2, markersize=6, color='red', label='Product C')\n",
    "# Add horizontal line for baseline fraud rate\n",
    "plt.axhline(y=2.56, color='green', linestyle='--', linewidth=2, label='Baseline (2.56%)')\n",
    "plt.xticks(range(0, 24))\n",
    "plt.legend()\n",
    "plt.show()"
   ]
  },
  {
   "cell_type": "code",
   "execution_count": 275,
   "id": "5b2a7eaa",
   "metadata": {},
   "outputs": [
    {
     "name": "stdout",
     "output_type": "stream",
     "text": [
      "Product C transaction volume by hour:\n",
      "hour\n",
      "23    779\n",
      "1     778\n",
      "0     776\n",
      "17    763\n",
      "2     758\n",
      "18    756\n",
      "20    754\n",
      "19    748\n",
      "21    691\n",
      "4     670\n",
      "dtype: int64\n"
     ]
    }
   ],
   "source": [
    "# Count Product C transactions by hour\n",
    "product_c_volume = product_c_data.groupby('hour').size()\n",
    "\n",
    "print(\"Product C transaction volume by hour:\")\n",
    "print(product_c_volume.sort_values(ascending=False).head(10))"
   ]
  },
  {
   "cell_type": "code",
   "execution_count": 276,
   "id": "4ed77f14",
   "metadata": {},
   "outputs": [
    {
     "name": "stdout",
     "output_type": "stream",
     "text": [
      "      Transaction_Count  Fraud_Rate\n",
      "hour                               \n",
      "14                  233   18.025751\n",
      "8                    59   15.254237\n",
      "11                   42   14.285714\n",
      "12                   72   12.500000\n",
      "6                   219   12.328767\n",
      "10                   18   11.111111\n",
      "7                   119   10.924370\n",
      "5                   532   10.714286\n",
      "19                  748   10.695187\n",
      "18                  756   10.582011\n"
     ]
    }
   ],
   "source": [
    "# Create a comparison\n",
    "product_c_analysis = pd.DataFrame({\n",
    "    'Transaction_Count': product_c_data.groupby('hour').size(),\n",
    "    'Fraud_Rate': product_c_data.groupby('hour')['isFraud'].mean() * 100\n",
    "})\n",
    "\n",
    "# Sort by fraud rate to see pattern\n",
    "print(product_c_analysis.sort_values('Fraud_Rate', ascending=False).head(10))"
   ]
  },
  {
   "cell_type": "code",
   "execution_count": 279,
   "id": "f763861c",
   "metadata": {},
   "outputs": [
    {
     "name": "stdout",
     "output_type": "stream",
     "text": [
      "      Transaction_Count  Fraud_Rate\n",
      "hour                               \n",
      "23                  779    8.985879\n",
      "1                   778    5.655527\n",
      "0                   776    8.118557\n",
      "17                  763    7.994758\n",
      "2                   758    6.728232\n",
      "18                  756   10.582011\n",
      "20                  754    8.090186\n",
      "19                  748   10.695187\n",
      "21                  691    9.551375\n",
      "4                   670    9.104478\n"
     ]
    }
   ],
   "source": [
    "print(product_c_analysis.sort_values('Transaction_Count', ascending=False).head(10))"
   ]
  },
  {
   "cell_type": "markdown",
   "id": "a02d1bff",
   "metadata": {},
   "source": [
    "### Fraud Rate By Email Domain Analysis"
   ]
  },
  {
   "cell_type": "code",
   "execution_count": 286,
   "id": "8f066250",
   "metadata": {},
   "outputs": [
    {
     "data": {
      "text/plain": [
       "array([nan, 'gmail.com', 'outlook.com', 'yahoo.com', 'mail.com',\n",
       "       'anonymous.com', 'hotmail.com', 'verizon.net', 'aol.com', 'me.com',\n",
       "       'comcast.net', 'optonline.net', 'cox.net', 'charter.net',\n",
       "       'rocketmail.com', 'prodigy.net.mx', 'embarqmail.com', 'icloud.com',\n",
       "       'live.com.mx', 'gmail', 'live.com', 'att.net', 'juno.com',\n",
       "       'ymail.com', 'sbcglobal.net', 'bellsouth.net', 'msn.com', 'q.com',\n",
       "       'yahoo.com.mx', 'centurylink.net', 'servicios-ta.com',\n",
       "       'earthlink.net', 'hotmail.es', 'cfl.rr.com', 'roadrunner.com',\n",
       "       'netzero.net', 'gmx.de', 'suddenlink.net', 'frontiernet.net',\n",
       "       'windstream.net', 'frontier.com', 'outlook.es', 'mac.com',\n",
       "       'netzero.com', 'aim.com', 'web.de', 'twc.com', 'cableone.net',\n",
       "       'yahoo.fr', 'yahoo.de', 'yahoo.es', 'sc.rr.com', 'ptd.net',\n",
       "       'live.fr', 'yahoo.co.uk', 'hotmail.fr', 'hotmail.de',\n",
       "       'hotmail.co.uk', 'protonmail.com', 'yahoo.co.jp'], dtype=object)"
      ]
     },
     "execution_count": 286,
     "metadata": {},
     "output_type": "execute_result"
    }
   ],
   "source": [
    "df_transaction['P_emaildomain'].unique()"
   ]
  },
  {
   "cell_type": "code",
   "execution_count": 288,
   "id": "b48f1ac4",
   "metadata": {},
   "outputs": [
    {
     "data": {
      "text/plain": [
       "P_emaildomain\n",
       "gmail.com        36290\n",
       "yahoo.com        15883\n",
       "anonymous.com     8663\n",
       "hotmail.com       8119\n",
       "aol.com           4866\n",
       "comcast.net       1856\n",
       "icloud.com         894\n",
       "msn.com            852\n",
       "outlook.com        767\n",
       "att.net            694\n",
       "Name: count, dtype: int64"
      ]
     },
     "execution_count": 288,
     "metadata": {},
     "output_type": "execute_result"
    }
   ],
   "source": [
    "df_transaction['P_emaildomain'].value_counts().head(10)"
   ]
  },
  {
   "cell_type": "code",
   "execution_count": 291,
   "id": "a3c5caa4",
   "metadata": {},
   "outputs": [
    {
     "data": {
      "text/plain": [
       "np.int64(15393)"
      ]
     },
     "execution_count": 291,
     "metadata": {},
     "output_type": "execute_result"
    }
   ],
   "source": [
    "df_transaction['P_emaildomain'].isna().sum()"
   ]
  },
  {
   "cell_type": "code",
   "execution_count": 292,
   "id": "b9544587",
   "metadata": {},
   "outputs": [
    {
     "data": {
      "text/plain": [
       "Index(['gmail.com', 'yahoo.com', 'anonymous.com', 'hotmail.com', 'aol.com',\n",
       "       'comcast.net', 'icloud.com', 'msn.com', 'outlook.com', 'att.net',\n",
       "       'sbcglobal.net', 'verizon.net', 'live.com', 'bellsouth.net', 'cox.net'],\n",
       "      dtype='object', name='P_emaildomain')"
      ]
     },
     "execution_count": 292,
     "metadata": {},
     "output_type": "execute_result"
    }
   ],
   "source": [
    "df_transaction['P_emaildomain'].value_counts().head(15).index"
   ]
  },
  {
   "cell_type": "markdown",
   "id": "287e7b86",
   "metadata": {},
   "source": [
    "#### Calculating Fraud Rate for the Top 15 Email Domain"
   ]
  },
  {
   "cell_type": "code",
   "execution_count": 294,
   "id": "ee43de9f",
   "metadata": {},
   "outputs": [],
   "source": [
    "p_email_counts = df_transaction['P_emaildomain'].value_counts().head(10)\n",
    "p_email_missing = df_transaction['P_emaildomain'].isna().sum()"
   ]
  },
  {
   "cell_type": "code",
   "execution_count": 327,
   "id": "bba3e023",
   "metadata": {},
   "outputs": [
    {
     "data": {
      "text/plain": [
       "P_emaildomain\n",
       "gmail.com        36290\n",
       "yahoo.com        15883\n",
       "anonymous.com     8663\n",
       "hotmail.com       8119\n",
       "aol.com           4866\n",
       "comcast.net       1856\n",
       "icloud.com         894\n",
       "msn.com            852\n",
       "outlook.com        767\n",
       "att.net            694\n",
       "Name: count, dtype: int64"
      ]
     },
     "execution_count": 327,
     "metadata": {},
     "output_type": "execute_result"
    }
   ],
   "source": [
    "p_email_counts"
   ]
  },
  {
   "cell_type": "code",
   "execution_count": 302,
   "id": "ecc27f90",
   "metadata": {},
   "outputs": [],
   "source": [
    "top_domains = df_transaction['P_emaildomain'].value_counts().head(10).index"
   ]
  },
  {
   "cell_type": "code",
   "execution_count": 303,
   "id": "c28111f3",
   "metadata": {},
   "outputs": [],
   "source": [
    "df_top_domains = df_transaction[df_transaction['P_emaildomain'].isin(top_domains)]"
   ]
  },
  {
   "cell_type": "code",
   "execution_count": 310,
   "id": "e9370c51",
   "metadata": {},
   "outputs": [
    {
     "data": {
      "text/html": [
       "<div>\n",
       "<style scoped>\n",
       "    .dataframe tbody tr th:only-of-type {\n",
       "        vertical-align: middle;\n",
       "    }\n",
       "\n",
       "    .dataframe tbody tr th {\n",
       "        vertical-align: top;\n",
       "    }\n",
       "\n",
       "    .dataframe thead th {\n",
       "        text-align: right;\n",
       "    }\n",
       "</style>\n",
       "<table border=\"1\" class=\"dataframe\">\n",
       "  <thead>\n",
       "    <tr style=\"text-align: right;\">\n",
       "      <th></th>\n",
       "      <th>TransactionID</th>\n",
       "      <th>isFraud</th>\n",
       "      <th>TransactionDT</th>\n",
       "      <th>TransactionAmt</th>\n",
       "      <th>ProductCD</th>\n",
       "      <th>card1</th>\n",
       "      <th>card2</th>\n",
       "      <th>card3</th>\n",
       "      <th>card4</th>\n",
       "      <th>card5</th>\n",
       "      <th>...</th>\n",
       "      <th>transaction_range</th>\n",
       "      <th>datetime</th>\n",
       "      <th>hour</th>\n",
       "      <th>day_of_week</th>\n",
       "      <th>is_weekend</th>\n",
       "      <th>hour_risk_score</th>\n",
       "      <th>day_risk_score</th>\n",
       "      <th>temporal_risk_score</th>\n",
       "      <th>temporal_risk_category</th>\n",
       "      <th>D7_is_missing</th>\n",
       "    </tr>\n",
       "  </thead>\n",
       "  <tbody>\n",
       "    <tr>\n",
       "      <th>1</th>\n",
       "      <td>2987001</td>\n",
       "      <td>0</td>\n",
       "      <td>86401</td>\n",
       "      <td>29.0</td>\n",
       "      <td>W</td>\n",
       "      <td>2755</td>\n",
       "      <td>404.0</td>\n",
       "      <td>150.0</td>\n",
       "      <td>mastercard</td>\n",
       "      <td>102.0</td>\n",
       "      <td>...</td>\n",
       "      <td>Low-value($0-$50:)</td>\n",
       "      <td>2017-12-02 00:00:01</td>\n",
       "      <td>0</td>\n",
       "      <td>5</td>\n",
       "      <td>True</td>\n",
       "      <td>2.434864</td>\n",
       "      <td>2.356357</td>\n",
       "      <td>2.39561</td>\n",
       "      <td>medium</td>\n",
       "      <td>1</td>\n",
       "    </tr>\n",
       "    <tr>\n",
       "      <th>2</th>\n",
       "      <td>2987002</td>\n",
       "      <td>0</td>\n",
       "      <td>86469</td>\n",
       "      <td>59.0</td>\n",
       "      <td>W</td>\n",
       "      <td>4663</td>\n",
       "      <td>490.0</td>\n",
       "      <td>150.0</td>\n",
       "      <td>visa</td>\n",
       "      <td>166.0</td>\n",
       "      <td>...</td>\n",
       "      <td>Medium-value($50-$100)</td>\n",
       "      <td>2017-12-02 00:01:09</td>\n",
       "      <td>0</td>\n",
       "      <td>5</td>\n",
       "      <td>True</td>\n",
       "      <td>2.434864</td>\n",
       "      <td>2.356357</td>\n",
       "      <td>2.39561</td>\n",
       "      <td>medium</td>\n",
       "      <td>1</td>\n",
       "    </tr>\n",
       "    <tr>\n",
       "      <th>3</th>\n",
       "      <td>2987003</td>\n",
       "      <td>0</td>\n",
       "      <td>86499</td>\n",
       "      <td>50.0</td>\n",
       "      <td>W</td>\n",
       "      <td>18132</td>\n",
       "      <td>567.0</td>\n",
       "      <td>150.0</td>\n",
       "      <td>mastercard</td>\n",
       "      <td>117.0</td>\n",
       "      <td>...</td>\n",
       "      <td>Low-value($0-$50:)</td>\n",
       "      <td>2017-12-02 00:01:39</td>\n",
       "      <td>0</td>\n",
       "      <td>5</td>\n",
       "      <td>True</td>\n",
       "      <td>2.434864</td>\n",
       "      <td>2.356357</td>\n",
       "      <td>2.39561</td>\n",
       "      <td>medium</td>\n",
       "      <td>1</td>\n",
       "    </tr>\n",
       "    <tr>\n",
       "      <th>4</th>\n",
       "      <td>2987004</td>\n",
       "      <td>0</td>\n",
       "      <td>86506</td>\n",
       "      <td>50.0</td>\n",
       "      <td>H</td>\n",
       "      <td>4497</td>\n",
       "      <td>514.0</td>\n",
       "      <td>150.0</td>\n",
       "      <td>mastercard</td>\n",
       "      <td>102.0</td>\n",
       "      <td>...</td>\n",
       "      <td>Low-value($0-$50:)</td>\n",
       "      <td>2017-12-02 00:01:46</td>\n",
       "      <td>0</td>\n",
       "      <td>5</td>\n",
       "      <td>True</td>\n",
       "      <td>2.434864</td>\n",
       "      <td>2.356357</td>\n",
       "      <td>2.39561</td>\n",
       "      <td>medium</td>\n",
       "      <td>1</td>\n",
       "    </tr>\n",
       "    <tr>\n",
       "      <th>5</th>\n",
       "      <td>2987005</td>\n",
       "      <td>0</td>\n",
       "      <td>86510</td>\n",
       "      <td>49.0</td>\n",
       "      <td>W</td>\n",
       "      <td>5937</td>\n",
       "      <td>555.0</td>\n",
       "      <td>150.0</td>\n",
       "      <td>visa</td>\n",
       "      <td>226.0</td>\n",
       "      <td>...</td>\n",
       "      <td>Low-value($0-$50:)</td>\n",
       "      <td>2017-12-02 00:01:50</td>\n",
       "      <td>0</td>\n",
       "      <td>5</td>\n",
       "      <td>True</td>\n",
       "      <td>2.434864</td>\n",
       "      <td>2.356357</td>\n",
       "      <td>2.39561</td>\n",
       "      <td>medium</td>\n",
       "      <td>1</td>\n",
       "    </tr>\n",
       "  </tbody>\n",
       "</table>\n",
       "<p>5 rows × 404 columns</p>\n",
       "</div>"
      ],
      "text/plain": [
       "   TransactionID  isFraud  TransactionDT  TransactionAmt ProductCD  card1  \\\n",
       "1        2987001        0          86401            29.0         W   2755   \n",
       "2        2987002        0          86469            59.0         W   4663   \n",
       "3        2987003        0          86499            50.0         W  18132   \n",
       "4        2987004        0          86506            50.0         H   4497   \n",
       "5        2987005        0          86510            49.0         W   5937   \n",
       "\n",
       "   card2  card3       card4  card5  ...       transaction_range  \\\n",
       "1  404.0  150.0  mastercard  102.0  ...      Low-value($0-$50:)   \n",
       "2  490.0  150.0        visa  166.0  ...  Medium-value($50-$100)   \n",
       "3  567.0  150.0  mastercard  117.0  ...      Low-value($0-$50:)   \n",
       "4  514.0  150.0  mastercard  102.0  ...      Low-value($0-$50:)   \n",
       "5  555.0  150.0        visa  226.0  ...      Low-value($0-$50:)   \n",
       "\n",
       "             datetime  hour  day_of_week  is_weekend hour_risk_score  \\\n",
       "1 2017-12-02 00:00:01     0            5        True        2.434864   \n",
       "2 2017-12-02 00:01:09     0            5        True        2.434864   \n",
       "3 2017-12-02 00:01:39     0            5        True        2.434864   \n",
       "4 2017-12-02 00:01:46     0            5        True        2.434864   \n",
       "5 2017-12-02 00:01:50     0            5        True        2.434864   \n",
       "\n",
       "  day_risk_score  temporal_risk_score  temporal_risk_category  D7_is_missing  \n",
       "1       2.356357              2.39561                  medium              1  \n",
       "2       2.356357              2.39561                  medium              1  \n",
       "3       2.356357              2.39561                  medium              1  \n",
       "4       2.356357              2.39561                  medium              1  \n",
       "5       2.356357              2.39561                  medium              1  \n",
       "\n",
       "[5 rows x 404 columns]"
      ]
     },
     "execution_count": 310,
     "metadata": {},
     "output_type": "execute_result"
    }
   ],
   "source": [
    "df_top_domains.head(5)"
   ]
  },
  {
   "cell_type": "code",
   "execution_count": 304,
   "id": "e96c53ce",
   "metadata": {},
   "outputs": [],
   "source": [
    "fraud_by_email = df_top_domains.groupby('P_emaildomain')['isFraud'].agg(['mean', 'count'])"
   ]
  },
  {
   "cell_type": "code",
   "execution_count": 305,
   "id": "72ab39de",
   "metadata": {},
   "outputs": [],
   "source": [
    "fraud_by_email.columns = ['Fraud_Rate', 'Count']"
   ]
  },
  {
   "cell_type": "code",
   "execution_count": 306,
   "id": "b4219ac9",
   "metadata": {},
   "outputs": [],
   "source": [
    "fraud_by_email['Fraud_Rate'] = fraud_by_email['Fraud_Rate'] * 100"
   ]
  },
  {
   "cell_type": "code",
   "execution_count": 307,
   "id": "11053905",
   "metadata": {},
   "outputs": [],
   "source": [
    "fraud_by_email = fraud_by_email.sort_values('Fraud_Rate', ascending=False)"
   ]
  },
  {
   "cell_type": "code",
   "execution_count": 308,
   "id": "6f84ffc3",
   "metadata": {},
   "outputs": [
    {
     "data": {
      "text/html": [
       "<div>\n",
       "<style scoped>\n",
       "    .dataframe tbody tr th:only-of-type {\n",
       "        vertical-align: middle;\n",
       "    }\n",
       "\n",
       "    .dataframe tbody tr th {\n",
       "        vertical-align: top;\n",
       "    }\n",
       "\n",
       "    .dataframe thead th {\n",
       "        text-align: right;\n",
       "    }\n",
       "</style>\n",
       "<table border=\"1\" class=\"dataframe\">\n",
       "  <thead>\n",
       "    <tr style=\"text-align: right;\">\n",
       "      <th></th>\n",
       "      <th>Fraud_Rate</th>\n",
       "      <th>Count</th>\n",
       "    </tr>\n",
       "    <tr>\n",
       "      <th>P_emaildomain</th>\n",
       "      <th></th>\n",
       "      <th></th>\n",
       "    </tr>\n",
       "  </thead>\n",
       "  <tbody>\n",
       "    <tr>\n",
       "      <th>outlook.com</th>\n",
       "      <td>6.910039</td>\n",
       "      <td>767</td>\n",
       "    </tr>\n",
       "    <tr>\n",
       "      <th>hotmail.com</th>\n",
       "      <td>4.631112</td>\n",
       "      <td>8119</td>\n",
       "    </tr>\n",
       "    <tr>\n",
       "      <th>icloud.com</th>\n",
       "      <td>3.579418</td>\n",
       "      <td>894</td>\n",
       "    </tr>\n",
       "    <tr>\n",
       "      <th>gmail.com</th>\n",
       "      <td>3.521631</td>\n",
       "      <td>36290</td>\n",
       "    </tr>\n",
       "    <tr>\n",
       "      <th>msn.com</th>\n",
       "      <td>1.643192</td>\n",
       "      <td>852</td>\n",
       "    </tr>\n",
       "    <tr>\n",
       "      <th>aol.com</th>\n",
       "      <td>1.418002</td>\n",
       "      <td>4866</td>\n",
       "    </tr>\n",
       "    <tr>\n",
       "      <th>yahoo.com</th>\n",
       "      <td>1.347353</td>\n",
       "      <td>15883</td>\n",
       "    </tr>\n",
       "    <tr>\n",
       "      <th>anonymous.com</th>\n",
       "      <td>1.050444</td>\n",
       "      <td>8663</td>\n",
       "    </tr>\n",
       "    <tr>\n",
       "      <th>att.net</th>\n",
       "      <td>0.864553</td>\n",
       "      <td>694</td>\n",
       "    </tr>\n",
       "    <tr>\n",
       "      <th>comcast.net</th>\n",
       "      <td>0.862069</td>\n",
       "      <td>1856</td>\n",
       "    </tr>\n",
       "  </tbody>\n",
       "</table>\n",
       "</div>"
      ],
      "text/plain": [
       "               Fraud_Rate  Count\n",
       "P_emaildomain                   \n",
       "outlook.com      6.910039    767\n",
       "hotmail.com      4.631112   8119\n",
       "icloud.com       3.579418    894\n",
       "gmail.com        3.521631  36290\n",
       "msn.com          1.643192    852\n",
       "aol.com          1.418002   4866\n",
       "yahoo.com        1.347353  15883\n",
       "anonymous.com    1.050444   8663\n",
       "att.net          0.864553    694\n",
       "comcast.net      0.862069   1856"
      ]
     },
     "execution_count": 308,
     "metadata": {},
     "output_type": "execute_result"
    }
   ],
   "source": [
    "fraud_by_email "
   ]
  },
  {
   "cell_type": "code",
   "execution_count": 423,
   "id": "ca1e5faa",
   "metadata": {},
   "outputs": [
    {
     "data": {
      "image/png": "[encoded data removed]",
      "text/plain": [
       "<Figure size 1000x500 with 1 Axes>"
      ]
     },
     "metadata": {},
     "output_type": "display_data"
    }
   ],
   "source": [
    "plt.figure(figsize=(10,5))\n",
    "colors = sns.color_palette(\"deep\", len(fraud_by_email.index))\n",
    "plt.barh(fraud_by_email.index, fraud_by_email['Fraud_Rate'], color = colors)\n",
    "plt.title('Fraud Rate by Top P_emaildomain', fontsize=14, fontweight='bold')\n",
    "plt.xlabel('Fraud Rate (%)', fontsize=12)\n",
    "plt.tight_layout()\n",
    "plt.show()"
   ]
  },
  {
   "cell_type": "code",
   "execution_count": 325,
   "id": "1380da82",
   "metadata": {},
   "outputs": [],
   "source": [
    "missing_email_fraud = df_transaction[df_transaction['P_emaildomain'].isna()]['isFraud'].mean() * 100"
   ]
  },
  {
   "cell_type": "code",
   "execution_count": 326,
   "id": "eb895e20",
   "metadata": {},
   "outputs": [
    {
     "data": {
      "text/plain": [
       "np.float64(2.312739556941467)"
      ]
     },
     "execution_count": 326,
     "metadata": {},
     "output_type": "execute_result"
    }
   ],
   "source": [
    "missing_email_fraud"
   ]
  },
  {
   "cell_type": "code",
   "execution_count": 328,
   "id": "f17f621a",
   "metadata": {},
   "outputs": [],
   "source": [
    "# Check R_emaildomain\n",
    "r_email_counts = df_transaction['R_emaildomain'].value_counts().head(10)\n",
    "r_email_missing = df_transaction['R_emaildomain'].isna().sum()"
   ]
  },
  {
   "cell_type": "code",
   "execution_count": 335,
   "id": "f8f0bc2d",
   "metadata": {},
   "outputs": [
    {
     "name": "stdout",
     "output_type": "stream",
     "text": [
      "R_emaildomain\n",
      "gmail.com        13024\n",
      "anonymous.com     6954\n",
      "hotmail.com       5422\n",
      "yahoo.com         3222\n",
      "aol.com           1327\n",
      "comcast.net        783\n",
      "outlook.com        438\n",
      "icloud.com         318\n",
      "msn.com            308\n",
      "yahoo.com.mx       291\n",
      "Name: count, dtype: int64\n",
      "\n",
      "Missing Receiver Domain: 65454\n"
     ]
    }
   ],
   "source": [
    "print(r_email_counts)\n",
    "print(f\"\\nMissing Receiver Domain: {r_email_missing}\")"
   ]
  },
  {
   "cell_type": "code",
   "execution_count": 337,
   "id": "8cfb0cda",
   "metadata": {},
   "outputs": [],
   "source": [
    "top_r_domains = df_transaction['R_emaildomain'].value_counts().head(10).index\n",
    "df_top_r_domains = df_transaction[df_transaction['R_emaildomain'].isin(top_r_domains)]\n"
   ]
  },
  {
   "cell_type": "code",
   "execution_count": 342,
   "id": "911cba32",
   "metadata": {},
   "outputs": [],
   "source": [
    "top_r_domains_fraud = df_top_r_domains.groupby('R_emaildomain')['isFraud'].agg(['mean', 'count'])\n",
    "top_r_domains_fraud.columns = [\"fraud_rate\", \"count\"]\n",
    "top_r_domains_fraud['fraud_rate'] = top_r_domains_fraud['fraud_rate'] * 100\n",
    "top_r_domains_fraud = top_r_domains_fraud.sort_values('fraud_rate', ascending=False)"
   ]
  },
  {
   "cell_type": "code",
   "execution_count": 343,
   "id": "fd352b8c",
   "metadata": {},
   "outputs": [
    {
     "data": {
      "text/html": [
       "<div>\n",
       "<style scoped>\n",
       "    .dataframe tbody tr th:only-of-type {\n",
       "        vertical-align: middle;\n",
       "    }\n",
       "\n",
       "    .dataframe tbody tr th {\n",
       "        vertical-align: top;\n",
       "    }\n",
       "\n",
       "    .dataframe thead th {\n",
       "        text-align: right;\n",
       "    }\n",
       "</style>\n",
       "<table border=\"1\" class=\"dataframe\">\n",
       "  <thead>\n",
       "    <tr style=\"text-align: right;\">\n",
       "      <th></th>\n",
       "      <th>fraud_rate</th>\n",
       "      <th>count</th>\n",
       "    </tr>\n",
       "    <tr>\n",
       "      <th>R_emaildomain</th>\n",
       "      <th></th>\n",
       "      <th></th>\n",
       "    </tr>\n",
       "  </thead>\n",
       "  <tbody>\n",
       "    <tr>\n",
       "      <th>outlook.com</th>\n",
       "      <td>10.502283</td>\n",
       "      <td>438</td>\n",
       "    </tr>\n",
       "    <tr>\n",
       "      <th>gmail.com</th>\n",
       "      <td>6.349816</td>\n",
       "      <td>13024</td>\n",
       "    </tr>\n",
       "    <tr>\n",
       "      <th>hotmail.com</th>\n",
       "      <td>6.270749</td>\n",
       "      <td>5422</td>\n",
       "    </tr>\n",
       "    <tr>\n",
       "      <th>icloud.com</th>\n",
       "      <td>4.402516</td>\n",
       "      <td>318</td>\n",
       "    </tr>\n",
       "    <tr>\n",
       "      <th>yahoo.com</th>\n",
       "      <td>2.917443</td>\n",
       "      <td>3222</td>\n",
       "    </tr>\n",
       "    <tr>\n",
       "      <th>comcast.net</th>\n",
       "      <td>1.404853</td>\n",
       "      <td>783</td>\n",
       "    </tr>\n",
       "    <tr>\n",
       "      <th>anonymous.com</th>\n",
       "      <td>0.949094</td>\n",
       "      <td>6954</td>\n",
       "    </tr>\n",
       "    <tr>\n",
       "      <th>aol.com</th>\n",
       "      <td>0.904295</td>\n",
       "      <td>1327</td>\n",
       "    </tr>\n",
       "    <tr>\n",
       "      <th>yahoo.com.mx</th>\n",
       "      <td>0.687285</td>\n",
       "      <td>291</td>\n",
       "    </tr>\n",
       "    <tr>\n",
       "      <th>msn.com</th>\n",
       "      <td>0.324675</td>\n",
       "      <td>308</td>\n",
       "    </tr>\n",
       "  </tbody>\n",
       "</table>\n",
       "</div>"
      ],
      "text/plain": [
       "               fraud_rate  count\n",
       "R_emaildomain                   \n",
       "outlook.com     10.502283    438\n",
       "gmail.com        6.349816  13024\n",
       "hotmail.com      6.270749   5422\n",
       "icloud.com       4.402516    318\n",
       "yahoo.com        2.917443   3222\n",
       "comcast.net      1.404853    783\n",
       "anonymous.com    0.949094   6954\n",
       "aol.com          0.904295   1327\n",
       "yahoo.com.mx     0.687285    291\n",
       "msn.com          0.324675    308"
      ]
     },
     "execution_count": 343,
     "metadata": {},
     "output_type": "execute_result"
    }
   ],
   "source": [
    "top_r_domains_fraud"
   ]
  },
  {
   "cell_type": "code",
   "execution_count": 422,
   "id": "2cfc4d1c",
   "metadata": {},
   "outputs": [
    {
     "data": {
      "image/png": "[encoded data removed]",
      "text/plain": [
       "<Figure size 1000x500 with 1 Axes>"
      ]
     },
     "metadata": {},
     "output_type": "display_data"
    }
   ],
   "source": [
    "plt.figure(figsize=(10,5))\n",
    "colors = sns.color_palette(\"pastel\", len(top_r_domains_fraud.index))\n",
    "plt.barh(top_r_domains_fraud.index, top_r_domains_fraud['fraud_rate'], color = colors)\n",
    "plt.title('Fraud Rate by Top R_emaildomain', fontsize=14, fontweight='bold')\n",
    "plt.xlabel('Fraud Rate (%)', fontsize=12)\n",
    "plt.show()"
   ]
  },
  {
   "cell_type": "code",
   "execution_count": 344,
   "id": "a7917ae4",
   "metadata": {},
   "outputs": [],
   "source": [
    "r_email_missing_fraud = df_transaction[df_transaction['R_emaildomain'].isna()]['isFraud'].mean() * 100"
   ]
  },
  {
   "cell_type": "code",
   "execution_count": 345,
   "id": "b6c1aeb0",
   "metadata": {},
   "outputs": [
    {
     "data": {
      "text/plain": [
       "np.float64(1.7279310660922174)"
      ]
     },
     "execution_count": 345,
     "metadata": {},
     "output_type": "execute_result"
    }
   ],
   "source": [
    "r_email_missing_fraud"
   ]
  },
  {
   "cell_type": "code",
   "execution_count": 346,
   "id": "2e3ea16f",
   "metadata": {},
   "outputs": [],
   "source": [
    "# Check fraud rate when P and R email are DIFFERENT vs SAME\n",
    "df_transaction['email_match'] = df_transaction['P_emaildomain'] == df_transaction['R_emaildomain']\n"
   ]
  },
  {
   "cell_type": "code",
   "execution_count": 347,
   "id": "233c9264",
   "metadata": {},
   "outputs": [
    {
     "data": {
      "text/plain": [
       "0        False\n",
       "1        False\n",
       "2        False\n",
       "3        False\n",
       "4        False\n",
       "         ...  \n",
       "99995     True\n",
       "99996    False\n",
       "99997    False\n",
       "99998     True\n",
       "99999    False\n",
       "Name: email_match, Length: 100000, dtype: bool"
      ]
     },
     "execution_count": 347,
     "metadata": {},
     "output_type": "execute_result"
    }
   ],
   "source": [
    "df_transaction['email_match']"
   ]
  },
  {
   "cell_type": "code",
   "execution_count": 362,
   "id": "b832cc7b",
   "metadata": {},
   "outputs": [
    {
     "data": {
      "text/plain": [
       "email_match\n",
       "False    74868\n",
       "True     25132\n",
       "Name: count, dtype: int64"
      ]
     },
     "execution_count": 362,
     "metadata": {},
     "output_type": "execute_result"
    }
   ],
   "source": [
    "df_transaction['email_match'].value_counts()"
   ]
  },
  {
   "cell_type": "code",
   "execution_count": 367,
   "id": "20c9bbc7",
   "metadata": {},
   "outputs": [
    {
     "data": {
      "text/plain": [
       "email_match  isFraud\n",
       "False        0          98.315702\n",
       "             1           1.684298\n",
       "True         0          94.827312\n",
       "             1           5.172688\n",
       "Name: proportion, dtype: float64"
      ]
     },
     "execution_count": 367,
     "metadata": {},
     "output_type": "execute_result"
    }
   ],
   "source": [
    "df_transaction.groupby('email_match')['isFraud'].value_counts(normalize=True)* 100"
   ]
  },
  {
   "cell_type": "code",
   "execution_count": 357,
   "id": "4a56bcf4",
   "metadata": {},
   "outputs": [],
   "source": [
    "email_match_fraud = df_transaction.groupby('email_match')['isFraud'].agg(['mean', 'count'])\n",
    "email_match_fraud.columns = ['Fraud_Rate', 'Count']\n",
    "email_match_fraud['Fraud_Rate'] = email_match_fraud['Fraud_Rate'] * 100\n",
    "email_match_fraud = email_match_fraud.sort_values('Fraud_Rate', ascending=False)\n"
   ]
  },
  {
   "cell_type": "code",
   "execution_count": 358,
   "id": "01d4499f",
   "metadata": {},
   "outputs": [
    {
     "data": {
      "text/html": [
       "<div>\n",
       "<style scoped>\n",
       "    .dataframe tbody tr th:only-of-type {\n",
       "        vertical-align: middle;\n",
       "    }\n",
       "\n",
       "    .dataframe tbody tr th {\n",
       "        vertical-align: top;\n",
       "    }\n",
       "\n",
       "    .dataframe thead th {\n",
       "        text-align: right;\n",
       "    }\n",
       "</style>\n",
       "<table border=\"1\" class=\"dataframe\">\n",
       "  <thead>\n",
       "    <tr style=\"text-align: right;\">\n",
       "      <th></th>\n",
       "      <th>Fraud_Rate</th>\n",
       "      <th>Count</th>\n",
       "    </tr>\n",
       "    <tr>\n",
       "      <th>email_match</th>\n",
       "      <th></th>\n",
       "      <th></th>\n",
       "    </tr>\n",
       "  </thead>\n",
       "  <tbody>\n",
       "    <tr>\n",
       "      <th>True</th>\n",
       "      <td>5.172688</td>\n",
       "      <td>25132</td>\n",
       "    </tr>\n",
       "    <tr>\n",
       "      <th>False</th>\n",
       "      <td>1.684298</td>\n",
       "      <td>74868</td>\n",
       "    </tr>\n",
       "  </tbody>\n",
       "</table>\n",
       "</div>"
      ],
      "text/plain": [
       "             Fraud_Rate  Count\n",
       "email_match                   \n",
       "True           5.172688  25132\n",
       "False          1.684298  74868"
      ]
     },
     "execution_count": 358,
     "metadata": {},
     "output_type": "execute_result"
    }
   ],
   "source": [
    "email_match_fraud"
   ]
  },
  {
   "cell_type": "code",
   "execution_count": 371,
   "id": "2b63e3e1",
   "metadata": {},
   "outputs": [
    {
     "data": {
      "image/png": "[encoded data removed]",
      "text/plain": [
       "<Figure size 800x500 with 1 Axes>"
      ]
     },
     "metadata": {},
     "output_type": "display_data"
    }
   ],
   "source": [
    "plt.figure(figsize=(8,5))\n",
    "labels = ['Emails Match', 'Emails Different']\n",
    "plt.bar(labels, email_match_fraud['Fraud_Rate'], color = [\"blue\", \"orange\"])\n",
    "plt.axhline(y=2.56, color='green', linestyle='--', linewidth=2, label='Baseline (2.56%)')\n",
    "plt.title('Fraud Rate by Email Match Status', fontsize=14, fontweight='bold')\n",
    "plt.xlabel('Fraud Rate (%)', fontsize=12)\n",
    "plt.legend()\n",
    "plt.show()"
   ]
  },
  {
   "cell_type": "markdown",
   "id": "b6b84594",
   "metadata": {},
   "source": [
    "## Card Information Analysis"
   ]
  },
  {
   "cell_type": "code",
   "execution_count": 391,
   "id": "637e5515",
   "metadata": {},
   "outputs": [],
   "source": [
    "card_df_transactions = df_transaction.loc[:, df_transaction.columns.str.startswith('card')]"
   ]
  },
  {
   "cell_type": "code",
   "execution_count": 392,
   "id": "6b782161",
   "metadata": {},
   "outputs": [
    {
     "data": {
      "text/plain": [
       "['card1', 'card2', 'card3', 'card4', 'card5', 'card6']"
      ]
     },
     "execution_count": 392,
     "metadata": {},
     "output_type": "execute_result"
    }
   ],
   "source": [
    "card_df_transactions.columns.to_list()"
   ]
  },
  {
   "cell_type": "code",
   "execution_count": 393,
   "id": "f96f6bdf",
   "metadata": {},
   "outputs": [
    {
     "name": "stdout",
     "output_type": "stream",
     "text": [
      "<class 'pandas.core.frame.DataFrame'>\n",
      "RangeIndex: 100000 entries, 0 to 99999\n",
      "Data columns (total 6 columns):\n",
      " #   Column  Non-Null Count   Dtype  \n",
      "---  ------  --------------   -----  \n",
      " 0   card1   100000 non-null  int64  \n",
      " 1   card2   98646 non-null   float64\n",
      " 2   card3   99997 non-null   float64\n",
      " 3   card4   99993 non-null   object \n",
      " 4   card5   99475 non-null   float64\n",
      " 5   card6   99996 non-null   object \n",
      "dtypes: float64(3), int64(1), object(2)\n",
      "memory usage: 4.6+ MB\n"
     ]
    }
   ],
   "source": [
    "card_df_transactions.info()"
   ]
  },
  {
   "cell_type": "code",
   "execution_count": 396,
   "id": "993c5749",
   "metadata": {},
   "outputs": [
    {
     "data": {
      "text/plain": [
       "100000"
      ]
     },
     "execution_count": 396,
     "metadata": {},
     "output_type": "execute_result"
    }
   ],
   "source": [
    "len(df_transaction[\"card4\"])"
   ]
  },
  {
   "cell_type": "code",
   "execution_count": 397,
   "id": "3114d160",
   "metadata": {},
   "outputs": [
    {
     "data": {
      "text/plain": [
       "100000"
      ]
     },
     "execution_count": 397,
     "metadata": {},
     "output_type": "execute_result"
    }
   ],
   "source": [
    "len(df_transaction[\"card6\"])"
   ]
  },
  {
   "cell_type": "code",
   "execution_count": 403,
   "id": "d2c870d9",
   "metadata": {},
   "outputs": [
    {
     "data": {
      "text/plain": [
       "np.int64(7)"
      ]
     },
     "execution_count": 403,
     "metadata": {},
     "output_type": "execute_result"
    }
   ],
   "source": [
    "df_transaction[\"card4\"].isna().sum()"
   ]
  },
  {
   "cell_type": "code",
   "execution_count": null,
   "id": "5395563f",
   "metadata": {},
   "outputs": [
    {
     "data": {
      "text/plain": [
       "np.int64(4)"
      ]
     },
     "execution_count": 399,
     "metadata": {},
     "output_type": "execute_result"
    }
   ],
   "source": [
    "df_transaction[\"card6\"].isna().sum()"
   ]
  },
  {
   "cell_type": "code",
   "execution_count": 394,
   "id": "49476252",
   "metadata": {},
   "outputs": [
    {
     "data": {
      "text/plain": [
       "array(['discover', 'mastercard', 'visa', 'american express', nan],\n",
       "      dtype=object)"
      ]
     },
     "execution_count": 394,
     "metadata": {},
     "output_type": "execute_result"
    }
   ],
   "source": [
    "df_transaction['card4'].unique()"
   ]
  },
  {
   "cell_type": "code",
   "execution_count": 395,
   "id": "de1505fb",
   "metadata": {},
   "outputs": [
    {
     "data": {
      "text/plain": [
       "array(['credit', 'debit', nan, 'debit or credit', 'charge card'],\n",
       "      dtype=object)"
      ]
     },
     "execution_count": 395,
     "metadata": {},
     "output_type": "execute_result"
    }
   ],
   "source": [
    "df_transaction['card6'].unique()"
   ]
  },
  {
   "cell_type": "code",
   "execution_count": 401,
   "id": "c4212425",
   "metadata": {},
   "outputs": [
    {
     "data": {
      "text/plain": [
       "card4\n",
       "visa                65602\n",
       "mastercard          29599\n",
       "american express     3330\n",
       "discover             1462\n",
       "Name: count, dtype: int64"
      ]
     },
     "execution_count": 401,
     "metadata": {},
     "output_type": "execute_result"
    }
   ],
   "source": [
    "df_transaction['card4'].value_counts()\n"
   ]
  },
  {
   "cell_type": "code",
   "execution_count": 402,
   "id": "7cc63b04",
   "metadata": {},
   "outputs": [
    {
     "data": {
      "text/plain": [
       "card6\n",
       "debit              64923\n",
       "credit             35063\n",
       "debit or credit        7\n",
       "charge card            3\n",
       "Name: count, dtype: int64"
      ]
     },
     "execution_count": 402,
     "metadata": {},
     "output_type": "execute_result"
    }
   ],
   "source": [
    "df_transaction['card6'].value_counts()"
   ]
  },
  {
   "cell_type": "code",
   "execution_count": 400,
   "id": "9eab7152",
   "metadata": {},
   "outputs": [],
   "source": [
    "# Check card4 values (card brands)\n",
    "card4_values = df_transaction['card4'].value_counts()\n",
    "\n",
    "# Check card6 values (card categories)\n",
    "card6_values = df_transaction['card6'].value_counts()"
   ]
  },
  {
   "cell_type": "code",
   "execution_count": 410,
   "id": "8900c51a",
   "metadata": {},
   "outputs": [
    {
     "data": {
      "text/plain": [
       "np.int64(7)"
      ]
     },
     "execution_count": 410,
     "metadata": {},
     "output_type": "execute_result"
    }
   ],
   "source": [
    "df_transaction[df_transaction[\"card4\"].isna()][\"isFraud\"].count()"
   ]
  },
  {
   "cell_type": "code",
   "execution_count": null,
   "id": "fadc5268",
   "metadata": {},
   "outputs": [
    {
     "data": {
      "text/plain": [
       "np.int64(2)"
      ]
     },
     "execution_count": 411,
     "metadata": {},
     "output_type": "execute_result"
    }
   ],
   "source": [
    "missing_card4_count = df_transaction[df_transaction[\"card4\"].isna()][\"isFraud\"].sum()"
   ]
  },
  {
   "cell_type": "code",
   "execution_count": 407,
   "id": "be1fb4a7",
   "metadata": {},
   "outputs": [],
   "source": [
    "missing_card4_fraud_rate = df_transaction[df_transaction[\"card4\"].isna()][\"isFraud\"].mean() * 100"
   ]
  },
  {
   "cell_type": "code",
   "execution_count": 408,
   "id": "ca556a4a",
   "metadata": {},
   "outputs": [
    {
     "data": {
      "text/plain": [
       "np.float64(28.57142857142857)"
      ]
     },
     "execution_count": 408,
     "metadata": {},
     "output_type": "execute_result"
    }
   ],
   "source": [
    "missing_card4_fraud_rate"
   ]
  },
  {
   "cell_type": "code",
   "execution_count": 412,
   "id": "eae893ca",
   "metadata": {},
   "outputs": [],
   "source": [
    "# Fraud by card brand\n",
    "fraud_by_card4 = df_transaction.groupby('card4')['isFraud'].agg(['mean', 'count'])\n",
    "fraud_by_card4.columns = ['Fraud_Rate', 'Count']\n",
    "fraud_by_card4['Fraud_Rate'] = fraud_by_card4['Fraud_Rate'] * 100\n",
    "fraud_by_card4 = fraud_by_card4.sort_values('Fraud_Rate', ascending=False)\n"
   ]
  },
  {
   "cell_type": "code",
   "execution_count": 413,
   "id": "34ace994",
   "metadata": {},
   "outputs": [
    {
     "data": {
      "text/html": [
       "<div>\n",
       "<style scoped>\n",
       "    .dataframe tbody tr th:only-of-type {\n",
       "        vertical-align: middle;\n",
       "    }\n",
       "\n",
       "    .dataframe tbody tr th {\n",
       "        vertical-align: top;\n",
       "    }\n",
       "\n",
       "    .dataframe thead th {\n",
       "        text-align: right;\n",
       "    }\n",
       "</style>\n",
       "<table border=\"1\" class=\"dataframe\">\n",
       "  <thead>\n",
       "    <tr style=\"text-align: right;\">\n",
       "      <th></th>\n",
       "      <th>Fraud_Rate</th>\n",
       "      <th>Count</th>\n",
       "    </tr>\n",
       "    <tr>\n",
       "      <th>card4</th>\n",
       "      <th></th>\n",
       "      <th></th>\n",
       "    </tr>\n",
       "  </thead>\n",
       "  <tbody>\n",
       "    <tr>\n",
       "      <th>mastercard</th>\n",
       "      <td>2.881854</td>\n",
       "      <td>29599</td>\n",
       "    </tr>\n",
       "    <tr>\n",
       "      <th>discover</th>\n",
       "      <td>2.530780</td>\n",
       "      <td>1462</td>\n",
       "    </tr>\n",
       "    <tr>\n",
       "      <th>visa</th>\n",
       "      <td>2.486205</td>\n",
       "      <td>65602</td>\n",
       "    </tr>\n",
       "    <tr>\n",
       "      <th>american express</th>\n",
       "      <td>1.141141</td>\n",
       "      <td>3330</td>\n",
       "    </tr>\n",
       "  </tbody>\n",
       "</table>\n",
       "</div>"
      ],
      "text/plain": [
       "                  Fraud_Rate  Count\n",
       "card4                              \n",
       "mastercard          2.881854  29599\n",
       "discover            2.530780   1462\n",
       "visa                2.486205  65602\n",
       "american express    1.141141   3330"
      ]
     },
     "execution_count": 413,
     "metadata": {},
     "output_type": "execute_result"
    }
   ],
   "source": [
    "fraud_by_card4 "
   ]
  },
  {
   "cell_type": "code",
   "execution_count": 417,
   "id": "10f38b26",
   "metadata": {},
   "outputs": [
    {
     "data": {
      "image/png": "[encoded data removed]",
      "text/plain": [
       "<Figure size 1000x500 with 1 Axes>"
      ]
     },
     "metadata": {},
     "output_type": "display_data"
    }
   ],
   "source": [
    "plt.figure(figsize=(10,5))\n",
    "labels = fraud_by_card4.index.tolist()\n",
    "colors = sns.color_palette(\"viridis\", len(labels))\n",
    "plt.bar(labels, fraud_by_card4['Fraud_Rate'], color=colors)\n",
    "plt.title('Fraud Rate by Card Brand (card4)', fontsize=14, fontweight='bold')\n",
    "plt.xlabel('Fraud Rate (%)', fontsize=12)\n",
    "plt.show()"
   ]
  },
  {
   "cell_type": "code",
   "execution_count": 414,
   "id": "07ef0e60",
   "metadata": {},
   "outputs": [],
   "source": [
    "# Fraud by card type  \n",
    "fraud_by_card6 = df_transaction.groupby('card6')['isFraud'].agg(['mean', 'count'])\n",
    "fraud_by_card6.columns = ['Fraud_Rate', 'Count']\n",
    "fraud_by_card6['Fraud_Rate'] = fraud_by_card6['Fraud_Rate'] * 100\n",
    "fraud_by_card6 = fraud_by_card6.sort_values('Fraud_Rate', ascending=False)"
   ]
  },
  {
   "cell_type": "code",
   "execution_count": 415,
   "id": "1485783b",
   "metadata": {},
   "outputs": [
    {
     "data": {
      "text/html": [
       "<div>\n",
       "<style scoped>\n",
       "    .dataframe tbody tr th:only-of-type {\n",
       "        vertical-align: middle;\n",
       "    }\n",
       "\n",
       "    .dataframe tbody tr th {\n",
       "        vertical-align: top;\n",
       "    }\n",
       "\n",
       "    .dataframe thead th {\n",
       "        text-align: right;\n",
       "    }\n",
       "</style>\n",
       "<table border=\"1\" class=\"dataframe\">\n",
       "  <thead>\n",
       "    <tr style=\"text-align: right;\">\n",
       "      <th></th>\n",
       "      <th>Fraud_Rate</th>\n",
       "      <th>Count</th>\n",
       "    </tr>\n",
       "    <tr>\n",
       "      <th>card6</th>\n",
       "      <th></th>\n",
       "      <th></th>\n",
       "    </tr>\n",
       "  </thead>\n",
       "  <tbody>\n",
       "    <tr>\n",
       "      <th>credit</th>\n",
       "      <td>3.599236</td>\n",
       "      <td>35063</td>\n",
       "    </tr>\n",
       "    <tr>\n",
       "      <th>debit</th>\n",
       "      <td>1.997751</td>\n",
       "      <td>64923</td>\n",
       "    </tr>\n",
       "    <tr>\n",
       "      <th>charge card</th>\n",
       "      <td>0.000000</td>\n",
       "      <td>3</td>\n",
       "    </tr>\n",
       "    <tr>\n",
       "      <th>debit or credit</th>\n",
       "      <td>0.000000</td>\n",
       "      <td>7</td>\n",
       "    </tr>\n",
       "  </tbody>\n",
       "</table>\n",
       "</div>"
      ],
      "text/plain": [
       "                 Fraud_Rate  Count\n",
       "card6                             \n",
       "credit             3.599236  35063\n",
       "debit              1.997751  64923\n",
       "charge card        0.000000      3\n",
       "debit or credit    0.000000      7"
      ]
     },
     "execution_count": 415,
     "metadata": {},
     "output_type": "execute_result"
    }
   ],
   "source": [
    "fraud_by_card6"
   ]
  },
  {
   "cell_type": "code",
   "execution_count": 425,
   "id": "5ebc487b",
   "metadata": {},
   "outputs": [
    {
     "data": {
      "text/plain": [
       "Text(0.5, 0, 'Fraud Rate (%)')"
      ]
     },
     "execution_count": 425,
     "metadata": {},
     "output_type": "execute_result"
    },
    {
     "data": {
      "image/png": "[encoded data removed]",
      "text/plain": [
       "<Figure size 1000x500 with 1 Axes>"
      ]
     },
     "metadata": {},
     "output_type": "display_data"
    }
   ],
   "source": [
    "plt.figure(figsize=(10,5))\n",
    "labels = fraud_by_card4.index.tolist()\n",
    "colors = sns.color_palette(\"muted\", len(labels))\n",
    "plt.bar(labels, fraud_by_card4['Fraud_Rate'], color=colors)\n",
    "plt.title('Fraud Rate by Card Brand (card4)', fontsize=14, fontweight='bold')\n",
    "plt.xlabel('Fraud Rate (%)', fontsize=12)   \n",
    "\n"
   ]
  },
  {
   "cell_type": "markdown",
   "id": "1bba676f",
   "metadata": {},
   "source": [
    "# Fraud Detection - Exploratory Data Analysis Summary\n",
    "\n",
    "## 1. Dataset Overview\n",
    "\n",
    "**Dataset:** IEEE-CIS Fraud Detection (Vesta Corporation)\n",
    "- **Sample Size:** 100,000 transactions (from 590k total)\n",
    "- **Time Period:** 6 months of e-commerce transactions\n",
    "- **Target Variable:** isFraud (binary: 0 = legitimate, 1 = fraud)\n",
    "- **Features:** 394 columns\n",
    "- **Class Distribution:** \n",
    "  - Legitimate: 97,439 (97.44%)\n",
    "  - Fraud: 2,561 (2.56%)\n",
    "  - **Imbalance Ratio:** 1:38\n",
    "\n",
    "**Key Implication:** Accuracy is a misleading metric. Must use Precision, Recall, F1-score, and ROC-AUC.\n",
    "\n",
    "---\n",
    "\n",
    "## 2. Transaction Amount Analysis\n",
    "\n",
    "### Key Findings:\n",
    "- **Average Transaction Amount:**\n",
    "  - Normal transactions: $130.66\n",
    "  - Fraudulent transactions: $133.76\n",
    "  - *Amount alone is weak predictor*\n",
    "\n",
    "### Fraud Rate by Amount Range:\n",
    "\n",
    "| Amount Range | Fraud Rate | Insight |\n",
    "|--------------|-----------|---------|\n",
    "| $0-$50 | 2.37% | Below baseline |\n",
    "| $50-$100 | 2.49% | Near baseline |\n",
    "| **$100-$500** | **2.89%** | **HIGHEST - Fraudster sweet spot** |\n",
    "| $500-$1000 | 2.29% | Below baseline |\n",
    "| $1000+ | 1.50% | LOWEST - Safer range |\n",
    "\n",
    "### Business Insight:\n",
    "Fraudsters target the $100-500 range because:\n",
    "- High enough to be profitable\n",
    "- Low enough to avoid automatic flags\n",
    "- Blends into normal purchase patterns\n",
    "\n",
    "**Recommendation:** Apply extra scrutiny to $100-500 transactions, especially when combined with other risk factors.\n",
    "\n",
    "---\n",
    "\n",
    "## 3. Temporal Analysis\n",
    "\n",
    "### 3.1 Hour of Day Patterns\n",
    "\n",
    "**High-Risk Hours (4am-9am):**\n",
    "- Peak fraud rate: 5.2% at hour 8-9 (2x baseline)\n",
    "- Low transaction volume (fewer legitimate customers)\n",
    "- Cardholders sleeping, fraud teams understaffed\n",
    "\n",
    "**Low-Risk Hours (1pm-5pm):**\n",
    "- Lowest fraud rate: 1.3% at hour 13 (half baseline)\n",
    "- High transaction volume\n",
    "- Cardholders alert, full team coverage\n",
    "\n",
    "**Key Insight:** Inverse relationship between transaction volume and fraud rate\n",
    "\n",
    "### 3.2 Day of Week Patterns\n",
    "\n",
    "| Day | Fraud Rate | Insight |\n",
    "|-----|-----------|---------|\n",
    "| Monday | 2.94% | HIGHEST |\n",
    "| Tuesday | 2.86% | High |\n",
    "| Wednesday | 2.41% | Below baseline |\n",
    "| **Thursday** | **2.32%** | **LOWEST** |\n",
    "| Friday | 2.72% | Moderate |\n",
    "| Saturday | 2.36% | Low |\n",
    "| Sunday | 2.52% | Near baseline |\n",
    "\n",
    "**Pattern:** Early week (Mon-Tue) riskiest; weekends safer despite higher volume\n",
    "\n",
    "### 3.3 Combined Temporal Risk Score\n",
    "\n",
    "Created 5-level risk categorization based on hour + day patterns:\n",
    "\n",
    "| Category | Fraud Rate | Transaction Count | Strategy |\n",
    "|----------|-----------|------------------|----------|\n",
    "| Very High | 4.76% | 168 | Manual review + 2FA |\n",
    "| High | 4.33% | 6,681 | 2FA required |\n",
    "| Medium | 2.59% | 72,354 | Standard checks |\n",
    "| Low | 1.93% | 18,945 | Light monitoring |\n",
    "| Very Low | 1.30% | 1,852 | Fast-track approval |\n",
    "\n",
    "---\n",
    "\n",
    "## 4. Missing Data Assessment\n",
    "\n",
    "**Overall:** 319 out of 394 columns have missing data\n",
    "\n",
    "### Breakdown by Severity:\n",
    "\n",
    "| Severity | Missing % | Column Count | Action Plan |\n",
    "|----------|-----------|-------------|-------------|\n",
    "| Low | <5% | 37 | Drop rows or simple imputation |\n",
    "| Moderate | 5-60% | 109 | Create \"is_missing\" flags |\n",
    "| Severe | >60% | 173 | Test predictiveness |\n",
    "\n",
    "### Critical Discovery: Predictive Missingness\n",
    "\n",
    "**Example - D7 Column (93.9% missing):**\n",
    "- D7 missing: 2.03% fraud rate (SAFE)\n",
    "- D7 present: 10.77% fraud rate (5x HIGHER!)\n",
    "\n",
    "**Insight:** Missing values themselves can be predictive signals. Instead of dropping, create \"is_missing\" binary features.\n",
    "\n",
    "---\n",
    "\n",
    "## 5. Product Type Analysis\n",
    "\n",
    "### Fraud Rate by Product:\n",
    "\n",
    "| Product | Avg Amount | Fraud Rate | Transaction Count | Risk Level |\n",
    "|---------|-----------|-----------|------------------|-----------|\n",
    "| **C** | **$49** | **8.78%** | **11,351** | **CRITICAL** |\n",
    "| S | $58 | 2.34% | 2,526 | Low |\n",
    "| H | $72 | 1.98% | 15,521 | Low |\n",
    "| W | $153 | 1.85% | 56,878 | Low |\n",
    "| R | $188 | 1.08% | 13,724 | Very Low |\n",
    "\n",
    "### Product C Deep Dive:\n",
    "\n",
    "**Characteristics:**\n",
    "- Lowest average transaction amount ($49)\n",
    "- Highest fraud rate (8.78% - 3.4x baseline)\n",
    "- Nighttime product (peak volume 11pm-1am)\n",
    "\n",
    "**Fraud Timing Anomaly:**\n",
    "- Overall pattern: Fraud peaks 4am-9am\n",
    "- Product C pattern: Fraud peaks 10am-2pm (18% fraud rate at 2pm!)\n",
    "- Low-volume daytime hours = highest fraud\n",
    "\n",
    "**Theory:** \n",
    "- Likely digital goods/gift cards (easy to monetize)\n",
    "- Legitimate customers shop at night\n",
    "- Fraudsters operate during day (their \"work hours\")\n",
    "- Small amounts bypass automatic fraud thresholds\n",
    "\n",
    "---\n",
    "\n",
    "## 6. Email Domain Analysis\n",
    "\n",
    "### 6.1 Purchaser Email (P_emaildomain)\n",
    "\n",
    "**Riskiest Domains:**\n",
    "| Domain | Fraud Rate | Count | Type |\n",
    "|--------|-----------|-------|------|\n",
    "| **outlook.com** | **6.91%** | 767 | Free email |\n",
    "| **hotmail.com** | **4.63%** | 8,119 | Free email |\n",
    "| icloud.com | 3.58% | 8,894 | Apple |\n",
    "| gmail.com | 3.52% | 36,290 | Free email |\n",
    "\n",
    "**Safest Domains:**\n",
    "| Domain | Fraud Rate | Count | Type |\n",
    "|--------|-----------|-------|------|\n",
    "| att.net | 0.86% | 3,694 | ISP |\n",
    "| comcast.net | 0.86% | 1,856 | ISP |\n",
    "\n",
    "**Insight:** ISP emails 8x safer than Outlook (require paid subscription, harder to fake)\n",
    "\n",
    "### 6.2 Email Match Analysis\n",
    "\n",
    "**Critical Finding:**\n",
    "\n",
    "| Pattern | Fraud Rate | Count | Insight |\n",
    "|---------|-----------|-------|---------|\n",
    "| **P = R (same email)** | **5.17%** | 25,132 | **High risk** |\n",
    "| P ≠ R (different emails) | 1.69% | 74,868 | Low risk (gifts) |\n",
    "\n",
    "**Explanation:** \n",
    "- P ≠ R is normal for gift purchases (75% of transactions)\n",
    "- P = R is unusual in gift-heavy dataset → indicates possible fraud\n",
    "\n",
    "---\n",
    "\n",
    "## 7. Card Information Analysis\n",
    "\n",
    "### 7.1 Card Type (card6)\n",
    "\n",
    "| Type | Fraud Rate | Count | Risk Multiplier |\n",
    "|------|-----------|-------|----------------|\n",
    "| **Credit** | **3.60%** | 35,063 | **1.8x baseline** |\n",
    "| Debit | 2.00% | 64,923 | Below baseline |\n",
    "\n",
    "**Why Credit Riskier:**\n",
    "- No immediate balance check\n",
    "- Higher credit limits\n",
    "- Easier to use for online fraud\n",
    "- Delayed detection\n",
    "\n",
    "### 7.2 Card Brand (card4)\n",
    "\n",
    "| Brand | Fraud Rate | Count | Insight |\n",
    "|-------|-----------|-------|---------|\n",
    "| **Mastercard** | **2.88%** | 29,599 | Highest risk |\n",
    "| Discover | 2.53% | 1,462 | Above baseline |\n",
    "| Visa | 2.49% | 65,602 | Near baseline |\n",
    "| **American Express** | **1.14%** | 3,330 | **SAFEST** |\n",
    "\n",
    "**American Express Anomaly:**\n",
    "- Lowest fraud despite low volume (breaks meta-pattern)\n",
    "- Premium card = stricter approval, wealthier customers\n",
    "- Better fraud detection systems\n",
    "- Harder for fraudsters to obtain\n",
    "\n",
    "---\n",
    "\n",
    "## 8. Meta-Pattern Discovery\n",
    "\n",
    "### Universal Pattern: \"Low Volume/Unusual Behavior = High Fraud\"\n",
    "\n",
    "This pattern held across multiple features:\n",
    "\n",
    "| Feature | Low Volume Example | High Volume Example |\n",
    "|---------|-------------------|-------------------|\n",
    "| **Hour** | 4am-9am: 5.2% fraud | 1pm-5pm: 1.3% fraud |\n",
    "| **Product C Hour** | 2pm: 18% fraud | 11pm: 9% fraud |\n",
    "| **Amount** | $100-500: 2.89% fraud | $1000+: 1.50% fraud |\n",
    "| **Email Match** | P=R: 5.17% fraud | P≠R: 1.69% fraud |\n",
    "\n",
    "**Exception:** American Express (low volume + premium security = low fraud)\n",
    "\n",
    "**Insight:** Fraudsters struggle when:\n",
    "- High transaction volumes make detection easier\n",
    "- Normal customer patterns are well-established\n",
    "- Unusual behavior triggers alerts\n",
    "\n",
    "---\n",
    "\n",
    "## 9. Compound Risk Factors\n",
    "\n",
    "### High-Risk Transaction Profile:\n",
    "\n",
    "**Maximum Risk Scenario:**\n",
    "- Product C purchase\n",
    "- Amount: $100-500\n",
    "- Time: 2pm on Monday\n",
    "- Email: outlook.com with P = R\n",
    "- Card: Mastercard credit card\n",
    "\n",
    "**Estimated Combined Risk:** 15-20% fraud probability\n",
    "\n",
    "### Low-Risk Transaction Profile:\n",
    "\n",
    "**Minimum Risk Scenario:**\n",
    "- Product R purchase\n",
    "- Amount: $1000+\n",
    "- Time: 3pm on Thursday\n",
    "- Email: ISP domain (att.net) with P ≠ R\n",
    "- Card: American Express debit\n",
    "\n",
    "**Estimated Combined Risk:** <0.5% fraud probability\n",
    "\n",
    "---\n",
    "\n",
    "## 10. Business Recommendations\n",
    "\n",
    "### Risk-Based Authentication Strategy:\n",
    "\n",
    "#### Very High Risk (>4% fraud rate):\n",
    "- **Triggers:** Product C + early morning + Outlook email + credit card\n",
    "- **Action:** Manual review + 2FA + additional verification\n",
    "- **Volume:** ~168 transactions (manageable)\n",
    "\n",
    "#### High Risk (3-4% fraud rate):\n",
    "- **Triggers:** Credit card + early morning OR Product C + medium amount\n",
    "- **Action:** Automated 2FA required\n",
    "- **Volume:** ~6,681 transactions\n",
    "\n",
    "#### Medium Risk (2-3% fraud rate):\n",
    "- **Triggers:** Standard transactions near baseline\n",
    "- **Action:** Standard automated fraud checks\n",
    "- **Volume:** ~72,354 transactions (majority)\n",
    "\n",
    "#### Low Risk (<2% fraud rate):\n",
    "- **Triggers:** ISP email + debit + afternoon + Product R\n",
    "- **Action:** Streamlined approval, minimal friction\n",
    "- **Volume:** ~20,797 transactions\n",
    "\n",
    "### Product-Specific Rules:\n",
    "\n",
    "**Product C (High Risk):**\n",
    "- Extra scrutiny during 10am-2pm window\n",
    "- Lower approval thresholds\n",
    "- Require additional verification for first-time buyers\n",
    "\n",
    "**Products R, W, H (Low Risk):**\n",
    "- Standard processing\n",
    "- Focus resources elsewhere\n",
    "\n",
    "---\n",
    "\n",
    "## 11. Key Takeaways for Model Building\n",
    "\n",
    "### Feature Engineering Priorities:\n",
    "\n",
    "1. **Temporal features:**\n",
    "   - Hour risk score\n",
    "   - Day risk score  \n",
    "   - Combined temporal risk category\n",
    "   - Is_weekend flag\n",
    "\n",
    "2. **Missing data features:**\n",
    "   - Create \"is_missing\" flags for D columns\n",
    "   - Test other high-missing columns for predictiveness\n",
    "\n",
    "3. **Interaction features:**\n",
    "   - Product × Hour (especially Product C × daytime)\n",
    "   - Amount × Hour (small amounts at risky times)\n",
    "   - Email match × Product (P=R with Product C)\n",
    "   - Card type × Amount\n",
    "\n",
    "4. **Email features:**\n",
    "   - Email domain risk score\n",
    "   - P = R match flag\n",
    "   - Free email vs ISP flag\n",
    "\n",
    "5. **Product features:**\n",
    "   - Product risk score\n",
    "   - Product-specific hour patterns\n",
    "\n",
    "### Model Evaluation Strategy:\n",
    "\n",
    "**Do NOT use accuracy** (would get 97.44% by predicting all transactions as legitimate!)\n",
    "\n",
    "**Use instead:**\n",
    "- **Precision:** Of flagged frauds, how many are actually fraud?\n",
    "- **Recall:** Of actual frauds, how many did we catch?\n",
    "- **F1-Score:** Balance between precision and recall\n",
    "- **ROC-AUC:** Overall model discrimination ability\n",
    "- **Business metrics:** Cost of missed fraud vs false alarms\n",
    "\n",
    "### Class Imbalance Handling:\n",
    "\n",
    "Must address 1:38 imbalance ratio:\n",
    "- SMOTE (Synthetic Minority Over-sampling)\n",
    "- Random undersampling of majority class\n",
    "- Class weights in model training\n",
    "- Ensemble methods\n",
    "- Threshold optimization for business objectives\n",
    "\n",
    "---\n",
    "\n",
    "## 12. Conclusion\n",
    "\n",
    "This EDA revealed that **fraud is not random** - it follows clear, exploitable patterns:\n",
    "\n",
    "✅ **Temporal patterns:** Fraudsters operate during low-vigilance hours\n",
    "✅ **Product patterns:** Certain products (C) are targeted heavily  \n",
    "✅ **Amount patterns:** Medium-value transactions are sweet spot\n",
    "✅ **Email patterns:** Free, easy-to-create emails are preferred\n",
    "✅ **Card patterns:** Credit cards more vulnerable than debit\n",
    "\n",
    "**Most importantly:** Multiple risk factors compound. A single red flag might be acceptable, but combinations dramatically increase fraud probability.\n",
    "\n",
    "**Next Steps:** Build features based on these insights and train models to predict fraud in real-time, with business-appropriate thresholds balancing fraud prevention and customer experience.\n",
    "\n",
    "---\n",
    "\n",
    "*Analysis conducted on 100,000 transaction sample*\n",
    "*Date: [25/10/2025]*"
   ]
  },
  {
   "cell_type": "markdown",
   "id": "99e777f2",
   "metadata": {},
   "source": []
  }
 ],
 "metadata": {
  "kernelspec": {
   "display_name": "fraud_env",
   "language": "python",
   "name": "python3"
  },
  "language_info": {
   "codemirror_mode": {
    "name": "ipython",
    "version": 3
   },
   "file_extension": ".py",
   "mimetype": "text/x-python",
   "name": "python",
   "nbconvert_exporter": "python",
   "pygments_lexer": "ipython3",
   "version": "3.13.7"
  }
 },
 "nbformat": 4,
 "nbformat_minor": 5
}
